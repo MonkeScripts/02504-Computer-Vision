{
 "cells": [
  {
   "cell_type": "code",
   "execution_count": 1,
   "id": "6252d176",
   "metadata": {},
   "outputs": [],
   "source": [
    "import numpy as np\n",
    "import matplotlib.pyplot as plt\n",
    "import cv2"
   ]
  },
  {
   "cell_type": "code",
   "execution_count": 5,
   "id": "4ea5ad36",
   "metadata": {},
   "outputs": [],
   "source": [
    "from scipy.ndimage import maximum_filter"
   ]
  },
  {
   "cell_type": "markdown",
   "id": "d4307046",
   "metadata": {},
   "source": [
    "![images](images/Qn1.png)"
   ]
  },
  {
   "cell_type": "code",
   "execution_count": 8,
   "id": "b8eabcb4",
   "metadata": {},
   "outputs": [
    {
     "data": {
      "text/plain": [
       "(array([[16.8, 18.5, 20. , 20.8, 20.6],\n",
       "        [21. , 23.4, 25.5, 26.7, 26.5],\n",
       "        [25.8, 29. , 31.8, 33.4, 33.2],\n",
       "        [30.4, 34.4, 37.9, 39.9, 39.7],\n",
       "        [33.9, 38.6, 42.7, 45.1, 44.9]]),\n",
       " array([[35.2, 31.8, 27.1, 22. , 17.6],\n",
       "        [33.3, 30.2, 25.9, 21.4, 17.4],\n",
       "        [29.3, 26.8, 23.3, 19.5, 16.2],\n",
       "        [24.4, 22.5, 19.8, 16.9, 14.6],\n",
       "        [19.5, 18.2, 16.3, 14.4, 12.8]]),\n",
       " array([[-6.5, -6.3, -5.2, -3.3, -1. ],\n",
       "        [-6.7, -6.9, -6. , -4.1, -1.6],\n",
       "        [-6.5, -7.1, -6.4, -4.7, -2.3],\n",
       "        [-5.9, -6.7, -6.3, -4.9, -2.8],\n",
       "        [-4.8, -5.7, -5.7, -4.8, -3.2]]))"
      ]
     },
     "execution_count": 8,
     "metadata": {},
     "output_type": "execute_result"
    }
   ],
   "source": [
    "harris = np.load(\"harris.npy\", allow_pickle=True).item()\n",
    "Ix_Ix = harris['g*(I_x^2)']\n",
    "Iy_Iy = harris['g*(I_y^2)']\n",
    "Ix_Iy = harris['g*(I_x I_y)']\n",
    "k = 0.06 \n",
    "tau = 516\n",
    "Ix_Ix, Iy_Iy, Ix_Iy"
   ]
  },
  {
   "cell_type": "code",
   "execution_count": 10,
   "id": "2fb43246",
   "metadata": {},
   "outputs": [
    {
     "data": {
      "text/plain": [
       "array([[2, 1]])"
      ]
     },
     "execution_count": 10,
     "metadata": {},
     "output_type": "execute_result"
    }
   ],
   "source": [
    "structure_tensor = np.asarray([[Ix_Ix, Ix_Iy], [Ix_Iy, Iy_Iy]])\n",
    "a = structure_tensor[0, 0]\n",
    "b = structure_tensor[1, 1]\n",
    "c = structure_tensor[0, 1]\n",
    "harris_measure = a * b - c**2 - k * (a + b) ** 2\n",
    "\n",
    "footprint = np.ones((3, 3), dtype=bool)\n",
    "harris_max = maximum_filter(harris_measure, footprint=footprint, mode=\"constant\", cval=0.0)\n",
    "local_maxima = (harris_measure == harris_max) & (harris_measure > tau)\n",
    "corner_coords = np.where(local_maxima)\n",
    "c = np.column_stack((corner_coords[0], corner_coords[1]))\n",
    "c\n"
   ]
  },
  {
   "cell_type": "markdown",
   "id": "e46f057f",
   "metadata": {},
   "source": [
    "![images](images/Qn2.png)"
   ]
  },
  {
   "cell_type": "markdown",
   "id": "84bfdcef",
   "metadata": {},
   "source": [
    "## Background context"
   ]
  },
  {
   "cell_type": "code",
   "execution_count": null,
   "id": "4c051e87",
   "metadata": {},
   "outputs": [],
   "source": [
    "def gaussian1DKernel(sigma: int, length: int = 5):\n",
    "    \"\"\"\n",
    "    Generate the 1D gaussian kernel and its derivative\n",
    "    Args:\n",
    "        sigma (int): gaussian width\n",
    "        length (int): length of the Gaussian kernel\n",
    "\n",
    "    Return:\n",
    "        g (np.array): gaussian kernel\n",
    "        gd (np.array): derivative of gaussian kernel, g\n",
    "    \"\"\"\n",
    "    x = np.arange(-np.ceil(length * sigma), np.ceil(length * sigma) + 1)\n",
    "    constant = 1.0 / (np.sqrt(2 * np.pi) * sigma)\n",
    "    g = constant * np.exp(-(x**2) / (2 * sigma**2))\n",
    "    g /= g.sum()\n",
    "    gd = (-x / sigma**2) * g\n",
    "    return g, gd\n",
    "\n",
    "\n",
    "g, gd = gaussian1DKernel(3, 5)\n",
    "print(g.shape, gd.shape)\n",
    "plt.plot(g)\n",
    "plt.plot(gd)"
   ]
  },
  {
   "cell_type": "code",
   "execution_count": null,
   "id": "c7783fa8",
   "metadata": {},
   "outputs": [],
   "source": [
    "# # Flip channel due to legacy reasons\n",
    "# im = cv2.imread(file)[:, :, ::-1]\n",
    "def gaussianSmoothing(im: np.array, sigma: int):\n",
    "    \"\"\"\n",
    "    Generate the gaussian smoothed image and its smoothed derivative in x and y direction\n",
    "    Args:\n",
    "        im (np.array): image to be smoothed\n",
    "        sigma (int): gaussian width\n",
    "\n",
    "    Return:\n",
    "        I (np.array): gaussian smoothed image\n",
    "        Ix (np.array): smoothed derivative of image im in x direction\n",
    "        Iy (np.array): smoothed derivative of image im in y direction\n",
    "    \"\"\"\n",
    "    g, gd = gaussian1DKernel(sigma)\n",
    "    I = cv2.sepFilter2D(im, -1, g, g)\n",
    "    Ix = cv2.sepFilter2D(im, -1, gd, g)\n",
    "    Iy = cv2.sepFilter2D(im, -1, g, gd)\n",
    "    return I, Ix, Iy"
   ]
  },
  {
   "cell_type": "code",
   "execution_count": null,
   "id": "d1742329",
   "metadata": {},
   "outputs": [],
   "source": [
    "def structureTensor(im: np.array, sigma: int, epsilon: int):\n",
    "    \"\"\"\n",
    "    Generate the structure tensor. We use two Gaussian widths in this function: sigma and epsilon. The first one sigma is used\n",
    "    to calculate the derivatives and the second one to calculate the structure tensor.\n",
    "    Args:\n",
    "        im (np.array): image\n",
    "        sigma (int): first gaussian width\n",
    "        epsilon (int): second gaussian width\n",
    "\n",
    "    Return:\n",
    "        C (np.array): structure tensor, also referred to as the second-moment matrix, is a matrix derived from the gradient of a function. It describes the distribution of the gradient in a specified neighborhood around a point and makes the information invariant to the observing coordinates.\n",
    "    \"\"\"\n",
    "    _, Ix, Iy = gaussianSmoothing(im, sigma)\n",
    "    g_eps, _ = gaussian1DKernel(epsilon)\n",
    "    C = np.asarray(\n",
    "        [\n",
    "            [\n",
    "                cv2.sepFilter2D(Ix**2, -1, g_eps, g_eps),\n",
    "                cv2.sepFilter2D(Ix * Iy, -1, g_eps, g_eps),\n",
    "            ],\n",
    "            [\n",
    "                cv2.sepFilter2D(Ix * Iy, -1, g_eps, g_eps),\n",
    "                cv2.sepFilter2D(Iy**2, -1, g_eps, g_eps),\n",
    "            ],\n",
    "        ]\n",
    "    )\n",
    "    return C"
   ]
  },
  {
   "cell_type": "code",
   "execution_count": null,
   "id": "d41864da",
   "metadata": {},
   "outputs": [],
   "source": [
    "def harrisMeasure(im: np.array, sigma: int, epsilon: int, k: float):\n",
    "    \"\"\"\n",
    "    Generate a measure how likely a pixel is a corner\n",
    "    Args:\n",
    "        im (np.array): image\n",
    "        sigma (int): first gaussian width\n",
    "        epsilon (int): second gaussian width\n",
    "        k (float): free parameter for corner detection\n",
    "\n",
    "    Return:\n",
    "        r (np.array): a measure how likely a pixel is a corner\n",
    "    \"\"\"\n",
    "    C = structureTensor(im, sigma, epsilon)\n",
    "    a = C[0, 0]\n",
    "    b = C[1, 1]\n",
    "    c = C[0, 1]\n",
    "    r = a * b - c**2 - k * (a + b) ** 2\n",
    "    return r"
   ]
  },
  {
   "cell_type": "code",
   "execution_count": null,
   "id": "72492786",
   "metadata": {},
   "outputs": [],
   "source": [
    "def cornerDetector(im: np.array, sigma: int, epsilon: int, k: float, tau: float):\n",
    "    \"\"\"\n",
    "    Detect corners in an image\n",
    "    Args:\n",
    "        im (np.array): image to be smoothed\n",
    "        sigma (int): first gaussian width\n",
    "        epsilon (int): second gaussian width\n",
    "        k (float): free parameter for corner detection\n",
    "        tau (float): relative threshold\n",
    "\n",
    "    Return:\n",
    "        c (np.array): list of points where r is the local maximum and larger than tau\n",
    "    \"\"\"\n",
    "    r = harrisMeasure(im, sigma, epsilon, k)\n",
    "    footprint = np.ones((3, 3), dtype=bool)\n",
    "    r_max = maximum_filter(r, footprint=footprint, mode=\"constant\", cval=0.0)\n",
    "    local_maxima = (r == r_max) & (r > tau)\n",
    "    corner_coords = np.where(local_maxima)\n",
    "    c = np.column_stack((corner_coords[0], corner_coords[1]))\n",
    "    return c"
   ]
  }
 ],
 "metadata": {
  "kernelspec": {
   "display_name": "computer-vision",
   "language": "python",
   "name": "python3"
  },
  "language_info": {
   "codemirror_mode": {
    "name": "ipython",
    "version": 3
   },
   "file_extension": ".py",
   "mimetype": "text/x-python",
   "name": "python",
   "nbconvert_exporter": "python",
   "pygments_lexer": "ipython3",
   "version": "3.13.3"
  }
 },
 "nbformat": 4,
 "nbformat_minor": 5
}
