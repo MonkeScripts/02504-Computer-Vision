{
 "cells": [
  {
   "cell_type": "code",
   "execution_count": 22,
   "id": "7d467db0",
   "metadata": {},
   "outputs": [],
   "source": [
    "import numpy as np\n",
    "import cv2\n"
   ]
  },
  {
   "cell_type": "markdown",
   "id": "b2215782",
   "metadata": {},
   "source": [
    "You are given three cameras (1, 2 and 3) that share the same camera matrix K and have the following extrinsics. \n",
    "You observe the same point in all three cameras, but with some noise. The\n",
    "observed points for cameras 1 to 3 are respectively:"
   ]
  },
  {
   "cell_type": "code",
   "execution_count": 23,
   "id": "7edc0864",
   "metadata": {},
   "outputs": [],
   "source": [
    "K = np.array([[900, 0, 1070], [0, 900, 610.0], [0, 0, 1]], float)\n",
    "R1 = cv2.Rodrigues(np.array([-1.6, 0.3, -2.1]))[0]\n",
    "t1 = np.array([[0.0], [1.0], [3.0]], float)\n",
    "R2 = cv2.Rodrigues(np.array([-0.4, -1.3, -1.6]))[0]\n",
    "t2 = np.array([[0.0], [1.0], [6.0]], float)\n",
    "R3 = cv2.Rodrigues(np.array([2.5, 1.7, -0.4]))[0]\n",
    "t3 = np.array([[2.0], [-7.0], [25.0]], float)"
   ]
  },
  {
   "cell_type": "code",
   "execution_count": 24,
   "id": "ca799743",
   "metadata": {},
   "outputs": [],
   "source": [
    "p1 = np.array([[1046.0], [453.0]])\n",
    "p2 = np.array([[1126.0], [671.0]])\n",
    "p3 = np.array([[1165.0], [453.0]])"
   ]
  },
  {
   "cell_type": "markdown",
   "id": "31747a51",
   "metadata": {},
   "source": [
    "How far is p2 from the epipolar line in camera 2 corresponding to p1?"
   ]
  },
  {
   "cell_type": "code",
   "execution_count": 25,
   "id": "d4e57ab2",
   "metadata": {},
   "outputs": [],
   "source": [
    "import sys\n",
    "import os\n",
    "\n",
    "# Get the absolute path to the parent directory containing \"02504 Computer Vision\"\n",
    "parent_dir = os.path.abspath(os.path.join(\"../../..\", \"02504-Computer-Vision\"))\n",
    "\n",
    "# Add it to sys.path\n",
    "if parent_dir not in sys.path:\n",
    "    sys.path.append(parent_dir)\n",
    "\n",
    "from utility import Pi, Piinv, skew, projectpoints, triangulate"
   ]
  },
  {
   "cell_type": "markdown",
   "id": "3c8ecba9",
   "metadata": {},
   "source": [
    "![relative](images/relative.png)"
   ]
  },
  {
   "cell_type": "code",
   "execution_count": 26,
   "id": "f6561f49",
   "metadata": {},
   "outputs": [
    {
     "data": {
      "text/plain": [
       "(array([[-0.00896299, -0.53095939, -0.84734986],\n",
       "        [ 0.94414643,  0.27464955, -0.18208552],\n",
       "        [ 0.32940427, -0.80165438,  0.49884174]]),\n",
       " array([[3.07300898],\n",
       "        [1.271607  ],\n",
       "        [5.30512918]]))"
      ]
     },
     "execution_count": 26,
     "metadata": {},
     "output_type": "execute_result"
    }
   ],
   "source": [
    "rot = R2 @ R1.T\n",
    "t = t2 - rot @ t1\n",
    "rot, t"
   ]
  },
  {
   "cell_type": "code",
   "execution_count": 27,
   "id": "c990182c",
   "metadata": {},
   "outputs": [
    {
     "data": {
      "text/plain": [
       "array([[-5.66660003e-06, -3.05733414e-06,  9.70636677e-03],\n",
       "       [-1.30841003e-06, -4.36193890e-07, -5.03197367e-03],\n",
       "       [ 1.00978009e-02,  5.22539492e-03, -1.12909814e+01]])"
      ]
     },
     "execution_count": 27,
     "metadata": {},
     "output_type": "execute_result"
    }
   ],
   "source": [
    "E = skew(t) @ rot\n",
    "F = np.linalg.inv(K.T) @ E @ np.linalg.inv(K)\n",
    "F"
   ]
  },
  {
   "cell_type": "code",
   "execution_count": 28,
   "id": "22e015a7",
   "metadata": {},
   "outputs": [
    {
     "data": {
      "text/plain": [
       "array([[ 0.00239413],\n",
       "       [-0.00659817],\n",
       "       [ 1.6384222 ]])"
      ]
     },
     "execution_count": 28,
     "metadata": {},
     "output_type": "execute_result"
    }
   ],
   "source": [
    "l = F @ Piinv(p1)\n",
    "l"
   ]
  },
  {
   "cell_type": "code",
   "execution_count": 29,
   "id": "79c6d661",
   "metadata": {},
   "outputs": [
    {
     "data": {
      "text/plain": [
       "array([13.27182907])"
      ]
     },
     "execution_count": 29,
     "metadata": {},
     "output_type": "execute_result"
    }
   ],
   "source": [
    "q = Piinv(p2)\n",
    "d = np.linalg.norm(l.T @ q) / (\n",
    "    np.linalg.norm(q[-1]) * np.sqrt(l[0] ** 2.0 + l[1] ** 2.0)\n",
    ")\n",
    "d"
   ]
  },
  {
   "cell_type": "markdown",
   "id": "a9e47b6e",
   "metadata": {},
   "source": [
    "## Alternative code"
   ]
  },
  {
   "cell_type": "code",
   "execution_count": 30,
   "id": "54bf8b60",
   "metadata": {},
   "outputs": [
    {
     "name": "stdout",
     "output_type": "stream",
     "text": [
      "Distance from p2 to the epipolar line: 13.271829 pixels\n"
     ]
    }
   ],
   "source": [
    "import numpy as np\n",
    "import cv2\n",
    "\n",
    "# Camera intrinsic matrix\n",
    "K = np.array([[900, 0, 1070], [0, 900, 610.0], [0, 0, 1]], float)\n",
    "\n",
    "# Camera 1 pose\n",
    "R1 = cv2.Rodrigues(np.array([-1.6, 0.3, -2.1]))[0]\n",
    "t1 = np.array([[0.0], [1.0], [3.0]], float)\n",
    "\n",
    "# Camera 2 pose\n",
    "R2 = cv2.Rodrigues(np.array([-0.4, -1.3, -1.6]))[0]\n",
    "t2 = np.array([[0.0], [1.0], [6.0]], float)\n",
    "\n",
    "# Points\n",
    "p1_homo = np.array([[1046.0], [453.0], [1.0]])  # Homogeneous\n",
    "p2_homo = np.array([[1126.0], [671.0], [1.0]])  # Homogeneous\n",
    "\n",
    "# Compute relative pose\n",
    "R1_inv = R1.T  # Inverse of rotation matrix is its transpose\n",
    "R_2to1 = R2 @ R1_inv\n",
    "t_2to1 = t2 - R2 @ R1_inv @ t1\n",
    "\n",
    "\n",
    "# Skew-symmetric matrix of t_2to1\n",
    "def skew_symmetric(t):\n",
    "    return np.array([[0, -t[2], t[1]], [t[2], 0, -t[0]], [-t[1], t[0], 0]], float)\n",
    "\n",
    "\n",
    "t_skew = skew_symmetric(t_2to1.flatten())\n",
    "\n",
    "# Compute K^-1 and K^-T\n",
    "K_inv = np.linalg.inv(K)\n",
    "K_inv_T = K_inv.T\n",
    "\n",
    "# Fundamental matrix\n",
    "F = K_inv_T @ t_skew @ R_2to1 @ K_inv\n",
    "\n",
    "# Epipolar line in camera 2\n",
    "l2 = F @ p1_homo\n",
    "\n",
    "# Distance from p2 to the epipolar line\n",
    "a, b, c = l2.flatten()\n",
    "distance = abs(a * 1126 + b * 671 + c) / np.sqrt(a**2 + b**2)\n",
    "\n",
    "print(f\"Distance from p2 to the epipolar line: {distance:.6f} pixels\")"
   ]
  },
  {
   "cell_type": "markdown",
   "id": "685a69c2",
   "metadata": {},
   "source": [
    "Use all three observations of the point from the previous question to triangulate the point with the linear algorithm from the slides. Do not normalize the points.\n",
    "\n",
    "What is the triangulated point?"
   ]
  },
  {
   "cell_type": "code",
   "execution_count": 31,
   "id": "2287de93",
   "metadata": {},
   "outputs": [
    {
     "data": {
      "text/plain": [
       "((2, 1), (2, 1), (2, 1))"
      ]
     },
     "execution_count": 31,
     "metadata": {},
     "output_type": "execute_result"
    }
   ],
   "source": [
    "p1.shape, p2.shape, p3.shape"
   ]
  },
  {
   "cell_type": "code",
   "execution_count": 32,
   "id": "15b5dbd3",
   "metadata": {},
   "outputs": [
    {
     "data": {
      "text/plain": [
       "((3, 3, 4), (3, 2, 1))"
      ]
     },
     "execution_count": 32,
     "metadata": {},
     "output_type": "execute_result"
    }
   ],
   "source": [
    "P1 = K @ np.concatenate((R1, t1), axis=1)\n",
    "P2 = K @ np.concatenate((R2, t2), axis=1)\n",
    "P3 = K @ np.concatenate((R3, t3), axis=1)\n",
    "project_matrices = np.array([P1, P2, P3])\n",
    "pixel_coords = np.array([p1, p2, p3])\n",
    "project_matrices.shape, pixel_coords.shape"
   ]
  },
  {
   "cell_type": "code",
   "execution_count": 33,
   "id": "8b5c8603",
   "metadata": {},
   "outputs": [
    {
     "name": "stdout",
     "output_type": "stream",
     "text": [
      "Vt is [[-0.29966278 -0.1237932   0.21481617  0.92126624]\n",
      " [ 0.2558236  -0.94558195 -0.20104693  0.00303097]\n",
      " [-0.01146078 -0.20499066  0.94575103 -0.25179847]\n",
      " [-0.9190349  -0.22029263 -0.13780109 -0.29640659]]\n"
     ]
    },
    {
     "data": {
      "text/plain": [
       "array([3.10058867, 0.74321098, 0.46490561, 1.        ])"
      ]
     },
     "execution_count": 33,
     "metadata": {},
     "output_type": "execute_result"
    }
   ],
   "source": [
    "triangulate(pixel_coords, project_matrices)"
   ]
  },
  {
   "cell_type": "markdown",
   "id": "f276b44d",
   "metadata": {},
   "source": [
    "## Alternative\n",
    "cv2.triangulatePoints does not accept projPoints3 or projMatr3 as arguments. It only works with two views."
   ]
  },
  {
   "cell_type": "code",
   "execution_count": null,
   "id": "6d4633ae",
   "metadata": {},
   "outputs": [
    {
     "ename": "error",
     "evalue": "OpenCV(4.11.0) :-1: error: (-5:Bad argument) in function 'triangulatePoints'\n> Overload resolution failed:\n>  - triangulatePoints() takes at most 5 keyword arguments (6 given)\n>  - triangulatePoints() takes at most 5 keyword arguments (6 given)\n",
     "output_type": "error",
     "traceback": [
      "\u001b[31m---------------------------------------------------------------------------\u001b[39m",
      "\u001b[31merror\u001b[39m                                     Traceback (most recent call last)",
      "\u001b[36mCell\u001b[39m\u001b[36m \u001b[39m\u001b[32mIn[36]\u001b[39m\u001b[32m, line 2\u001b[39m\n\u001b[32m      1\u001b[39m points_2d = np.hstack((p1, p2, p3))\n\u001b[32m----> \u001b[39m\u001b[32m2\u001b[39m points = \u001b[43mcv2\u001b[49m\u001b[43m.\u001b[49m\u001b[43mtriangulatePoints\u001b[49m\u001b[43m(\u001b[49m\u001b[43mprojPoints1\u001b[49m\u001b[43m=\u001b[49m\u001b[43mp1\u001b[49m\u001b[43m,\u001b[49m\u001b[43m \u001b[49m\u001b[43mprojPoints2\u001b[49m\u001b[43m=\u001b[49m\u001b[43mp2\u001b[49m\u001b[43m,\u001b[49m\u001b[43m \u001b[49m\u001b[43mprojPoints3\u001b[49m\u001b[43m=\u001b[49m\u001b[43mp3\u001b[49m\u001b[43m,\u001b[49m\u001b[43m \u001b[49m\u001b[43mprojMatr1\u001b[49m\u001b[43m=\u001b[49m\u001b[43mP1\u001b[49m\u001b[43m,\u001b[49m\u001b[43m \u001b[49m\u001b[43mprojMatr2\u001b[49m\u001b[43m=\u001b[49m\u001b[43mP2\u001b[49m\u001b[43m,\u001b[49m\u001b[43m \u001b[49m\u001b[43mprojMatr3\u001b[49m\u001b[43m=\u001b[49m\u001b[43mP3\u001b[49m\u001b[43m)\u001b[49m\n",
      "\u001b[31merror\u001b[39m: OpenCV(4.11.0) :-1: error: (-5:Bad argument) in function 'triangulatePoints'\n> Overload resolution failed:\n>  - triangulatePoints() takes at most 5 keyword arguments (6 given)\n>  - triangulatePoints() takes at most 5 keyword arguments (6 given)\n"
     ]
    }
   ],
   "source": [
    "# points_2d = np.hstack((p1, p2, p3))\n",
    "# points = cv2.triangulatePoints(projPoints1=p1, projPoints2=p2, projPoints3=p3, projMatr1=P1, projMatr2=P2, projMatr3=P3)"
   ]
  }
 ],
 "metadata": {
  "kernelspec": {
   "display_name": "computer-vision",
   "language": "python",
   "name": "python3"
  },
  "language_info": {
   "codemirror_mode": {
    "name": "ipython",
    "version": 3
   },
   "file_extension": ".py",
   "mimetype": "text/x-python",
   "name": "python",
   "nbconvert_exporter": "python",
   "pygments_lexer": "ipython3",
   "version": "3.13.3"
  }
 },
 "nbformat": 4,
 "nbformat_minor": 5
}
