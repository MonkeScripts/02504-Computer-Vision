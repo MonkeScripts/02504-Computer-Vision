{
 "cells": [
  {
   "cell_type": "code",
   "execution_count": 1,
   "id": "8ce4901d",
   "metadata": {},
   "outputs": [],
   "source": [
    "import numpy as np\n",
    "import cv2"
   ]
  },
  {
   "cell_type": "code",
   "execution_count": 2,
   "id": "3f9b9bd2",
   "metadata": {},
   "outputs": [],
   "source": [
    "import sys\n",
    "import os\n",
    "\n",
    "# Get the absolute path to the parent directory containing \"02504 Computer Vision\"\n",
    "parent_dir = os.path.abspath(os.path.join(\"../../..\", \"02504-Computer-Vision\"))\n",
    "\n",
    "# Add it to sys.path\n",
    "if parent_dir not in sys.path:\n",
    "    sys.path.append(parent_dir)\n",
    "\n",
    "from utility import Pi, Piinv"
   ]
  },
  {
   "cell_type": "markdown",
   "id": "c5e37274",
   "metadata": {},
   "source": [
    "![qn1](images/qn1.png)\n",
    "![mat](images/intrin.png)"
   ]
  },
  {
   "cell_type": "code",
   "execution_count": 3,
   "id": "6a48f850",
   "metadata": {},
   "outputs": [
    {
     "data": {
      "text/plain": [
       "array([[1200,    0,  400],\n",
       "       [   0, 1200,  350],\n",
       "       [   0,    0,    1]])"
      ]
     },
     "execution_count": 3,
     "metadata": {},
     "output_type": "execute_result"
    }
   ],
   "source": [
    "f = 1200\n",
    "principal_point = (400, 350)\n",
    "cx = principal_point[0]\n",
    "cy = principal_point[1]\n",
    "alpha = 1\n",
    "beta = 0\n",
    "k3 = 0.01\n",
    "k5 = 0.04\n",
    "K = np.asarray([[f, beta * f, cx], [0, alpha * f, cy], [0, 0, 1]])\n",
    "K"
   ]
  },
  {
   "cell_type": "markdown",
   "id": "ae1da05e",
   "metadata": {},
   "source": [
    "![qn2](images/qn2..png)"
   ]
  },
  {
   "cell_type": "markdown",
   "id": "68e06d4e",
   "metadata": {},
   "source": [
    "![ans2](images/ans2.png)"
   ]
  },
  {
   "cell_type": "markdown",
   "id": "c7a7d66c",
   "metadata": {},
   "source": [
    "## Extra functions from ex2"
   ]
  },
  {
   "cell_type": "markdown",
   "id": "c83d47f1",
   "metadata": {},
   "source": [
    "![distortion](images/dist_formula.png)"
   ]
  },
  {
   "cell_type": "code",
   "execution_count": 4,
   "id": "80af4d04",
   "metadata": {},
   "outputs": [
    {
     "name": "stdout",
     "output_type": "stream",
     "text": [
      "Undergoing distortion with coeffs: [0.1  0.01]\n"
     ]
    },
    {
     "data": {
      "text/plain": [
       "array([1.2736068, 2.5472136])"
      ]
     },
     "execution_count": 4,
     "metadata": {},
     "output_type": "execute_result"
    }
   ],
   "source": [
    "def dist(point: np.array, distCoeffs: np.array, poly_func):\n",
    "    \"\"\"\n",
    "    Returns a distorted version of x based on radial distortion\n",
    "    With polynomial coefficients in distCoeffs\n",
    "\n",
    "    Args:\n",
    "        point (np.array): Input inhomogeneous 2d points\n",
    "        distCoeffs (np.array): radial distortion polynomial coefficients\n",
    "        poly_func (function): Function that computes polynomial\n",
    "\n",
    "    Return:\n",
    "        np.array of distorted image in inhomogeneous coordinates\n",
    "    \"\"\"\n",
    "    point_x = point[0]\n",
    "    point_y = point[1]\n",
    "    squared = np.sqrt(point_x**2 + point_y**2)\n",
    "    print(f\"Undergoing distortion with coeffs: {distCoeffs}\")\n",
    "    distortion_factor = poly_func(squared, distCoeffs)\n",
    "    distorted_point = point * distortion_factor\n",
    "    return distorted_point\n",
    "\n",
    "\n",
    "distCoeffs = np.asarray([0.1, 0.01])\n",
    "point = np.asarray([1.0, 2.0])\n",
    "poly_lambda = lambda squared, coeffs: 1 + coeffs[0] * squared + coeffs[1] * (squared**2)\n",
    "distorted_point = dist(point, distCoeffs, poly_lambda)\n",
    "distorted_point"
   ]
  },
  {
   "cell_type": "markdown",
   "id": "b7366e6e",
   "metadata": {},
   "source": [
    "## Undistortion"
   ]
  },
  {
   "cell_type": "code",
   "execution_count": 5,
   "id": "15c53c00",
   "metadata": {},
   "outputs": [],
   "source": [
    "def undistortImage(img: np.array, K: np.array, distCoeffs: np.array):\n",
    "    \"\"\"\n",
    "    Undistorts image, main principle is as follows:\n",
    "    1. Create an empty grid to store all the mappings from camera coordinate system -> distorted pixel coordinates\n",
    "    2. Get image in terms of camera coordinate by multiplying grid with the inverse of camera intrinsics\n",
    "    3. Distort the grid with the given radial distortion polynomial and distortion coefficients\n",
    "       Result would give the mapping from camera coordinate -> Distorted pixel coordinate\n",
    "    4. Use remap() with interpolation for non integer pixel coordinates\n",
    "\n",
    "    Basically create an empty canvas, let it go through all the transformations (e.g. camera -> pixel + distortion),\n",
    "    then find mapping between this transformed canvas and the original distorted image\n",
    "\n",
    "    Args:\n",
    "        img (np.array): distorted image\n",
    "        K (np.array): intrinsics matrix\n",
    "        distCoeffs (np.array): distortion coefficient matrix\n",
    "\n",
    "    Return:\n",
    "        im_undistorted (np.array): undistorted image\n",
    "    \"\"\"\n",
    "    x, y = np.meshgrid(np.arange(img.shape[1]), np.arange(img.shape[0]))\n",
    "    # Stack both and add ones to make p homogeneous\n",
    "    p = np.stack((x, y, np.ones(x.shape))).reshape(3, -1)\n",
    "    q = np.linalg.inv(K) @ p\n",
    "    poly_lambda = (\n",
    "        lambda squared, coeffs: 1\n",
    "        + coeffs[0] * (squared**2)\n",
    "        + coeffs[1] * (squared**4)\n",
    "        + coeffs[2] * (squared**6)\n",
    "    )\n",
    "    q_d = dist(Pi(q), distCoeffs, poly_lambda)\n",
    "    p_d = K @ Piinv(q_d)\n",
    "    # New distorted image\n",
    "    x_d = p_d[0].reshape(x.shape).astype(np.float32)\n",
    "    y_d = p_d[1].reshape(y.shape).astype(np.float32)\n",
    "    assert (p_d[2] == 1).all(), \"You did a mistake somewhere\"\n",
    "    # Find remapping\n",
    "    im_undistorted = cv2.remap(img, x_d, y_d, cv2.INTER_LINEAR)\n",
    "    return im_undistorted"
   ]
  }
 ],
 "metadata": {
  "kernelspec": {
   "display_name": "computer-vision",
   "language": "python",
   "name": "python3"
  },
  "language_info": {
   "codemirror_mode": {
    "name": "ipython",
    "version": 3
   },
   "file_extension": ".py",
   "mimetype": "text/x-python",
   "name": "python",
   "nbconvert_exporter": "python",
   "pygments_lexer": "ipython3",
   "version": "3.13.3"
  }
 },
 "nbformat": 4,
 "nbformat_minor": 5
}
