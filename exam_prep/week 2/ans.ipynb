{
 "cells": [
  {
   "cell_type": "code",
   "execution_count": 1,
   "id": "8ce4901d",
   "metadata": {},
   "outputs": [],
   "source": [
    "import numpy as np\n",
    "import cv2"
   ]
  },
  {
   "cell_type": "markdown",
   "id": "c5e37274",
   "metadata": {},
   "source": [
    "![qn1](images/qn1.png)"
   ]
  },
  {
   "cell_type": "code",
   "execution_count": 4,
   "id": "6a48f850",
   "metadata": {},
   "outputs": [
    {
     "data": {
      "text/plain": [
       "array([[1200,    0,  400],\n",
       "       [   0, 1200,  350],\n",
       "       [   0,    0,    1]])"
      ]
     },
     "execution_count": 4,
     "metadata": {},
     "output_type": "execute_result"
    }
   ],
   "source": [
    "f = 1200\n",
    "principal_point = (400, 350)\n",
    "cx = principal_point[0]\n",
    "cy = principal_point[1]\n",
    "alpha = 1\n",
    "beta = 0\n",
    "k3 = 0.01\n",
    "k5 = 0.04\n",
    "K = np.asarray([[f, beta * f, cx], [0, alpha * f, cy], [0, 0, 1]])\n",
    "K"
   ]
  },
  {
   "cell_type": "markdown",
   "id": "ae1da05e",
   "metadata": {},
   "source": [
    "![qn2](images/qn2..png)"
   ]
  },
  {
   "cell_type": "markdown",
   "id": "68e06d4e",
   "metadata": {},
   "source": [
    "![ans2](images/ans2.png)"
   ]
  }
 ],
 "metadata": {
  "kernelspec": {
   "display_name": "computer-vision",
   "language": "python",
   "name": "python3"
  },
  "language_info": {
   "codemirror_mode": {
    "name": "ipython",
    "version": 3
   },
   "file_extension": ".py",
   "mimetype": "text/x-python",
   "name": "python",
   "nbconvert_exporter": "python",
   "pygments_lexer": "ipython3",
   "version": "3.13.3"
  }
 },
 "nbformat": 4,
 "nbformat_minor": 5
}
