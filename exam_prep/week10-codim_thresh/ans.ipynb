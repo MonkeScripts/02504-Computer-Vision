{
 "cells": [
  {
   "cell_type": "code",
   "execution_count": 1,
   "id": "aadde572",
   "metadata": {},
   "outputs": [],
   "source": [
    "import numpy as np\n",
    "import matplotlib.pyplot as plt\n",
    "import cv2"
   ]
  },
  {
   "cell_type": "markdown",
   "id": "05f2c862",
   "metadata": {},
   "source": [
    "You are estimating a homography with RANSAC. \n",
    "\n",
    "The keypoints have been found with an algorithm that is known to have a standard deviation of sigma_x, sigma_y = 2.6 pixels\n",
    "\n",
    "To measure how well two matched points fit a given homography you use the squared symmetric distance. You would like to correctly identify 90\\% of inliers. \n",
    "\n",
    "What should you set your squared threshold to?"
   ]
  },
  {
   "cell_type": "code",
   "execution_count": 5,
   "id": "260c8f99",
   "metadata": {},
   "outputs": [
    {
     "name": "stdout",
     "output_type": "stream",
     "text": [
      "Chi-squared value for 90% confidence with 2 degrees of freedom: 4.605\n"
     ]
    }
   ],
   "source": [
    "from scipy.stats import chi2\n",
    "\n",
    "# Degrees of freedom\n",
    "df = 2\n",
    "\n",
    "# Confidence level (90%)\n",
    "confidence_level = 0.9\n",
    "\n",
    "# Find the chi-squared critical value\n",
    "chi_sq_value = chi2.ppf(confidence_level, df)\n",
    "print(\n",
    "    f\"Chi-squared value for 90% confidence with {df} degrees of freedom: {chi_sq_value:.3f}\"\n",
    ")"
   ]
  },
  {
   "cell_type": "markdown",
   "id": "25a9d2bc",
   "metadata": {},
   "source": [
    "![choosing_threshold](images/choosing_threshold.png)"
   ]
  },
  {
   "cell_type": "code",
   "execution_count": 4,
   "id": "3bae7b35",
   "metadata": {},
   "outputs": [
    {
     "data": {
      "text/plain": [
       "31.163600000000006"
      ]
     },
     "execution_count": 4,
     "metadata": {},
     "output_type": "execute_result"
    }
   ],
   "source": [
    "chi_sq = 4.61  # 90% confidence\n",
    "sigma = 2.6\n",
    "threshold = (chi_sq * sigma**2) ** 0.5\n",
    "threshold ** 2"
   ]
  },
  {
   "cell_type": "markdown",
   "id": "025e7560",
   "metadata": {},
   "source": [
    "![qn2](images/qn2.png)"
   ]
  }
 ],
 "metadata": {
  "kernelspec": {
   "display_name": "computer-vision",
   "language": "python",
   "name": "python3"
  },
  "language_info": {
   "codemirror_mode": {
    "name": "ipython",
    "version": 3
   },
   "file_extension": ".py",
   "mimetype": "text/x-python",
   "name": "python",
   "nbconvert_exporter": "python",
   "pygments_lexer": "ipython3",
   "version": "3.13.3"
  }
 },
 "nbformat": 4,
 "nbformat_minor": 5
}
