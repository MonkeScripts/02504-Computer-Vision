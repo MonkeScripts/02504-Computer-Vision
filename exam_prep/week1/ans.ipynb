{
 "cells": [
  {
   "cell_type": "code",
   "execution_count": null,
   "id": "736f58cb",
   "metadata": {},
   "outputs": [],
   "source": [
    "import sys\n",
    "import os\n",
    "\n",
    "# Get the absolute path to the parent directory containing \"02504 Computer Vision\"\n",
    "parent_dir = os.path.abspath(os.path.join(\"../../..\", \"02504-Computer-Vision\"))\n",
    "\n",
    "# Add it to sys.path\n",
    "if parent_dir not in sys.path:\n",
    "    sys.path.append(parent_dir)\n",
    "\n",
    "from utility import Pi, Piinv, skew, projectpoints"
   ]
  },
  {
   "cell_type": "code",
   "execution_count": null,
   "id": "bb43bdc1",
   "metadata": {},
   "outputs": [],
   "source": [
    "import numpy as np\n",
    "import cv2"
   ]
  },
  {
   "cell_type": "markdown",
   "id": "c8a5657b",
   "metadata": {},
   "source": [
    "![explain](images/explanation2.png)"
   ]
  },
  {
   "cell_type": "markdown",
   "id": "733605a1",
   "metadata": {},
   "source": [
    "![q1](images/q1.png)"
   ]
  },
  {
   "cell_type": "code",
   "execution_count": null,
   "id": "6189b758",
   "metadata": {},
   "outputs": [],
   "source": [
    "q = np.asarray([2, 4, 3])\n",
    "l = np.asarray([1, 2, 2])\n",
    "d = np.linalg.norm(l.T @ q) / (np.linalg.norm(q[-1]) * np.sqrt(l[0]**2.0 + l[1]**2.0))\n",
    "d"
   ]
  },
  {
   "cell_type": "markdown",
   "id": "4ece2aec",
   "metadata": {},
   "source": [
    "![q2](images/q2.png)"
   ]
  },
  {
   "cell_type": "markdown",
   "id": "e9702f0f",
   "metadata": {},
   "source": [
    "![explain](images/explanation.png)"
   ]
  },
  {
   "cell_type": "code",
   "execution_count": null,
   "id": "c0ae0d37",
   "metadata": {},
   "outputs": [],
   "source": [
    "f = 1720\n",
    "point = (680, 610)\n",
    "cx = point[0]\n",
    "cy = point[1]\n",
    "K = np.asarray([[f, 0, cx], [0, f, cy], [0, 0, 1]])\n",
    "rvec = np.array([-0.1, 0.1, -0.2])\n",
    "rot_matrix = cv2.Rodrigues(rvec)[0]\n",
    "t = np.array([[0.09], [0.05], [0.05]])\n",
    "extrinsics = np.concatenate((rot_matrix, t), axis=1)\n",
    "K.shape, extrinsics.shape, extrinsics"
   ]
  },
  {
   "cell_type": "code",
   "execution_count": null,
   "id": "b82f9df6",
   "metadata": {},
   "outputs": [],
   "source": [
    "Q_homo = Piinv(np.array([-0.03, 0.01, 0.59]).reshape(3, 1))\n",
    "homo_2d = projectpoints(K, rot_matrix, t, Q_homo)\n",
    "Pi(homo_2d)"
   ]
  },
  {
   "cell_type": "markdown",
   "id": "3c0672b6",
   "metadata": {},
   "source": [
    "## Alternative:"
   ]
  },
  {
   "cell_type": "code",
   "execution_count": null,
   "id": "3436d17f",
   "metadata": {},
   "outputs": [],
   "source": [
    "K = np.float32(K)\n",
    "rvec = np.float32(rvec)\n",
    "t = np.float32(t)\n",
    "Q = np.float32(Q)\n",
    "dist_coeffs = np.zeros((5, 1), np.float32)\n",
    "points , _ = cv2.projectPoints(Q, rvec, t, K, dist_coeffs)\n",
    "points"
   ]
  }
 ],
 "metadata": {
  "kernelspec": {
   "display_name": "computer-vision",
   "language": "python",
   "name": "python3"
  },
  "language_info": {
   "codemirror_mode": {
    "name": "ipython",
    "version": 3
   },
   "file_extension": ".py",
   "mimetype": "text/x-python",
   "name": "python",
   "nbconvert_exporter": "python",
   "pygments_lexer": "ipython3",
   "version": "3.13.3"
  }
 },
 "nbformat": 4,
 "nbformat_minor": 5
}
