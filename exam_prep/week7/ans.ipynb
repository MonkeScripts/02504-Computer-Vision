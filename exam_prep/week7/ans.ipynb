{
 "cells": [
  {
   "cell_type": "code",
   "execution_count": 13,
   "id": "a8df41e4",
   "metadata": {},
   "outputs": [],
   "source": [
    "import numpy as np\n",
    "import matplotlib.pyplot as plt\n",
    "import cv2"
   ]
  },
  {
   "cell_type": "code",
   "execution_count": 14,
   "id": "4c313d01",
   "metadata": {},
   "outputs": [],
   "source": [
    "import sys\n",
    "import os\n",
    "\n",
    "# Get the absolute path to the parent directory containing \"02504 Computer Vision\"\n",
    "parent_dir = os.path.abspath(os.path.join(\"../../..\", \"02504-Computer-Vision\"))\n",
    "\n",
    "# Add it to sys.path\n",
    "if parent_dir not in sys.path:\n",
    "    sys.path.append(parent_dir)\n",
    "\n",
    "from utility import Pi, Piinv, projectpoints, point_line_distance, projection_matrix"
   ]
  },
  {
   "cell_type": "code",
   "execution_count": 15,
   "id": "6554e590",
   "metadata": {},
   "outputs": [
    {
     "data": {
      "text/plain": [
       "((2, 100), (2,), (2,))"
      ]
     },
     "execution_count": 15,
     "metadata": {},
     "output_type": "execute_result"
    }
   ],
   "source": [
    "ransac = np.load(\"ransac.npy\", allow_pickle=True).item()\n",
    "points = ransac[\"points\"]\n",
    "x1 = ransac[\"x1\"]\n",
    "x2 = ransac[\"x2\"]\n",
    "points.shape, x1.shape, x2.shape"
   ]
  },
  {
   "cell_type": "code",
   "execution_count": null,
   "id": "7ed52ade",
   "metadata": {},
   "outputs": [
    {
     "name": "stdout",
     "output_type": "stream",
     "text": [
      "eqn of line: [-3.  1.  5.]\n"
     ]
    }
   ],
   "source": [
    "# Ex 7.6\n",
    "# Function to fit a line, in homo coords, given 2 points\n",
    "\n",
    "\n",
    "def fit_line(p1, p2):\n",
    "    \"\"\"\n",
    "    Fits a line given 2 points.\n",
    "\n",
    "    Args:\n",
    "        p1, p2 (np.array) : 2x1 inhomogenous coordinates\n",
    "\n",
    "    Returns:\n",
    "        l : 3x1, line in homogenous coordinates\n",
    "    \"\"\"\n",
    "    if p1.shape == (2,):\n",
    "        p1 = p1.reshape(2, 1)\n",
    "        p2 = p2.reshape(2, 1)\n",
    "    if p1.shape != (2, 1) or p2.shape != (2, 1):\n",
    "        raise ValueError(\"Points must be 2x1 np.array\")\n",
    "\n",
    "    p1h = Piinv(p1)\n",
    "    p2h = Piinv(p2)\n",
    "    # cross() requires input as vectors\n",
    "    l = np.cross(p1h.squeeze(), p2h.squeeze())\n",
    "    return l"
   ]
  },
  {
   "cell_type": "markdown",
   "id": "db6be405",
   "metadata": {},
   "source": [
    "You are fitting a straight line to a set of 2D points (points) with RANSAC.\n",
    "In the current iteration you fit the line through x1 and x2.\n",
    "tau = 0.2\n",
    "![qn1](images/Q1.png)"
   ]
  },
  {
   "cell_type": "code",
   "execution_count": 18,
   "id": "5cf37575",
   "metadata": {},
   "outputs": [],
   "source": [
    "def dist_to_line(pt: np.array, l: np.array):\n",
    "    \"\"\"\n",
    "    Obtains the shortest(perpendicular) distance between a point and a line\n",
    "        Args:\n",
    "            pt (np.array): point\n",
    "            l (np.array): line, [a, b, c], shape (3,)\n",
    "\n",
    "        Return:\n",
    "            dist (float): distance between point and line\n",
    "    \"\"\"\n",
    "    if pt.shape[0] == 2:\n",
    "        pt = Piinv(pt)\n",
    "    pt = np.squeeze(pt.T)\n",
    "    dist = np.abs(np.dot(l, pt.T)) / (abs(pt[2]) * np.sqrt(l[0] ** 2 + l[1] ** 2))\n",
    "    return dist"
   ]
  },
  {
   "cell_type": "code",
   "execution_count": 19,
   "id": "788570de",
   "metadata": {},
   "outputs": [
    {
     "data": {
      "text/plain": [
       "(array([ 0.13825614,  0.10280998, -0.16058676]), (3, 100))"
      ]
     },
     "execution_count": 19,
     "metadata": {},
     "output_type": "execute_result"
    }
   ],
   "source": [
    "l = fit_line(x1, x2)\n",
    "l, Piinv(points).shape"
   ]
  },
  {
   "cell_type": "code",
   "execution_count": 20,
   "id": "f0293be3",
   "metadata": {},
   "outputs": [],
   "source": [
    "# Ex 1.7\n",
    "def point_line_distance(line: np.ndarray, p: np.ndarray):\n",
    "    \"\"\"\n",
    "    Calculate shortest distance d between line l and 2D homogenous point p.\n",
    "\n",
    "    Args:\n",
    "        line: homogenous line, shape (3, 1)\n",
    "        p: 3x1 vector, shape (3, 1)\n",
    "\n",
    "    Returns:\n",
    "        d (float): distance\n",
    "    \"\"\"\n",
    "    if p.shape != (3, 1):\n",
    "        raise ValueError(\"p must be a 3x1 homogenous vector\")\n",
    "    if line.shape != (3, 1):\n",
    "        raise ValueError(\"line must be a 3x1 homogenous vector\")\n",
    "\n",
    "    d = abs(line.T @ p) / (abs(p[2]) * np.sqrt(line[0] ** 2 + line[1] ** 2))\n",
    "    return d"
   ]
  },
  {
   "cell_type": "code",
   "execution_count": 21,
   "id": "842d4341",
   "metadata": {},
   "outputs": [],
   "source": [
    "def summarise_points(pts: np.array, l: np.array, threshold: float):\n",
    "    \"\"\"\n",
    "    Determines a boolean set of 2D points of inliers or outliers with respect\n",
    "    to a given line. True represents inliners and False represents outliers\n",
    "        Args:\n",
    "            pts (np.array): original set of pts first point in the lin determines which of a set of 2D points are an inliers or outliers with respect\n",
    "            to a given line. Expected shape (3 x N). Expect homogeneous points.\n",
    "            l (np.array): line\n",
    "            threshold (np.array): threshold distance between line l and pts, used to separate inliers and outliers\n",
    "\n",
    "        Return:\n",
    "            inliers (np.array): array with all the inliers\n",
    "            outliers (np.array): array with all the outliers\n",
    "    \"\"\"\n",
    "    inliers = []\n",
    "    outliers = []\n",
    "    num_pts = pts.shape[1]\n",
    "    for i in range(num_pts):\n",
    "        pt = pts[:, i]\n",
    "        if pt.shape[0] == 3:\n",
    "            pt = pt.reshape((3, 1))\n",
    "        if pt.shape[0] == 2:\n",
    "            pt = Piinv(pt.reshape((2, 1)))\n",
    "        distance = dist_to_line(pt, l)\n",
    "        if distance <= threshold:\n",
    "            inliers.append(pt)\n",
    "        else:\n",
    "            outliers.append(pt)\n",
    "    inliers = np.array(inliers)\n",
    "    outliers = np.array(outliers)\n",
    "    return inliers, outliers"
   ]
  },
  {
   "cell_type": "code",
   "execution_count": null,
   "id": "7ff53d3a",
   "metadata": {},
   "outputs": [
    {
     "name": "stdout",
     "output_type": "stream",
     "text": [
      "inliners.shape: (2, 34), outliers.shape: (2, 66)\n"
     ]
    }
   ],
   "source": [
    "# Ex 7.7\n",
    "# Function to determine inliners and outliers\n",
    "\n",
    "\n",
    "def find_inliners_outliers(l, points, tau):\n",
    "    \"\"\"\n",
    "    Args:\n",
    "        l : equation of line in homogenous coordinates\n",
    "        tau : threshold for inliners\n",
    "\n",
    "    Returns:\n",
    "        inliners (np.array) : 2xa, set of inliner points\n",
    "        outliers (np.array) : 2xb, set of outlier points\n",
    "    \"\"\"\n",
    "    inliners = []\n",
    "    outliers = []\n",
    "    for p in points.T:\n",
    "        p = p.reshape(2, 1)\n",
    "        ph = Piinv(p)\n",
    "        d = abs(l.T @ ph) / (abs(ph[2]) * np.sqrt(l[0] ** 2 + l[1] ** 2))\n",
    "        if d <= tau:  # inlier\n",
    "            inliners.append(p)\n",
    "        else:  # outlier\n",
    "            outliers.append(p)\n",
    "    inliners = np.array(inliners).squeeze().T\n",
    "    outliers = np.array(outliers).squeeze().T\n",
    "    return inliners, outliers\n",
    "\n",
    "\n",
    "inliners, outliers = find_inliners_outliers(l, points, 0.2)\n",
    "\n",
    "print(f\"inliners.shape: {inliners.shape}, outliers.shape: {outliers.shape}\")"
   ]
  },
  {
   "cell_type": "code",
   "execution_count": 23,
   "id": "49c54a6b",
   "metadata": {},
   "outputs": [
    {
     "data": {
      "text/plain": [
       "((34, 3, 1), (66, 3, 1))"
      ]
     },
     "execution_count": 23,
     "metadata": {},
     "output_type": "execute_result"
    }
   ],
   "source": [
    "inliers, outliers = summarise_points(Piinv(points), l, 0.2)\n",
    "inliers.shape, outliers.shape"
   ]
  },
  {
   "cell_type": "markdown",
   "id": "de398398",
   "metadata": {},
   "source": [
    "We are using RANSAC to estimate a homography matrix.\n",
    "At iteration number 191 we find a model where 103 out of 404\n",
    "point matches are inliers, which is the highest number of inliers\n",
    "we have observed so far.\n",
    "\n",
    "Given the current information, what is the smallest number of iterations we need to run in total in order to be 95% sure that we will have fitted at least one model to only inliers?\n",
    "![Qn2](images/Q2.png)"
   ]
  },
  {
   "cell_type": "code",
   "execution_count": 25,
   "id": "055a8536",
   "metadata": {},
   "outputs": [
    {
     "data": {
      "text/plain": [
       "np.float64(707.5554825030302)"
      ]
     },
     "execution_count": 25,
     "metadata": {},
     "output_type": "execute_result"
    }
   ],
   "source": [
    "p = 0.95\n",
    "estimate_outlier_prob = 1 - 103 / 404\n",
    "num_iterations = np.log(1 - p) / np.log(1 - ((1 - estimate_outlier_prob) ** 4))\n",
    "num_iterations"
   ]
  }
 ],
 "metadata": {
  "kernelspec": {
   "display_name": "computer-vision",
   "language": "python",
   "name": "python3"
  },
  "language_info": {
   "codemirror_mode": {
    "name": "ipython",
    "version": 3
   },
   "file_extension": ".py",
   "mimetype": "text/x-python",
   "name": "python",
   "nbconvert_exporter": "python",
   "pygments_lexer": "ipython3",
   "version": "3.13.3"
  }
 },
 "nbformat": 4,
 "nbformat_minor": 5
}
