{
 "cells": [
  {
   "cell_type": "code",
   "execution_count": 1,
   "id": "736f58cb",
   "metadata": {},
   "outputs": [],
   "source": [
    "import sys\n",
    "import os\n",
    "\n",
    "# Get the absolute path to the parent directory containing \"02504 Computer Vision\"\n",
    "parent_dir = os.path.abspath(os.path.join(\"../../..\", \"02504-Computer-Vision\"))\n",
    "\n",
    "# Add it to sys.path\n",
    "if parent_dir not in sys.path:\n",
    "    sys.path.append(parent_dir)\n",
    "\n",
    "from utility import Pi, Piinv, projectpoints, point_line_distance, projection_matrix"
   ]
  },
  {
   "cell_type": "code",
   "execution_count": 2,
   "id": "bb43bdc1",
   "metadata": {},
   "outputs": [],
   "source": [
    "import numpy as np\n",
    "import cv2"
   ]
  },
  {
   "cell_type": "markdown",
   "id": "c8a5657b",
   "metadata": {},
   "source": [
    "![explain](images/explanation2.png)"
   ]
  },
  {
   "cell_type": "markdown",
   "id": "733605a1",
   "metadata": {},
   "source": [
    "![q1](images/q1.png)"
   ]
  },
  {
   "cell_type": "code",
   "execution_count": 3,
   "id": "6189b758",
   "metadata": {},
   "outputs": [
    {
     "data": {
      "text/plain": [
       "np.float64(2.3851391759997758)"
      ]
     },
     "execution_count": 3,
     "metadata": {},
     "output_type": "execute_result"
    }
   ],
   "source": [
    "q = np.asarray([2, 4, 3])\n",
    "l = np.asarray([1, 2, 2])\n",
    "d = np.linalg.norm(l.T @ q) / (np.linalg.norm(q[-1]) * np.sqrt(l[0]**2.0 + l[1]**2.0))\n",
    "d"
   ]
  },
  {
   "cell_type": "code",
   "execution_count": 4,
   "id": "152a259f",
   "metadata": {},
   "outputs": [
    {
     "data": {
      "text/plain": [
       "array([[2.38513918]])"
      ]
     },
     "execution_count": 4,
     "metadata": {},
     "output_type": "execute_result"
    }
   ],
   "source": [
    "q_new = np.expand_dims(q, axis=1)\n",
    "l_new = np.expand_dims(l, axis=1)\n",
    "q_new.shape\n",
    "point_line_distance(l_new, q_new)"
   ]
  },
  {
   "cell_type": "markdown",
   "id": "4ece2aec",
   "metadata": {},
   "source": [
    "![q2](images/q2.png)"
   ]
  },
  {
   "cell_type": "markdown",
   "id": "e9702f0f",
   "metadata": {},
   "source": [
    "![explain](images/explanation.png)"
   ]
  },
  {
   "cell_type": "code",
   "execution_count": 5,
   "id": "c0ae0d37",
   "metadata": {},
   "outputs": [
    {
     "data": {
      "text/plain": [
       "((3, 3),\n",
       " (3, 4),\n",
       " array([[ 0.97512475,  0.19303094,  0.1089531 ,  0.09      ],\n",
       "        [-0.20298104,  0.97512475,  0.0890529 ,  0.05      ],\n",
       "        [-0.0890529 , -0.1089531 ,  0.9900499 ,  0.05      ]]))"
      ]
     },
     "execution_count": 5,
     "metadata": {},
     "output_type": "execute_result"
    }
   ],
   "source": [
    "f = 1720\n",
    "point = (680, 610)\n",
    "cx = point[0]\n",
    "cy = point[1]\n",
    "K = np.asarray([[f, 0, cx], [0, f, cy], [0, 0, 1]])\n",
    "rvec = np.array([-0.1, 0.1, -0.2])\n",
    "rot_matrix = cv2.Rodrigues(rvec)[0]\n",
    "t = np.array([[0.09], [0.05], [0.05]])\n",
    "extrinsics = np.concatenate((rot_matrix, t), axis=1)\n",
    "K.shape, extrinsics.shape, extrinsics"
   ]
  },
  {
   "cell_type": "code",
   "execution_count": 9,
   "id": "0a3c3efc",
   "metadata": {},
   "outputs": [
    {
     "data": {
      "text/plain": [
       "array([[ 1.61665860e+03,  2.57925114e+02,  8.60633257e+02,\n",
       "         1.88800007e+02],\n",
       "       [-4.03449658e+02,  1.61075318e+03,  7.57101420e+02,\n",
       "         1.16500002e+02],\n",
       "       [-8.90528958e-02, -1.08953096e-01,  9.90049900e-01,\n",
       "         5.00000007e-02]])"
      ]
     },
     "execution_count": 9,
     "metadata": {},
     "output_type": "execute_result"
    }
   ],
   "source": [
    "P = projection_matrix(K, rot_matrix, t)\n",
    "P"
   ]
  },
  {
   "cell_type": "code",
   "execution_count": 7,
   "id": "b82f9df6",
   "metadata": {},
   "outputs": [
    {
     "data": {
      "text/plain": [
       "array([[1023.50377104],\n",
       "       [ 930.29756751]])"
      ]
     },
     "execution_count": 7,
     "metadata": {},
     "output_type": "execute_result"
    }
   ],
   "source": [
    "Q_homo = Piinv(np.array([-0.03, 0.01, 0.59]).reshape(3, 1))\n",
    "homo_2d = projectpoints(K, rot_matrix, t, Q_homo)\n",
    "Pi(homo_2d)"
   ]
  },
  {
   "cell_type": "markdown",
   "id": "3c0672b6",
   "metadata": {},
   "source": [
    "## Alternative:"
   ]
  },
  {
   "cell_type": "code",
   "execution_count": 14,
   "id": "3436d17f",
   "metadata": {},
   "outputs": [
    {
     "data": {
      "text/plain": [
       "array([[[1023.5038,  930.2976]]], dtype=float32)"
      ]
     },
     "execution_count": 14,
     "metadata": {},
     "output_type": "execute_result"
    }
   ],
   "source": [
    "K = np.float32(K)\n",
    "rvec = np.float32(rvec)\n",
    "t = np.float32(t)\n",
    "Q = Q = np.float32(np.array([-0.03, 0.01, 0.59]).reshape(3, 1))\n",
    "dist_coeffs = np.zeros((5, 1), np.float32)\n",
    "points , _ = cv2.projectPoints(Q, rvec, t, K, dist_coeffs)\n",
    "points"
   ]
  }
 ],
 "metadata": {
  "kernelspec": {
   "display_name": "computer-vision",
   "language": "python",
   "name": "python3"
  },
  "language_info": {
   "codemirror_mode": {
    "name": "ipython",
    "version": 3
   },
   "file_extension": ".py",
   "mimetype": "text/x-python",
   "name": "python",
   "nbconvert_exporter": "python",
   "pygments_lexer": "ipython3",
   "version": "3.13.3"
  }
 },
 "nbformat": 4,
 "nbformat_minor": 5
}
