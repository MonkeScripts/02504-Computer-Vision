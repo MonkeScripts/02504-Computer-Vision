{
 "cells": [
  {
   "cell_type": "code",
   "execution_count": 299,
   "metadata": {},
   "outputs": [],
   "source": [
    "import numpy as np\n",
    "import scipy"
   ]
  },
  {
   "cell_type": "code",
   "execution_count": 300,
   "metadata": {},
   "outputs": [],
   "source": [
    "R1, R2 = np.eye(3), np.eye(3)\n",
    "t1 = np.asarray([0, 0, 1]).reshape(3, 1)\n",
    "t2 = np.asarray([0, 0, 20]).reshape(3, 1)\n",
    "K1, K2 = np.asarray([[700, 0, 600], [0, 700, 400], [0, 0, 1]]), np.asarray(\n",
    "    [[700, 0, 600], [0, 700, 400], [0, 0, 1]]\n",
    ")\n",
    "Q = np.asarray([1, 1, 0]).reshape(3, 1)"
   ]
  },
  {
   "cell_type": "code",
   "execution_count": 301,
   "metadata": {},
   "outputs": [],
   "source": [
    "def Pi(x: np.array):\n",
    "    \"\"\"\n",
    "    Converts homogeneous to inhomogeneous coordinates\n",
    "    Args:\n",
    "        x (np.array) homogeneous coordinate\n",
    "\n",
    "    Return:\n",
    "        np.array converted inhomogeneous coordinate\n",
    "    \"\"\"\n",
    "\n",
    "    return x[:-1] / x[-1]\n",
    "\n",
    "\n",
    "def Piinv(x: np.array):\n",
    "    \"\"\"\n",
    "    Converts inhomogeneous to homogeneous coordinates\n",
    "\n",
    "    Args:\n",
    "        x (np.array) inhomogeneous coordinate\n",
    "\n",
    "    Return:\n",
    "        np.array converted homogeneous coordinate\n",
    "    \"\"\"\n",
    "    if x.ndim == 1:\n",
    "        return np.concatenate((x, np.ones(1)))\n",
    "    return np.vstack((x, np.ones((1, x.shape[1]))))"
   ]
  },
  {
   "cell_type": "code",
   "execution_count": 302,
   "metadata": {},
   "outputs": [],
   "source": [
    "def projectpoints(K: np.array, R: np.array, t: np.array, Q: np.array):\n",
    "    \"\"\"\n",
    "    Obtains projected 2D coordinates from world coordinates\n",
    "\n",
    "    Args:\n",
    "        K (np.array): intrinsics matrix\n",
    "        R (np.array): extrinsic rotation matrix\n",
    "        t (np.array): extrinsic translation matrix\n",
    "        Q (np.array): homogeneous input points in world coordinates\n",
    "\n",
    "    Return:\n",
    "        projected_points (np.array): projected 2D points in homogeneous coordinates\n",
    "    \"\"\"\n",
    "    # Projection matrix = K[R t] Q\n",
    "    if Q.shape[0] == 3:\n",
    "        Q = Piinv(Q)\n",
    "    extrinsics = np.concatenate((R, t), axis=1)\n",
    "    projected_points = K @ extrinsics @ Q\n",
    "    return projected_points"
   ]
  },
  {
   "cell_type": "markdown",
   "metadata": {},
   "source": [
    "## Ex 5.1"
   ]
  },
  {
   "cell_type": "code",
   "execution_count": 303,
   "metadata": {},
   "outputs": [
    {
     "data": {
      "text/plain": [
       "(array([[1300.],\n",
       "        [1100.]]),\n",
       " array([[635.],\n",
       "        [435.]]))"
      ]
     },
     "execution_count": 303,
     "metadata": {},
     "output_type": "execute_result"
    }
   ],
   "source": [
    "extrinsics1 = np.concatenate((R1, t1), axis=1)\n",
    "P1 = K1 @ extrinsics1\n",
    "extrinsics2 = np.concatenate((R2, t2), axis=1)\n",
    "P2 = K2 @ extrinsics2\n",
    "q1 = Pi(projectpoints(K1, R1, t1, Q))\n",
    "q2 = Pi(projectpoints(K2, R2, t2, Q))\n",
    "q1, q2"
   ]
  },
  {
   "cell_type": "markdown",
   "metadata": {},
   "source": [
    "## Ex 5.2"
   ]
  },
  {
   "cell_type": "code",
   "execution_count": 304,
   "metadata": {},
   "outputs": [],
   "source": [
    "q1_noise = q1 + np.asarray([1, -1]).reshape(2, 1)\n",
    "q2_noise = q2 + np.asarray([1, -1]).reshape(2, 1)"
   ]
  },
  {
   "cell_type": "code",
   "execution_count": 305,
   "metadata": {},
   "outputs": [],
   "source": [
    "def triangulate(pixel_coords: np.array, proj_matrices: np.array):\n",
    "    \"\"\"\n",
    "    Given a list of pixel coordinates and projection matrices, triangulate to a common 3D point\n",
    "    Args:\n",
    "        pixel_coords (np.array): list of pixel coordinates in inhomogeneous coordinates\n",
    "        proj_matrices (np.array): list of projection matrices\n",
    "\n",
    "    Return:\n",
    "        triangle (np.array): triangulated 3D point\n",
    "    \"\"\"\n",
    "    n = pixel_coords.shape[0]\n",
    "    # B_stack = []\n",
    "    B_stack = np.zeros((n * 2, 4))\n",
    "    for i in range(n):\n",
    "        x, y = pixel_coords[i]\n",
    "        proj_matrix = proj_matrices[i]\n",
    "        B = np.asarray(\n",
    "            [\n",
    "                proj_matrix[2, :] * x - proj_matrix[0, :],\n",
    "                proj_matrix[2, :] * y - proj_matrix[1, :],\n",
    "            ]\n",
    "        )\n",
    "        B_stack = np.vstack((B_stack, B))\n",
    "    U, S, Vt = np.linalg.svd(B_stack)\n",
    "    # Get the smallest vector\n",
    "    # print(f\"Vt is {Vt}\")\n",
    "    triangle = Vt[-1, :]\n",
    "    triangle /= triangle[-1]\n",
    "    return triangle"
   ]
  },
  {
   "cell_type": "code",
   "execution_count": 306,
   "metadata": {},
   "outputs": [
    {
     "data": {
      "text/plain": [
       "((2, 2, 1), (2, 3, 4), (4, 1))"
      ]
     },
     "execution_count": 306,
     "metadata": {},
     "output_type": "execute_result"
    }
   ],
   "source": [
    "pixel_coords = np.array([q1_noise, q2_noise])\n",
    "proj_matrices = np.array([P1, P2])\n",
    "Q_estimated = triangulate(pixel_coords, proj_matrices).reshape(4, 1)\n",
    "pixel_coords.shape, proj_matrices.shape, Q_estimated.shape"
   ]
  },
  {
   "cell_type": "code",
   "execution_count": 317,
   "metadata": {},
   "outputs": [
    {
     "name": "stdout",
     "output_type": "stream",
     "text": [
      "[[1300.]\n",
      " [1100.]] [[1310.48950027]\n",
      " [1089.4923513 ]]\n",
      "[[635.]\n",
      " [435.]] [[635.53411968]\n",
      " [434.4839772 ]]\n"
     ]
    },
    {
     "data": {
      "text/plain": [
       "(13.433018988192021, 0.6717725840473774, 0.021221817353381443)"
      ]
     },
     "execution_count": 317,
     "metadata": {},
     "output_type": "execute_result"
    }
   ],
   "source": [
    "q1_reprojected = Pi(P1 @ Q_estimated)\n",
    "q2_reprojected = Pi(P2 @ Q_estimated)\n",
    "print(q1, q1_reprojected)\n",
    "print(q2, q2_reprojected)\n",
    "diff1 = np.linalg.norm(q1_reprojected - q1_noise)\n",
    "diff2 = np.linalg.norm(q2_reprojected - q2_noise)\n",
    "diff1, diff2, np.linalg.norm(Pi(Q_estimated) - Q)"
   ]
  },
  {
   "cell_type": "markdown",
   "metadata": {},
   "source": [
    "We expect the linear algorithm to place a larger weight on the error of camera 2 than camera 1,\n",
    "as it has a larger s. Therefore camera 2 having the smallest reprojection error is as we expected.\n",
    "∥∥∥Q − ˜Q∥∥∥2 = 0.021"
   ]
  },
  {
   "cell_type": "markdown",
   "metadata": {},
   "source": [
    "## Ex 5.3\n",
    "\n",
    "https://docs.scipy.org/doc/scipy/reference/generated/scipy.optimize.least_squares.html\n",
    "\n",
    "funcallable\n",
    "Function which computes the vector of residuals, with the signature fun(x, *args, **kwargs), i.e., the minimization proceeds with respect to its first argument. The argument x passed to this function is an ndarray of shape (n,) (never a scalar, even for n=1). It must allocate and return a 1-D array_like of shape (m,) or a scalar. If the argument x is complex or the function fun returns complex residuals, it must be wrapped in a real function of real arguments, as shown at the end of the Examples section."
   ]
  },
  {
   "cell_type": "code",
   "execution_count": 308,
   "metadata": {},
   "outputs": [],
   "source": [
    "import scipy.optimize\n",
    "\n",
    "\n",
    "def triangulate_nonlin(pixel_coords: np.array, proj_matrices: np.array):\n",
    "    \"\"\"\n",
    "    Given a list of pixel coordinates and projection matrices, triangulate to a common 3D point using a non linear approach\n",
    "    Args:\n",
    "        pixel_coords (np.array): list of pixel coordinates in inhomogeneous coordinates\n",
    "        proj_matrices (np.array): list of projection matrices\n",
    "\n",
    "    Return:\n",
    "        triangle (np.array): triangulated 3D point\n",
    "    \"\"\"\n",
    "    def compute_residuals(Q: np.array):\n",
    "        \"\"\"\n",
    "        Compute residuals between projected points and observed pixel coordinates.\n",
    "        Args:\n",
    "            Q (np.array): Current estimate of 3D point (x, y, z) in homogeneous coordinates\n",
    "\n",
    "        Return:\n",
    "            residuals (np.array): Vector of residuals (differences between projected and observed points)\n",
    "        \"\"\"\n",
    "        if Q.shape[0] == 3:\n",
    "            Q = Piinv(Q)\n",
    "        residuals = np.zeros(2 * len(pixel_coords))\n",
    "        for i, q in enumerate(pixel_coords):\n",
    "            projected_point = Pi(proj_matrices[i, :, :] @ Q)\n",
    "            diff_vector = q.reshape(-1) - projected_point.reshape(-1)\n",
    "            residuals[2 * i : 2 * (i + 1)] = diff_vector\n",
    "        return residuals\n",
    "\n",
    "    # Initial guess\n",
    "    x0 = triangulate(pixel_coords, proj_matrices).reshape(-1)\n",
    "    least_error_3D = scipy.optimize.least_squares(compute_residuals, x0)\n",
    "    return least_error_3D.x"
   ]
  },
  {
   "cell_type": "code",
   "execution_count": 309,
   "metadata": {},
   "outputs": [
    {
     "data": {
      "text/plain": [
       "array([[1.00153898e+00],\n",
       "       [9.98546324e-01],\n",
       "       [4.27509402e-05]])"
      ]
     },
     "execution_count": 309,
     "metadata": {},
     "output_type": "execute_result"
    }
   ],
   "source": [
    "optimised_Q = triangulate_nonlin(pixel_coords, proj_matrices).reshape(4, 1)\n",
    "Pi(optimised_Q)"
   ]
  },
  {
   "cell_type": "code",
   "execution_count": 318,
   "metadata": {},
   "outputs": [
    {
     "name": "stdout",
     "output_type": "stream",
     "text": [
      "[[1300.]\n",
      " [1100.]] [[1301.04731247]\n",
      " [1098.95254574]]\n",
      "[[635.]\n",
      " [435.]] [[635.05378922]\n",
      " [434.94904663]]\n"
     ]
    },
    {
     "data": {
      "text/plain": [
       "(0.06701027107669148, 1.3401508667857065, 0.00211741543362531)"
      ]
     },
     "execution_count": 318,
     "metadata": {},
     "output_type": "execute_result"
    }
   ],
   "source": [
    "q1_reprojected = Pi(P1 @ optimised_Q)\n",
    "q2_reprojected = Pi(P2 @ optimised_Q)\n",
    "print(q1, q1_reprojected)\n",
    "print(q2, q2_reprojected)\n",
    "diff1 = np.linalg.norm(q1_reprojected - q1_noise)\n",
    "diff2 = np.linalg.norm(q2_reprojected - q2_noise)\n",
    "diff1, diff2, np.linalg.norm(Pi(optimised_Q) - Q)"
   ]
  }
 ],
 "metadata": {
  "kernelspec": {
   "display_name": "usr",
   "language": "python",
   "name": "python3"
  },
  "language_info": {
   "codemirror_mode": {
    "name": "ipython",
    "version": 3
   },
   "file_extension": ".py",
   "mimetype": "text/x-python",
   "name": "python",
   "nbconvert_exporter": "python",
   "pygments_lexer": "ipython3",
   "version": "3.10.12"
  }
 },
 "nbformat": 4,
 "nbformat_minor": 2
}
