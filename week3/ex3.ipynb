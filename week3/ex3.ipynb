{
 "cells": [
  {
   "cell_type": "code",
   "execution_count": 1,
   "metadata": {},
   "outputs": [],
   "source": [
    "import numpy as np\n",
    "from scipy.spatial.transform import Rotation"
   ]
  },
  {
   "cell_type": "code",
   "execution_count": 2,
   "metadata": {},
   "outputs": [],
   "source": [
    "def Pi(x: np.array):\n",
    "    \"\"\"\n",
    "    Converts homogeneous to inhomogeneous coordinates\n",
    "    Args:\n",
    "        x (np.array) homogeneous coordinate\n",
    "\n",
    "    Return:\n",
    "        np.array converted inhomogeneous coordinate\n",
    "    \"\"\"\n",
    "\n",
    "    return x[:-1] / x[-1]\n",
    "\n",
    "def Piinv(x: np.array):\n",
    "    \"\"\"\n",
    "    Converts inhomogeneous to homogeneous coordinates\n",
    "\n",
    "    Args:\n",
    "        x (np.array) inhomogeneous coordinate\n",
    "\n",
    "    Return:\n",
    "        np.array converted homogeneous coordinate\n",
    "    \"\"\"\n",
    "    if x.ndim == 1:\n",
    "        return np.concatenate((x, np.ones(1)))\n",
    "    return np.vstack((x, np.ones((1, x.shape[1]))))"
   ]
  },
  {
   "cell_type": "markdown",
   "metadata": {},
   "source": [
    "## Epipolar geometry"
   ]
  },
  {
   "cell_type": "markdown",
   "metadata": {},
   "source": [
    "![rotation](images/rotation.png)"
   ]
  },
  {
   "cell_type": "code",
   "execution_count": 3,
   "metadata": {},
   "outputs": [],
   "source": [
    "K = np.asarray([[1000, 0 , 300], [0, 1000, 200], [0, 0, 1]])\n",
    "R1 = np.eye(3)\n",
    "t1 = np.zeros((3, 1))\n",
    "R2 = Rotation.from_euler('xyz', [0.7, -0.5, 0.8]).as_matrix()\n",
    "t2 = np.asarray([0.2, 2, 1]).reshape(3, 1)"
   ]
  },
  {
   "cell_type": "markdown",
   "metadata": {},
   "source": [
    "## Ex 3.1"
   ]
  },
  {
   "cell_type": "code",
   "execution_count": 4,
   "metadata": {},
   "outputs": [
    {
     "data": {
      "text/plain": [
       "(array([[550.],\n",
       "        [325.]]),\n",
       " array([[582.47256835],\n",
       "        [185.98985776]]))"
      ]
     },
     "execution_count": 4,
     "metadata": {},
     "output_type": "execute_result"
    }
   ],
   "source": [
    "Q = np.asarray([1, 0.5, 4, 1]).reshape((4, 1))\n",
    "P1 = np.concatenate((R1, t1), axis=1)\n",
    "P2 = np.concatenate((R2, t2), axis=1)\n",
    "q1 = K @ P1 @ Q\n",
    "q2 = K @ P2 @ Q\n",
    "Pi(q1), Pi(q2)"
   ]
  },
  {
   "cell_type": "markdown",
   "metadata": {},
   "source": [
    "## Ex 3.2"
   ]
  },
  {
   "cell_type": "code",
   "execution_count": 5,
   "metadata": {},
   "outputs": [],
   "source": [
    "def skew(x: np.array):\n",
    "    \"\"\"\n",
    "    This function returns a numpy array with the skew symmetric cross product matrix for vector.\n",
    "    the skew symmetric cross product matrix is defined such that\n",
    "    np.cross(a, b) = np.dot(skew(a), b)\n",
    "    https://stackoverflow.com/questions/36915774/form-numpy-array-from-possible-numpy-array\n",
    "\n",
    "    Args:\n",
    "        x (np.array): 1x3 matrix\n",
    "\n",
    "    Return:\n",
    "        s (np.array): 3x3 skew symmetrix matrix for cross product\n",
    "    \"\"\"\n",
    "    vector = x.ravel()\n",
    "    s = np.asarray(\n",
    "        [\n",
    "            [0, -vector[2], vector[1]],\n",
    "            [vector[2], 0, -vector[0]],\n",
    "            [-vector[1], vector[0], 0],\n",
    "        ]\n",
    "    )\n",
    "    return s"
   ]
  },
  {
   "cell_type": "markdown",
   "metadata": {},
   "source": [
    "## Ex 3.3"
   ]
  },
  {
   "cell_type": "markdown",
   "metadata": {},
   "source": [
    "![fundamental_matrix](images/fundamental.png)"
   ]
  },
  {
   "cell_type": "code",
   "execution_count": 12,
   "metadata": {},
   "outputs": [
    {
     "data": {
      "text/plain": [
       "array([[ 3.29311881e-07,  8.19396327e-07,  1.79162592e-03],\n",
       "       [ 5.15532551e-07, -8.76915984e-07,  9.31426656e-05],\n",
       "       [-1.29882755e-03,  1.51951700e-03, -1.10072682e+00]])"
      ]
     },
     "execution_count": 12,
     "metadata": {},
     "output_type": "execute_result"
    }
   ],
   "source": [
    "# Compute fundamental matrix F of the two cameras\n",
    "# Since first cam, R = I and no translation\n",
    "# The R and t between the camera is R2 and t2\n",
    "E = skew(t2) @ R2\n",
    "F = np.linalg.inv(K.T) @ E @ np.linalg.inv(K)\n",
    "F"
   ]
  },
  {
   "cell_type": "markdown",
   "metadata": {},
   "source": [
    "## Ex 3.4"
   ]
  },
  {
   "cell_type": "markdown",
   "metadata": {},
   "source": [
    "![visual](images/visual.png)"
   ]
  },
  {
   "cell_type": "code",
   "execution_count": 14,
   "metadata": {},
   "outputs": [
    {
     "data": {
      "text/plain": [
       "array([[ 8.95620504e-03],\n",
       "       [ 3.66751496e-04],\n",
       "       [-5.28495581e+00]])"
      ]
     },
     "execution_count": 14,
     "metadata": {},
     "output_type": "execute_result"
    }
   ],
   "source": [
    "# The fundamental matrix F maps a point to its corresponding epipolar line in the other image. \n",
    "# https://math.stackexchange.com/questions/3634914/find-epipolar-lines-from-fundamental-matrix\n",
    "# Going from epipolar line q1 to q2\n",
    "l = F @ q1\n",
    "l"
   ]
  },
  {
   "cell_type": "markdown",
   "metadata": {},
   "source": [
    "## Ex 3.5"
   ]
  },
  {
   "cell_type": "code",
   "execution_count": 15,
   "metadata": {},
   "outputs": [
    {
     "data": {
      "text/plain": [
       "array([[8.00010558e-15]])"
      ]
     },
     "execution_count": 15,
     "metadata": {},
     "output_type": "execute_result"
    }
   ],
   "source": [
    "q2.T @ l\n",
    "# Very close to 0, so close to the line"
   ]
  },
  {
   "cell_type": "markdown",
   "metadata": {},
   "source": [
    "## Ex 3.6\n",
    "![fake_derivation](images/fake_derivation.png)"
   ]
  },
  {
   "cell_type": "markdown",
   "metadata": {},
   "source": [
    "## Ex 3.7\n",
    "![proof](images/proof.png)"
   ]
  },
  {
   "cell_type": "markdown",
   "metadata": {},
   "source": [
    "## Ex 3.8"
   ]
  },
  {
   "cell_type": "code",
   "execution_count": 34,
   "metadata": {},
   "outputs": [
    {
     "name": "stdout",
     "output_type": "stream",
     "text": [
      "(602, 806, 3) (3, 3) (3,) (602, 806, 3) (3, 3) (3, 3)\n"
     ]
    },
    {
     "data": {
      "text/plain": [
       "dict_items([('im1', array([[[227, 230, 237],\n",
       "        [226, 229, 236],\n",
       "        [227, 230, 237],\n",
       "        ...,\n",
       "        [134, 137, 125],\n",
       "        [ 93,  91,  74],\n",
       "        [ 96,  99,  80]],\n",
       "\n",
       "       [[227, 230, 237],\n",
       "        [226, 229, 236],\n",
       "        [226, 229, 236],\n",
       "        ...,\n",
       "        [131, 133, 119],\n",
       "        [ 93,  90,  73],\n",
       "        [ 91,  93,  75]],\n",
       "\n",
       "       [[225, 228, 235],\n",
       "        [225, 228, 235],\n",
       "        [226, 229, 236],\n",
       "        ...,\n",
       "        [117, 118, 104],\n",
       "        [ 93,  91,  74],\n",
       "        [ 88,  87,  72]],\n",
       "\n",
       "       ...,\n",
       "\n",
       "       [[100,  98,  75],\n",
       "        [ 99,  96,  75],\n",
       "        [114, 111,  94],\n",
       "        ...,\n",
       "        [151, 144, 138],\n",
       "        [167, 160, 154],\n",
       "        [155, 148, 142]],\n",
       "\n",
       "       [[ 89,  88,  62],\n",
       "        [108, 106,  80],\n",
       "        [121, 119,  98],\n",
       "        ...,\n",
       "        [157, 150, 144],\n",
       "        [157, 150, 144],\n",
       "        [161, 154, 148]],\n",
       "\n",
       "       [[115, 115,  83],\n",
       "        [126, 125,  94],\n",
       "        [134, 132, 105],\n",
       "        ...,\n",
       "        [152, 143, 138],\n",
       "        [167, 158, 153],\n",
       "        [165, 156, 151]]], dtype=uint8)), ('R1', array([[ 0.5267681 ,  0.32492254, -0.78545573],\n",
       "       [-0.37588498,  0.91783945,  0.12759791],\n",
       "       [ 0.7623817 ,  0.2280265 ,  0.60562205]])), ('t1', array([ 1.55318217, -0.31156043,  0.6063164 ])), ('im2', array([[[179, 185, 185],\n",
       "        [179, 185, 185],\n",
       "        [179, 183, 184],\n",
       "        ...,\n",
       "        [195, 194, 187],\n",
       "        [197, 196, 189],\n",
       "        [192, 191, 184]],\n",
       "\n",
       "       [[177, 183, 185],\n",
       "        [176, 182, 184],\n",
       "        [179, 183, 185],\n",
       "        ...,\n",
       "        [105, 109, 102],\n",
       "        [105, 110, 103],\n",
       "        [107, 112, 105]],\n",
       "\n",
       "       [[174, 179, 182],\n",
       "        [177, 182, 185],\n",
       "        [177, 182, 185],\n",
       "        ...,\n",
       "        [ 99, 102,  92],\n",
       "        [101, 103,  94],\n",
       "        [118, 120, 110]],\n",
       "\n",
       "       ...,\n",
       "\n",
       "       [[136, 135, 133],\n",
       "        [139, 138, 136],\n",
       "        [140, 139, 137],\n",
       "        ...,\n",
       "        [ 83,  82,  44],\n",
       "        [ 76,  73,  34],\n",
       "        [107, 103,  62]],\n",
       "\n",
       "       [[133, 132, 130],\n",
       "        [142, 141, 139],\n",
       "        [139, 138, 136],\n",
       "        ...,\n",
       "        [ 86,  88,  61],\n",
       "        [ 86,  85,  56],\n",
       "        [ 83,  83,  52]],\n",
       "\n",
       "       [[135, 134, 132],\n",
       "        [134, 133, 131],\n",
       "        [137, 136, 134],\n",
       "        ...,\n",
       "        [141, 143, 127],\n",
       "        [ 82,  84,  65],\n",
       "        [ 83,  84,  64]]], dtype=uint8)), ('R2', array([[ 0.12685323,  0.37905444, -0.91663842],\n",
       "       [-0.42192709,  0.85695473,  0.29598332],\n",
       "       [ 0.89771142,  0.34920814,  0.26864081]])), ('t2', array([ 1.82281073, -0.64893372,  1.31225369])), ('K', array([[704.23195387,   0.        , 408.76623175],\n",
       "       [  0.        , 704.23195387, 303.5356766 ],\n",
       "       [  0.        ,   0.        ,   1.        ]]))])"
      ]
     },
     "execution_count": 34,
     "metadata": {},
     "output_type": "execute_result"
    }
   ],
   "source": [
    "items = np.load('TwoImageDataCar.npy', allow_pickle=True).item()\n",
    "im1, R1, t1, im2, R2, t2, K = items.values()\n",
    "print(im1.shape, R1.shape, t1.shape, im2.shape, R2.shape, K.shape)\n",
    "# R1, t1, R2, t2"
   ]
  },
  {
   "cell_type": "markdown",
   "metadata": {},
   "source": [
    "![fundamental_matrix](images/fundamental.png)"
   ]
  },
  {
   "cell_type": "markdown",
   "metadata": {},
   "source": [
    "![properties](images/properties.png)"
   ]
  },
  {
   "cell_type": "code",
   "execution_count": 37,
   "metadata": {},
   "outputs": [
    {
     "data": {
      "text/plain": [
       "array([[-1.50228281e-08, -3.45997421e-07, -3.47606501e-05],\n",
       "       [-2.06767970e-07,  3.96284278e-08, -9.29558240e-04],\n",
       "       [ 2.61581163e-05,  1.12168578e-03,  1.17449076e-02]])"
      ]
     },
     "execution_count": 37,
     "metadata": {},
     "output_type": "execute_result"
    }
   ],
   "source": [
    "# Find relative rotation and translation\n",
    "R = R2 @ R1.T\n",
    "t = t2 - R @ t1\n",
    "E = skew(t) @ R\n",
    "F = np.linalg.inv(K.T) @ E @ np.linalg.inv(K)\n",
    "F"
   ]
  },
  {
   "cell_type": "markdown",
   "metadata": {},
   "source": [
    "## Ex 3.9"
   ]
  },
  {
   "cell_type": "code",
   "execution_count": 39,
   "metadata": {},
   "outputs": [],
   "source": [
    "import matplotlib.pyplot as plt\n",
    "import numpy as np"
   ]
  },
  {
   "cell_type": "code",
   "execution_count": 40,
   "metadata": {},
   "outputs": [],
   "source": [
    "# Function to draw a line given in homogeneous coordinates\n",
    "def DrawLine(l, shape):\n",
    "    def in_frame(l_im):\n",
    "        q = np.cross(l.flatten(), l_im)\n",
    "        q = q[:2] / q[2]\n",
    "        if all(q >= 0) and all(q + 1 <= shape[1::-1]):\n",
    "            return q\n",
    "\n",
    "    lines = [[1, 0, 0], [0, 1, 0], [1, 0, 1 - shape[1]], [0, 1, 1 - shape[0]]]\n",
    "    P = [in_frame(l_im) for l_im in lines if in_frame(l_im) is not None]\n",
    "    if len(P) == 0:\n",
    "        print(\"Line is completely outside image\")\n",
    "    else:\n",
    "        plt.plot(*np.array(P).T, color=\"red\")"
   ]
  },
  {
   "cell_type": "code",
   "execution_count": 44,
   "metadata": {},
   "outputs": [
    {
     "name": "stdout",
     "output_type": "stream",
     "text": [
      "Clicked point in Image 1: (577.22, 241.3933333333332)\n",
      "Epipolar constraint error: -0.02655921514140308\n"
     ]
    }
   ],
   "source": [
    "plt.figure(figsize=(12, 6))\n",
    "plt.subplot(1, 2, 1)\n",
    "plt.imshow(im1)\n",
    "plt.title(\"Image 1\")\n",
    "plt.subplot(1, 2, 2)\n",
    "plt.imshow(im2)\n",
    "plt.title(\"Image 2\")\n",
    "plt.show()\n",
    "# Enable interactive mode for clicking\n",
    "%matplotlib qt\n",
    "\n",
    "# Function to handle mouse clicks and draw epipolar lines\n",
    "def onclick(event):\n",
    "    if event.inaxes == plt.gcf().axes[0]:  # Check if click is in the first image\n",
    "        # Get the clicked point coordinates\n",
    "        x, y = event.xdata, event.ydata\n",
    "        print(f\"Clicked point in Image 1: ({x}, {y})\")\n",
    "\n",
    "        # Convert the point to homogeneous coordinates\n",
    "        q1 = np.array([x, y, 1])\n",
    "\n",
    "        # Compute the epipolar line in Image 2\n",
    "        l2 = F @ q1  # Epipolar line in Image 2 (homogeneous coordinates)\n",
    "\n",
    "        # Display Image 2 with the epipolar line\n",
    "        plt.figure()\n",
    "        plt.imshow(im2)\n",
    "        DrawLine(l2, im2.shape)\n",
    "        plt.title(\"Epipolar Line in Image 2\")\n",
    "        plt.show()\n",
    "\n",
    "        # Verify that the clicked point lies on the epipolar line\n",
    "        q2 = np.array([x, y, 1])  # Assume the same point for verification\n",
    "        error = q2.T @ l2  # Epipolar constraint: q2^T * F * q1 = 0\n",
    "        print(f\"Epipolar constraint error: {error}\")\n",
    "\n",
    "# Connect the click event to the function\n",
    "plt.figure(figsize=(12, 6))\n",
    "plt.subplot(1, 2, 1)\n",
    "plt.imshow(im1)\n",
    "plt.title(\"Image 1\")\n",
    "plt.subplot(1, 2, 2)\n",
    "plt.imshow(im2)\n",
    "plt.title(\"Image 2\")\n",
    "plt.gcf().canvas.mpl_connect('button_press_event', onclick)\n",
    "plt.show()"
   ]
  },
  {
   "cell_type": "markdown",
   "metadata": {},
   "source": [
    "## Triangulation\n",
    "Create a function triangulate. It should be able to triangulate a single 3D point that has been\n",
    "seen by n different cameras. The function should take as input: a list of n pixel coordinates (q1, q2,\n",
    ". . . , qn), and a list of n projection matrices (P1, P2, . . . , Pn), and should return the triangulation\n",
    "of the point in 3D using the linear algorithm.\n",
    "Test your function by defining a 3D point, project this point to the image planes of the two\n",
    "cameras, and then triangulate it using the projection. Try reprojecting your estimated 3D point\n",
    "to the cameras. Do you find the same 2D pixels?"
   ]
  },
  {
   "cell_type": "code",
   "execution_count": 84,
   "metadata": {},
   "outputs": [],
   "source": [
    "def triangulate(pixel_coords: np.array, proj_matrices: np.array):\n",
    "    \"\"\"\n",
    "    Given a list of pixel coordinates and projection matrices, triangulate to a common 3D point\n",
    "    Args:\n",
    "        pixel_coords (np.array): list of pixel coordinates\n",
    "        proj_matrices (np.array): list of projection matrices\n",
    "\n",
    "    Return:\n",
    "        triangle (np.array): triangulated 3D point\n",
    "    \"\"\"\n",
    "    n = pixel_coords.shape[0]\n",
    "    # B_stack = []\n",
    "    B_stack = np.zeros((n * 2, 4))\n",
    "    for i in range(n):\n",
    "        x, y = pixel_coords[i]\n",
    "        proj_matrix = proj_matrices[i]\n",
    "        B = np.asarray([proj_matrix[2, :] * x - proj_matrix[0, :], \n",
    "                        proj_matrix[2, :] * y - proj_matrix[1, :]])\n",
    "        B_stack = np.vstack((B_stack, B))\n",
    "    U, S, Vt = np.linalg.svd(B_stack)\n",
    "    # Get the smallest vector\n",
    "    print(f\"Vt is {Vt}\")\n",
    "    triangle = Vt[-1, :]\n",
    "    triangle /= triangle[-1]\n",
    "    return triangle"
   ]
  },
  {
   "cell_type": "code",
   "execution_count": 87,
   "metadata": {},
   "outputs": [
    {
     "name": "stdout",
     "output_type": "stream",
     "text": [
      "Vt is [[-0.41726678 -0.62829961  0.6250196  -0.20119278]\n",
      " [-0.82146154  0.5493263  -0.04346089 -0.1468084 ]\n",
      " [ 0.29055585  0.19186857  0.08638088 -0.93343564]\n",
      " [-0.25819889 -0.51639778 -0.77459667 -0.25819889]]\n",
      "[0.00000000e+00 0.00000000e+00 0.00000000e+00 0.00000000e+00\n",
      " 5.55111512e-16 2.22044605e-16 4.44089210e-16 0.00000000e+00]\n",
      "True 3D point (Q_true): [1 2 3 1]\n",
      "Estimated 3D point (Q_estimated): [1. 2. 3. 1.]\n",
      "Original pixel coordinates (q1, q2): [0.33333333 0.66666667] [0.5  0.75]\n",
      "Reprojected pixel coordinates (q1_reprojected, q2_reprojected): [0.33333333 0.66666667] [0.5  0.75]\n"
     ]
    }
   ],
   "source": [
    "# Define a 3D point in homogeneous coordinates\n",
    "Q_true = np.array([1, 2, 3, 1])  # [X, Y, Z, 1]\n",
    "\n",
    "# Define two camera projection matrices\n",
    "P1 = np.array([[1, 0, 0, 0], [0, 1, 0, 0], [0, 0, 1, 0]])\n",
    "\n",
    "P2 = np.array([[1, 0, 0, 1], [0, 1, 0, 1], [0, 0, 1, 1]])\n",
    "\n",
    "# Project the 3D point onto the image planes\n",
    "q1 = P1 @ Q_true  # Projection in camera 1\n",
    "q2 = P2 @ Q_true  # Projection in camera 2\n",
    "\n",
    "# Normalize to get pixel coordinates\n",
    "q1 = q1[:2] / q1[2]\n",
    "q2 = q2[:2] / q2[2]\n",
    "\n",
    "# Prepare inputs for triangulate function\n",
    "pixel_coords = np.array([q1, q2])  # Shape: (2, 2)\n",
    "proj_matrices = np.array([P1, P2])  # Shape: (2, 3, 4)\n",
    "\n",
    "# Triangulate the 3D point\n",
    "Q_estimated = triangulate(pixel_coords, proj_matrices)\n",
    "\n",
    "# Print results\n",
    "print(\"True 3D point (Q_true):\", Q_true)\n",
    "print(\"Estimated 3D point (Q_estimated):\", Q_estimated)\n",
    "\n",
    "# Verify reprojection\n",
    "q1_reprojected = Pi(P1 @ Q_estimated)\n",
    "q2_reprojected = Pi(P2 @ Q_estimated)\n",
    "\n",
    "# # Normalize reprojected points\n",
    "# q1_reprojected = q1_reprojected[:2] / q1_reprojected[2]\n",
    "# q2_reprojected = q2_reprojected[:2] / q2_reprojected[2]\n",
    "\n",
    "print(\"Original pixel coordinates (q1, q2):\", q1, q2)\n",
    "print(\n",
    "    \"Reprojected pixel coordinates (q1_reprojected, q2_reprojected):\",\n",
    "    q1_reprojected,\n",
    "    q2_reprojected,\n",
    ")"
   ]
  }
 ],
 "metadata": {
  "kernelspec": {
   "display_name": "usr",
   "language": "python",
   "name": "python3"
  },
  "language_info": {
   "codemirror_mode": {
    "name": "ipython",
    "version": 3
   },
   "file_extension": ".py",
   "mimetype": "text/x-python",
   "name": "python",
   "nbconvert_exporter": "python",
   "pygments_lexer": "ipython3",
   "version": "3.10.12"
  }
 },
 "nbformat": 4,
 "nbformat_minor": 2
}
