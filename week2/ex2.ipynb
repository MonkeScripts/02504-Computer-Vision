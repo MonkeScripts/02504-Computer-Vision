{
 "cells": [
  {
   "cell_type": "markdown",
   "metadata": {},
   "source": [
    "## Ex2"
   ]
  },
  {
   "cell_type": "code",
   "execution_count": 2,
   "metadata": {},
   "outputs": [],
   "source": [
    "import numpy as np\n",
    "%matplotlib inline \n",
    "import matplotlib.pyplot as plt"
   ]
  },
  {
   "cell_type": "code",
   "execution_count": 3,
   "metadata": {},
   "outputs": [],
   "source": [
    "import itertools as it\n",
    "def box3d(n=16):\n",
    "    points = []\n",
    "    N = tuple(np.linspace(-1, 1, n))\n",
    "    for i, j in [(-1, -1), (-1, 1), (1, 1), (0, 0)]:\n",
    "        points.extend(set(it.permutations([(i, )*n, (j, )*n, N])))\n",
    "    return np.hstack(points)/2"
   ]
  },
  {
   "cell_type": "code",
   "execution_count": 4,
   "metadata": {},
   "outputs": [],
   "source": [
    "def Pi(x: np.array):\n",
    "    \"\"\"\n",
    "    Converts homogeneous to inhomogeneous coordinates\n",
    "    Args:\n",
    "        x (np.array) homogeneous coordinate\n",
    "\n",
    "    Return:\n",
    "        np.array converted inhomogeneous coordinate\n",
    "    \"\"\"\n",
    "\n",
    "    return x[:-1] / x[-1]\n",
    "\n",
    "\n",
    "def Piinv(x: np.array):\n",
    "    \"\"\"\n",
    "    Converts inhomogeneous to homogeneous coordinates\n",
    "\n",
    "    Args:\n",
    "        x (np.array) inhomogeneous coordinate\n",
    "\n",
    "    Return:\n",
    "        np.array converted homogeneous coordinate\n",
    "    \"\"\"\n",
    "    if x.ndim == 1:\n",
    "        return np.concatenate((x, np.ones(1)))\n",
    "    return np.vstack((x, np.ones((1, x.shape[1]))))"
   ]
  },
  {
   "cell_type": "code",
   "execution_count": 5,
   "metadata": {},
   "outputs": [],
   "source": [
    "box = box3d(16)\n",
    "Q = Piinv(box)"
   ]
  },
  {
   "cell_type": "code",
   "execution_count": 6,
   "metadata": {},
   "outputs": [],
   "source": [
    "f = 600\n",
    "alpha = 1\n",
    "beta = 0\n",
    "delta_x, delta_y = 400, 400\n"
   ]
  },
  {
   "cell_type": "markdown",
   "metadata": {},
   "source": [
    "δx and δy are the coordinates of the principal point (the optical center) in pixels.\n",
    "The principal point (δx,δy) is typically at the center of the image. Therefore, the total resolution of the image can be estimated by doubling the principal point coordinates:\n",
    "\n",
    "Width (in pixels): \n",
    "2×δx=2×400=800 pixels.\n",
    "\n",
    "Height (in pixels): \n",
    "2×δy=2×400=800 pixels."
   ]
  },
  {
   "cell_type": "code",
   "execution_count": 7,
   "metadata": {},
   "outputs": [],
   "source": [
    "def projectpoints(K: np.array, R: np.array, t: np.array, Q: np.array):\n",
    "    \"\"\"\n",
    "    Obtains projected 2D coordinates from world coordinates\n",
    "\n",
    "    Args:\n",
    "        K (np.array) intrinsics matrix\n",
    "        R (np.array) extrinsic rotation matrix\n",
    "        t (np.array) extrinsic translation matrix\n",
    "        Q (np.array) homogeneous input points in world coordinates\n",
    "\n",
    "    Return:\n",
    "        np.array projected 2D points\n",
    "    \"\"\"\n",
    "    # Projection matrix = K[R t] Q\n",
    "    extrinsics = np.concatenate((R, t), axis=1)\n",
    "    return K @ extrinsics @ Q"
   ]
  },
  {
   "cell_type": "code",
   "execution_count": 8,
   "metadata": {},
   "outputs": [],
   "source": [
    "def Pi(x: np.array):\n",
    "    \"\"\"\n",
    "    Converts homogeneous to inhomogeneous coordinates\n",
    "    Args:\n",
    "        x (np.array) homogeneous coordinate\n",
    "\n",
    "    Return:\n",
    "        np.array converted inhomogeneous coordinate\n",
    "    \"\"\"\n",
    "\n",
    "    return x[:-1] / x[-1]\n",
    "\n",
    "\n",
    "def Piinv(x: np.array):\n",
    "    \"\"\"\n",
    "    Converts inhomogeneous to homogeneous coordinates\n",
    "\n",
    "    Args:\n",
    "        x (np.array) inhomogeneous coordinate\n",
    "\n",
    "    Return:\n",
    "        np.array converted homogeneous coordinate\n",
    "    \"\"\"\n",
    "    if x.ndim == 1:\n",
    "        return np.concatenate((x, np.ones(1)))\n",
    "    return np.vstack((x, np.ones((1, x.shape[1]))))"
   ]
  },
  {
   "cell_type": "code",
   "execution_count": 9,
   "metadata": {},
   "outputs": [
    {
     "data": {
      "text/plain": [
       "array([[100.],\n",
       "       [220.],\n",
       "       [  1.]])"
      ]
     },
     "execution_count": 9,
     "metadata": {},
     "output_type": "execute_result"
    }
   ],
   "source": [
    "R = np.eye(3)\n",
    "t = np.asarray([0,0.2,1.5]).reshape((3, 1))\n",
    "K = np.asarray([[f, beta*f, delta_x ], [0, alpha*f, delta_y], [0, 0, 1]])\n",
    "point = np.asarray([-0.5, -0.5, -0.5]).reshape((3, 1))\n",
    "projectpoints(K, R, t, Piinv(point))"
   ]
  },
  {
   "cell_type": "markdown",
   "metadata": {},
   "source": [
    "## Ex 2.2"
   ]
  },
  {
   "cell_type": "code",
   "execution_count": 10,
   "metadata": {},
   "outputs": [
    {
     "data": {
      "text/plain": [
       "<function __main__.Pi(x: <built-in function array>)>"
      ]
     },
     "execution_count": 10,
     "metadata": {},
     "output_type": "execute_result"
    }
   ],
   "source": [
    "x = np.asarray([1,2, 3]).reshape((3, 1))\n",
    "Pi"
   ]
  },
  {
   "cell_type": "code",
   "execution_count": 11,
   "metadata": {},
   "outputs": [
    {
     "name": "stdout",
     "output_type": "stream",
     "text": [
      "Undergoing distortion with coeffs: [0.1  0.01]\n"
     ]
    },
    {
     "data": {
      "text/plain": [
       "array([1.2736068, 2.5472136])"
      ]
     },
     "execution_count": 11,
     "metadata": {},
     "output_type": "execute_result"
    }
   ],
   "source": [
    "def dist(point: np.array, distCoeffs: np.array, poly_func):\n",
    "    \"\"\"\n",
    "    Returns a distorted version of x based on radial distortion\n",
    "    With polynomial coefficients in distCoeffs\n",
    "    \n",
    "    Args:\n",
    "        point (np.array): Input inhomogeneous 2d points\n",
    "        distCoeffs (np.array): radial distortion polynomial coefficients\n",
    "        poly_func (function): Function that computes polynomial \n",
    "\n",
    "    Return:\n",
    "        np.array of distorted image in inhomogeneous coordinates\n",
    "    \"\"\"\n",
    "    point_x = point[0]\n",
    "    point_y = point[1]\n",
    "    squared = np.sqrt(point_x ** 2 + point_y ** 2)\n",
    "    print(f\"Undergoing distortion with coeffs: {distCoeffs}\")\n",
    "    distortion_factor = poly_func(squared, distCoeffs)\n",
    "    distorted_point = point * distortion_factor\n",
    "    return distorted_point\n",
    "\n",
    "distCoeffs = np.asarray([0.1, 0.01])\n",
    "point = np.asarray([1.0, 2.0])\n",
    "poly_lambda = lambda squared, coeffs: 1 + coeffs[0] * squared + coeffs[1] * (squared**2)\n",
    "distorted_point = dist(point, distCoeffs, poly_lambda)\n",
    "distorted_point"
   ]
  },
  {
   "cell_type": "code",
   "execution_count": 12,
   "metadata": {},
   "outputs": [],
   "source": [
    "def projectpoints(K: np.array, R: np.array, t: np.array, distCoeffs: np.array, Q: np.array):\n",
    "    \"\"\"\n",
    "    Obtains projected 2D coordinates from world coordinates\n",
    "\n",
    "    Args:\n",
    "        K (np.array): intrinsics matrix\n",
    "        R (np.array): extrinsic rotation matrix\n",
    "        t (np.array): extrinsic translation matrix\n",
    "        distCoeffs: (np.array) distortion coefficient matrix\n",
    "        Q (np.array): homogeneous input points in world coordinates\n",
    "\n",
    "    Return:\n",
    "        np.array projected 2D points with distortion\n",
    "    \"\"\"\n",
    "    # Projection matrix = K[R t] Q\n",
    "    extrinsics = np.concatenate((R, t), axis=1)\n",
    "    poly_lambda = (\n",
    "        lambda squared, coeffs: 1 + coeffs[0] * (squared ** 2)\n",
    "    )\n",
    "    distorted_point = dist(Pi(extrinsics @ Q), distCoeffs, poly_lambda)\n",
    "    print(f\"distorted_point is {distorted_point}\")\n",
    "    return K @ Piinv(distorted_point)"
   ]
  },
  {
   "cell_type": "code",
   "execution_count": 13,
   "metadata": {},
   "outputs": [
    {
     "name": "stdout",
     "output_type": "stream",
     "text": [
      "Undergoing distortion with coeffs: [-0.2]\n",
      "distorted_point is [[-0.466 ]\n",
      " [-0.2796]]\n"
     ]
    },
    {
     "data": {
      "text/plain": [
       "array([[120.4 ],\n",
       "       [232.24],\n",
       "       [  1.  ]])"
      ]
     },
     "execution_count": 13,
     "metadata": {},
     "output_type": "execute_result"
    }
   ],
   "source": [
    "distCoeffs = np.asarray([-0.2])\n",
    "point = np.asarray([-0.5, -0.5, -0.5]).reshape((3, 1))\n",
    "projectpoints(K, R, t, distCoeffs, Piinv(point))"
   ]
  },
  {
   "cell_type": "code",
   "execution_count": 14,
   "metadata": {},
   "outputs": [
    {
     "name": "stdout",
     "output_type": "stream",
     "text": [
      "Undergoing distortion with coeffs: [-0.2]\n",
      "distorted_point is [[-0.466      -0.40925926 -0.35020741 -0.2892     -0.22659259 -0.16274074\n",
      "  -0.098      -0.03272593  0.03272593  0.098       0.16274074  0.22659259\n",
      "   0.2892      0.35020741  0.40925926  0.466      -0.466      -0.46955556\n",
      "  -0.47222222 -0.474      -0.47488889 -0.47488889 -0.474      -0.47222222\n",
      "  -0.46955556 -0.466      -0.46155556 -0.45622222 -0.45       -0.44288889\n",
      "  -0.43488889 -0.426      -0.466      -0.44073486 -0.41782007 -0.39699074\n",
      "  -0.378007   -0.36065625 -0.34475219 -0.33013242 -0.31665571 -0.30419922\n",
      "  -0.292656   -0.28193275 -0.27194787 -0.26262983 -0.2539157  -0.24575\n",
      "  -0.24575    -0.24619444 -0.24652778 -0.24675    -0.24686111 -0.24686111\n",
      "  -0.24675    -0.24652778 -0.24619444 -0.24575    -0.24519444 -0.24452778\n",
      "  -0.24375    -0.24286111 -0.24186111 -0.24075     0.466       0.46955556\n",
      "   0.47222222  0.474       0.47488889  0.47488889  0.474       0.47222222\n",
      "   0.46955556  0.466       0.46155556  0.45622222  0.45        0.44288889\n",
      "   0.43488889  0.426      -0.426      -0.37459259 -0.32087407 -0.2652\n",
      "  -0.20792593 -0.14940741 -0.09       -0.03005926  0.03005926  0.09\n",
      "   0.14940741  0.20792593  0.2652      0.32087407  0.37459259  0.426\n",
      "  -0.24575    -0.21365741 -0.18127593 -0.14865    -0.11582407 -0.08284259\n",
      "  -0.04975    -0.01659074  0.01659074  0.04975     0.08284259  0.11582407\n",
      "   0.14865     0.18127593  0.21365741  0.24575    -0.426      -0.40777588\n",
      "  -0.39034195 -0.37384259 -0.35832483 -0.34378125 -0.33017493 -0.31745398\n",
      "  -0.30556012 -0.29443359 -0.284016   -0.27425182 -0.26508916 -0.25648005\n",
      "  -0.24838042 -0.24075     0.466       0.44073486  0.41782007  0.39699074\n",
      "   0.378007    0.36065625  0.34475219  0.33013242  0.31665571  0.30419922\n",
      "   0.292656    0.28193275  0.27194787  0.26262983  0.2539157   0.24575\n",
      "  -0.24075    -0.20932407 -0.17760926 -0.14565    -0.11349074 -0.08117593\n",
      "  -0.04875    -0.01625741  0.01625741  0.04875     0.08117593  0.11349074\n",
      "   0.14565     0.17760926  0.20932407  0.24075     0.24575     0.24619444\n",
      "   0.24652778  0.24675     0.24686111  0.24686111  0.24675     0.24652778\n",
      "   0.24619444  0.24575     0.24519444  0.24452778  0.24375     0.24286111\n",
      "   0.24186111  0.24075     0.426       0.40777588  0.39034195  0.37384259\n",
      "   0.35832483  0.34378125  0.33017493  0.31745398  0.30556012  0.29443359\n",
      "   0.284016    0.27425182  0.26508916  0.25648005  0.24838042  0.24075\n",
      "   0.          0.          0.          0.          0.          0.\n",
      "   0.          0.          0.          0.          0.          0.\n",
      "   0.          0.          0.          0.          0.          0.\n",
      "   0.          0.          0.          0.          0.          0.\n",
      "   0.          0.          0.          0.          0.          0.\n",
      "   0.          0.         -0.32474074 -0.28303978 -0.24065405 -0.19768889\n",
      "  -0.15424966 -0.1104417  -0.06637037 -0.02214102  0.02214102  0.06637037\n",
      "   0.1104417   0.15424966  0.19768889  0.24065405  0.28303978  0.32474074]\n",
      " [-0.2796     -0.28333333 -0.28653333 -0.2892     -0.29133333 -0.29293333\n",
      "  -0.294      -0.29453333 -0.29453333 -0.294      -0.29293333 -0.29133333\n",
      "  -0.2892     -0.28653333 -0.28333333 -0.2796     -0.2796     -0.21912593\n",
      "  -0.15740741 -0.0948     -0.03165926  0.03165926  0.0948      0.15740741\n",
      "   0.21912593  0.2796      0.33847407  0.39539259  0.45        0.50194074\n",
      "   0.55085926  0.5964     -0.2796     -0.26444092 -0.25069204 -0.23819444\n",
      "  -0.2268042  -0.21639375 -0.20685131 -0.19807945 -0.18999342 -0.18251953\n",
      "  -0.1755936  -0.16915965 -0.16316872 -0.1575779  -0.15234942 -0.14745\n",
      "  -0.14745    -0.11489074 -0.08217593 -0.04935    -0.01645741  0.01645741\n",
      "   0.04935     0.08217593  0.11489074  0.14745     0.17980926  0.21192407\n",
      "   0.24375     0.27524259  0.30635741  0.33705    -0.2796     -0.21912593\n",
      "  -0.15740741 -0.0948     -0.03165926  0.03165926  0.0948      0.15740741\n",
      "   0.21912593  0.2796      0.33847407  0.39539259  0.45        0.50194074\n",
      "   0.55085926  0.5964      0.5964      0.60511111  0.61257778  0.6188\n",
      "   0.62377778  0.62751111  0.63        0.63124444  0.63124444  0.63\n",
      "   0.62751111  0.62377778  0.6188      0.61257778  0.60511111  0.5964\n",
      "  -0.14745    -0.14791667 -0.14831667 -0.14865    -0.14891667 -0.14911667\n",
      "  -0.14925    -0.14931667 -0.14931667 -0.14925    -0.14911667 -0.14891667\n",
      "  -0.14865    -0.14831667 -0.14791667 -0.14745     0.5964      0.57088623\n",
      "   0.54647873  0.52337963  0.50165476  0.48129375  0.4622449   0.44443557\n",
      "   0.42778417  0.41220703  0.3976224   0.38395255  0.37112483  0.35907207\n",
      "   0.34773258  0.33705    -0.2796     -0.26444092 -0.25069204 -0.23819444\n",
      "  -0.2268042  -0.21639375 -0.20685131 -0.19807945 -0.18999342 -0.18251953\n",
      "  -0.1755936  -0.16915965 -0.16316872 -0.1575779  -0.15234942 -0.14745\n",
      "   0.33705     0.33813889  0.33907222  0.33985     0.34047222  0.34093889\n",
      "   0.34125     0.34140556  0.34140556  0.34125     0.34093889  0.34047222\n",
      "   0.33985     0.33907222  0.33813889  0.33705    -0.14745    -0.11489074\n",
      "  -0.08217593 -0.04935    -0.01645741  0.01645741  0.04935     0.08217593\n",
      "   0.11489074  0.14745     0.17980926  0.21192407  0.24375     0.27524259\n",
      "   0.30635741  0.33705     0.5964      0.57088623  0.54647873  0.52337963\n",
      "   0.50165476  0.48129375  0.4622449   0.44443557  0.42778417  0.41220703\n",
      "   0.3976224   0.38395255  0.37112483  0.35907207  0.34773258  0.33705\n",
      "   0.1984      0.18618164  0.17537146  0.16574074  0.15710745  0.149325\n",
      "   0.14227405  0.1358565   0.12999096  0.12460937  0.1196544   0.11507738\n",
      "   0.11083676  0.10689687  0.10322686  0.0998     -0.1984     -0.15480274\n",
      "  -0.11083676 -0.06660741 -0.02222003  0.02222003  0.06660741  0.11083676\n",
      "   0.15480274  0.1984      0.24152318  0.28406694  0.32592593  0.36699479\n",
      "   0.40716818  0.44634074  0.1298963   0.13063374  0.13126584  0.13179259\n",
      "   0.13221399  0.13253004  0.13274074  0.13284609  0.13284609  0.13274074\n",
      "   0.13253004  0.13221399  0.13179259  0.13126584  0.13063374  0.1298963 ]]\n"
     ]
    },
    {
     "data": {
      "text/plain": [
       "(3, 240)"
      ]
     },
     "execution_count": 14,
     "metadata": {},
     "output_type": "execute_result"
    }
   ],
   "source": [
    "distorted_box = projectpoints(K, R, t, distCoeffs, Q)\n",
    "distorted_box.shape\n"
   ]
  },
  {
   "cell_type": "code",
   "execution_count": 15,
   "metadata": {},
   "outputs": [],
   "source": [
    "def plot_projections(x: np.array):\n",
    "    \"\"\"\n",
    "    Plots projections\n",
    "\n",
    "    Args:\n",
    "        x (np.array) homogeneous coordinate to be plotted\n",
    "\n",
    "    \"\"\"\n",
    "    fig = plt.figure()\n",
    "    ax = fig.add_subplot(projection=\"3d\")\n",
    "    ax.set_xlabel(\"X\")\n",
    "    ax.set_xlabel(\"Y\")\n",
    "    ax.set_xlabel(\"Z\")\n",
    "    ax.scatter(x[0], x[1], x[2])"
   ]
  },
  {
   "cell_type": "code",
   "execution_count": 16,
   "metadata": {},
   "outputs": [
    {
     "data": {
      "image/png": "[encoded data removed]",
      "text/plain": [
       "<Figure size 640x480 with 1 Axes>"
      ]
     },
     "metadata": {},
     "output_type": "display_data"
    }
   ],
   "source": [
    "plot_projections(distorted_box)"
   ]
  },
  {
   "cell_type": "markdown",
   "metadata": {},
   "source": [
    "## Ex 2.3"
   ]
  },
  {
   "cell_type": "code",
   "execution_count": 17,
   "metadata": {},
   "outputs": [
    {
     "data": {
      "text/plain": [
       "(1080, 1920, 3)"
      ]
     },
     "execution_count": 17,
     "metadata": {},
     "output_type": "execute_result"
    }
   ],
   "source": [
    "import cv2\n",
    "input_folder = \"images/\"\n",
    "image_name = \"gopro_robot.jpg\"\n",
    "img = cv2.imread(input_folder + image_name)\n",
    "img.shape"
   ]
  },
  {
   "cell_type": "code",
   "execution_count": 18,
   "metadata": {},
   "outputs": [],
   "source": [
    "window_name = \"gopro robot image\"\n",
    "cv2.imshow(window_name, img)\n",
    "cv2.waitKey(0)\n",
    "cv2.destroyAllWindows()"
   ]
  },
  {
   "cell_type": "code",
   "execution_count": 19,
   "metadata": {},
   "outputs": [
    {
     "data": {
      "text/plain": [
       "array([[875.00544,   0.     , 960.     ],\n",
       "       [  0.     , 875.00544, 540.     ],\n",
       "       [  0.     ,   0.     ,   1.     ]])"
      ]
     },
     "execution_count": 19,
     "metadata": {},
     "output_type": "execute_result"
    }
   ],
   "source": [
    "height = img.shape[0]\n",
    "width = img.shape[1]\n",
    "focal_length = 0.455732 * width\n",
    "alpha = 1\n",
    "beta = 0\n",
    "delta_x = width // 2\n",
    "delta_y = height // 2\n",
    "K = np.asarray(\n",
    "    [\n",
    "        [focal_length, beta * focal_length, delta_x],\n",
    "        [0, alpha * focal_length, delta_y],\n",
    "        [0, 0, 1],\n",
    "    ]\n",
    ")\n",
    "K"
   ]
  },
  {
   "cell_type": "markdown",
   "metadata": {},
   "source": [
    "## Ex 2.4"
   ]
  },
  {
   "cell_type": "markdown",
   "metadata": {},
   "source": [
    "Having the RGB-value of every (integer) pixel location (p) in the undistorted image is the same as having the image.\n",
    "\n",
    "* However, we only know the RGB-value at every location (pd) in the distorted image\n",
    "\n",
    "* Use dist(·) and K to find pd from p\n",
    "* pd = KΠ^−1 (\n",
    "dist (Π (K^−1p)))\n",
    "* Use bilinear interpolation to compute the RGB-value in the\n",
    "distorted image at the (non-integer) point pd.\n",
    "* Not necessary to invert the distortion function!"
   ]
  },
  {
   "cell_type": "markdown",
   "metadata": {},
   "source": [
    "The intrinsics matrix K maps normalized coordinates to pixel coordinates:\n",
    "\n",
    "We invert the mapping K^-1 @ p to go back to the points in the camera coordinate system\n",
    "Recall: K @ p gives the pixels in the image plane. p itself is in the camera coordinates are expressed in meters etc.\n",
    "\n",
    "Note that in the camera coordinate system, the values between the undistorted and distorted are the <b> same <b>\n",
    "So we just generate a newly distorted based on our distortion model and then create a map between undistorted to the newly generated distorted image"
   ]
  },
  {
   "cell_type": "markdown",
   "metadata": {},
   "source": [
    "https://stackoverflow.com/questions/46520123/how-do-i-use-opencvs-remap-function\n",
    "\n",
    "This is just a simple misunderstanding of the documentation, and I don't blame you---it took me a few fumblings to understand it, too. The docs are clear, but this function probably doesn't work in the way you expect; in fact, it works in the opposite direction from what I expected at first.\n",
    "\n",
    "What remap() doesn't do is take the coordinates of your source image, transform the points, and then interpolate. What remap() does do is, for every pixel in the destination image, lookup where it comes from in the source image, and then assigns an interpolated value. It needs to work this way since, in order to interpolate, it needs to look at the values around the source image at each pixel. Let me expand (might repeat myself a bit, but don't take it the wrong way)."
   ]
  },
  {
   "cell_type": "code",
   "execution_count": 20,
   "metadata": {},
   "outputs": [],
   "source": [
    "def undistortImage(img: np.array, K: np.array, distCoeffs: np.array):\n",
    "    \"\"\"\n",
    "    Undistorts image, main principle is as follows:\n",
    "    1. Create an empty grid to store all the mappings from camera coordinate system -> distorted pixel coordinates\n",
    "    2. Get image in terms of camera coordinate by multiplying grid with the inverse of camera intrinsics\n",
    "    3. Distort the grid with the given radial distortion polynomial and distortion coefficients \n",
    "       Result would give the mapping from camera coordinate -> Distorted pixel coordinate \n",
    "    4. Use remap() with interpolation for non integer pixel coordinates\n",
    "\n",
    "    Basically create an empty canvas, let it go through all the transformations (e.g. camera -> pixel + distortion), \n",
    "    then find mapping between this transformed canvas and the original distorted image\n",
    "\n",
    "    Args:\n",
    "        img (np.array): distorted image\n",
    "        K (np.array): intrinsics matrix\n",
    "        distCoeffs (np.array): distortion coefficient matrix\n",
    "\n",
    "    Return:\n",
    "        im_undistorted (np.array): undistorted image\n",
    "    \"\"\"\n",
    "    x, y = np.meshgrid(np.arange(img.shape[1]), np.arange(img.shape[0]))\n",
    "    # Stack both and add ones to make p homogeneous\n",
    "    p = np.stack((x, y, np.ones(x.shape))).reshape(3, -1)\n",
    "    q = np.linalg.inv(K) @ p\n",
    "    poly_lambda = lambda squared, coeffs: 1 + coeffs[0] * (squared**2) + coeffs[1] * (squared ** 4) + coeffs[2] * (squared ** 6)\n",
    "    q_d = dist(Pi(q), distCoeffs, poly_lambda)\n",
    "    p_d = K @ Piinv(q_d)\n",
    "    x_d = p_d[0].reshape(x.shape).astype(np.float32)\n",
    "    y_d = p_d[1].reshape(y.shape).astype(np.float32)\n",
    "    assert (p_d[2] == 1).all(), \"You did a mistake somewhere\"\n",
    "    im_undistorted = cv2.remap(img, x_d, y_d, cv2.INTER_LINEAR)\n",
    "    return im_undistorted"
   ]
  },
  {
   "cell_type": "code",
   "execution_count": 21,
   "metadata": {},
   "outputs": [
    {
     "name": "stdout",
     "output_type": "stream",
     "text": [
      "Undergoing distortion with coeffs: [-0.245031, 0.071524, -0.00994978]\n"
     ]
    }
   ],
   "source": [
    "distCoeffs = [-0.245031, 0.071524, -0.00994978]\n",
    "img_undistorted = undistortImage(img, K, distCoeffs)\n",
    "cv2.imshow(\"undisorted image\", img_undistorted)\n",
    "cv2.waitKey(0)\n",
    "cv2.destroyAllWindows()"
   ]
  },
  {
   "cell_type": "markdown",
   "metadata": {},
   "source": [
    "## Ex 2.5 Homographies"
   ]
  },
  {
   "cell_type": "code",
   "execution_count": 22,
   "metadata": {},
   "outputs": [
    {
     "data": {
      "text/plain": [
       "(array([[1, 0, 2, 2],\n",
       "        [1, 3, 3, 4]]),\n",
       " (3, 3))"
      ]
     },
     "execution_count": 22,
     "metadata": {},
     "output_type": "execute_result"
    }
   ],
   "source": [
    "p_2a = np.asarray([1, 1]).reshape((2, 1))\n",
    "p_2b = np.asarray([0, 3]).reshape((2, 1))\n",
    "p_2c = np.asarray([2, 3]).reshape((2, 1))\n",
    "p_2d = np.asarray([2, 4]).reshape((2, 1))\n",
    "all = np.hstack((p_2a, p_2b, p_2c,p_2d))\n",
    "H = np.asarray([[-2, 0, 1], [1, -2, 0], [0, 0, 3]])\n",
    "all, H.shape\n"
   ]
  },
  {
   "cell_type": "code",
   "execution_count": 23,
   "metadata": {},
   "outputs": [
    {
     "data": {
      "text/plain": [
       "array([[-0.33333333,  0.33333333, -1.        , -1.        ],\n",
       "       [-0.33333333, -2.        , -1.33333333, -2.        ]])"
      ]
     },
     "execution_count": 23,
     "metadata": {},
     "output_type": "execute_result"
    }
   ],
   "source": [
    "Pi(H @ Piinv(all))"
   ]
  },
  {
   "cell_type": "markdown",
   "metadata": {},
   "source": [
    "## Ex 2.6"
   ]
  },
  {
   "cell_type": "code",
   "execution_count": 24,
   "metadata": {},
   "outputs": [
    {
     "data": {
      "text/plain": [
       "(array([[1., 0., 2., 2.],\n",
       "        [1., 3., 3., 4.],\n",
       "        [1., 1., 1., 1.]]),\n",
       " array([[-0.33333333,  0.33333333, -1.        , -1.        ],\n",
       "        [-0.33333333, -2.        , -1.33333333, -2.        ],\n",
       "        [ 1.        ,  1.        ,  1.        ,  1.        ]]))"
      ]
     },
     "execution_count": 24,
     "metadata": {},
     "output_type": "execute_result"
    }
   ],
   "source": [
    "q1 = all\n",
    "q2 = Pi(H @ Piinv(all))\n",
    " # Ensure q1 and q2 are in homogeneous coordinates (3xN)\n",
    "if q1.shape[0] == 2:\n",
    "    q1 = Piinv(q1)\n",
    "if q2.shape[0] == 2:\n",
    "    q2 = Piinv(q2)\n",
    "num_points = q1.shape[1]\n",
    "# for i in range(num_points):\n",
    "#     q1_skew = skew(q1[i])\n",
    "#     print(q1_skew.shape)\n",
    "#     B_i = np.kron(q2.T[i], q1_skew)\n",
    "#     print(B_i.shape)\n",
    "q1, q2"
   ]
  },
  {
   "cell_type": "code",
   "execution_count": 25,
   "metadata": {},
   "outputs": [],
   "source": [
    "def skew(x: np.array):\n",
    "    \"\"\"\n",
    "    This function returns a numpy array with the skew symmetric cross product matrix for vector.\n",
    "    the skew symmetric cross product matrix is defined such that\n",
    "    np.cross(a, b) = np.dot(skew(a), b)\n",
    "    https://stackoverflow.com/questions/36915774/form-numpy-array-from-possible-numpy-array\n",
    "    \n",
    "    Args:\n",
    "        x (np.array): 1x3 matrix\n",
    "\n",
    "    Return:\n",
    "        s (np.array): 3x3 skew symmetrix matrix for cross product\n",
    "    \"\"\"\n",
    "    vector = x.ravel()\n",
    "    s = np.asarray([[0, -vector[2], vector[1]], [vector[2], 0, -vector[0]], [-vector[1], vector[0], 0]])\n",
    "    return s"
   ]
  },
  {
   "cell_type": "code",
   "execution_count": 26,
   "metadata": {},
   "outputs": [
    {
     "data": {
      "text/plain": [
       "(array([[-2.00000000e+00, -9.68769373e-16,  1.00000000e+00],\n",
       "        [ 1.00000000e+00, -2.00000000e+00, -1.61880939e-15],\n",
       "        [-1.74427509e-15,  2.62685751e-15,  3.00000000e+00]]),\n",
       " array([[-2,  0,  1],\n",
       "        [ 1, -2,  0],\n",
       "        [ 0,  0,  3]]))"
      ]
     },
     "execution_count": 26,
     "metadata": {},
     "output_type": "execute_result"
    }
   ],
   "source": [
    "def hest(q1: np.array, q2: np.array):\n",
    "    \"\"\"\n",
    "    Obtains estimated homography using linear algorithm\n",
    "\n",
    "    Args:\n",
    "        q1 (np.array): first set of points in 2D coordinates\n",
    "        q2 (np.array): second set of points in 2D coordinates\n",
    "\n",
    "    Return:\n",
    "        H (np.array): Estimated homography matrix\n",
    "    \"\"\"\n",
    "    A = []\n",
    "    # Ensure q1 and q2 are in homogeneous coordinates (3xN)\n",
    "    if q1.shape[0] == 2:\n",
    "        q1 = Piinv(q1)\n",
    "    if q2.shape[0] == 2:\n",
    "        q2 = Piinv(q2)\n",
    "    num_points = q1.shape[1]\n",
    "    for i in range(num_points):\n",
    "        # x1, y1, w = q1[:, i].T\n",
    "        # x2, y2, wp = q2[:, i].T\n",
    "        # B_check = np.asarray([[0, -x2, x2*y1, 0, -y2, y2*y1, 0, -1, y1],\n",
    "        #            [x2, 0, -x2*x1, y2, 0, -y2*x1, 1, 0, -x1],\n",
    "        #            [-x2*y1, x2*x1, 0, -y2*y1, y2*x1, 0, -y1, x1, 0]])\n",
    "        # x1, y1, w1 = q1[:, i]  # First set of points\n",
    "        # x2, y2, w2 = q2[:, i]  # Second set of points\n",
    "\n",
    "        # Construct two rows per correspondence\n",
    "        # A.append([-x1, -y1, -w1,  0,  0,  0, x2*x1, x2*y1, x2*w1])\n",
    "        # A.append([0,  0,  0, -x1, -y1, -w1, y2*x1, y2*y1, y2*w1])\n",
    "        q2_skew = skew(q2[:, i])\n",
    "        B_i = np.kron(\n",
    "            q1[:, i].reshape(1, 3),\n",
    "            q2_skew,\n",
    "            \n",
    "        )\n",
    "        # print((B_check == B_i).all())\n",
    "        A.append(B_i)\n",
    "    B = np.vstack(A)\n",
    "    U, S, VT = np.linalg.svd(B)\n",
    "    H = VT[-1, :].reshape(3, 3).T\n",
    "    return H\n",
    "H_result = hest(q1, q2)\n",
    "Original_H = np.asarray([[-2, 0, 1], [1, -2, 0], [0, 0, 3]])\n",
    "H_result * np.linalg.norm(Original_H) / np.linalg.norm(H_result) , Original_H"
   ]
  },
  {
   "cell_type": "markdown",
   "metadata": {},
   "source": [
    "## Ex 2.7\n"
   ]
  },
  {
   "cell_type": "code",
   "execution_count": 27,
   "metadata": {},
   "outputs": [],
   "source": [
    "def normalize2d(x: np.array, y: np.array):\n",
    "    \"\"\"\n",
    "    This function finds the transformation T such that qih =\n",
    "    T pih, has mean [0, 0] and standard deviation [1, 1] for all qi.\n",
    "\n",
    "        Args:\n",
    "            x (np.array): first set of data points\n",
    "            y (np.array): second set of data points\n",
    "\n",
    "        Return:\n",
    "            T (np.array): Transformation to normalize data points\n",
    "    \"\"\"\n",
    "    mean_x = np.mean(x)\n",
    "    mean_y = np.mean(y)\n",
    "    std_deviation_x = np.std(x)\n",
    "    std_deviation_y = np.std(y)\n",
    "    T_inverse = np.asarray([[std_deviation_x, 0, mean_x], [0, std_deviation_y, mean_y], [0, 0, 1]])\n",
    "    return np.linalg.inv(T_inverse) \n"
   ]
  },
  {
   "cell_type": "code",
   "execution_count": 28,
   "metadata": {},
   "outputs": [
    {
     "name": "stdout",
     "output_type": "stream",
     "text": [
      "Test Case 1 - Transformation Matrix T:\n",
      "[[1.22474487 0.         0.        ]\n",
      " [0.         1.22474487 0.        ]\n",
      " [0.         0.         1.        ]]\n",
      "\n",
      "Test Case 2 - Transformation Matrix T:\n",
      "[[ 1.22474487  0.         -2.44948974]\n",
      " [ 0.          1.22474487 -6.12372436]\n",
      " [ 0.          0.          1.        ]]\n",
      "\n",
      "Test Case 3 - Transformation Matrix T:\n",
      "[[0.61237244 0.         0.        ]\n",
      " [0.         0.40824829 0.        ]\n",
      " [0.         0.         1.        ]]\n",
      "\n",
      "Test Case 4 - Transformation Matrix T:\n",
      "[[ 0.12247449  0.         -2.44948974]\n",
      " [ 0.          0.12247449 -6.12372436]\n",
      " [ 0.          0.          1.        ]]\n"
     ]
    }
   ],
   "source": [
    "# Test cases\n",
    "def test_normalize2d():\n",
    "    # Test Case 1: Simple Test Case (already centered and scaled)\n",
    "    x1 = np.array([-1, 0, 1])\n",
    "    y1 = np.array([-1, 0, 1])\n",
    "    T1 = normalize2d(x1, y1)\n",
    "    print(\"Test Case 1 - Transformation Matrix T:\")\n",
    "    print(T1)\n",
    "\n",
    "    # Test Case 2: Non-Centered Points\n",
    "    x2 = np.array([1, 2, 3])\n",
    "    y2 = np.array([4, 5, 6])\n",
    "    T2 = normalize2d(x2, y2)\n",
    "    print(\"\\nTest Case 2 - Transformation Matrix T:\")\n",
    "    print(T2)\n",
    "\n",
    "    # Test Case 3: Non-Scaled Points\n",
    "    x3 = np.array([-2, 0, 2])\n",
    "    y3 = np.array([-3, 0, 3])\n",
    "    T3 = normalize2d(x3, y3)\n",
    "    print(\"\\nTest Case 3 - Transformation Matrix T:\")\n",
    "    print(T3)\n",
    "\n",
    "    # Test Case 4: Combined Test Case (neither centered nor scaled)\n",
    "    x4 = np.array([10, 20, 30])\n",
    "    y4 = np.array([40, 50, 60])\n",
    "    T4 = normalize2d(x4, y4)\n",
    "    print(\"\\nTest Case 4 - Transformation Matrix T:\")\n",
    "    print(T4)\n",
    "\n",
    "\n",
    "# Run the tests\n",
    "test_normalize2d()"
   ]
  },
  {
   "cell_type": "markdown",
   "metadata": {},
   "source": [
    "## Ex 2.8"
   ]
  },
  {
   "cell_type": "code",
   "execution_count": 29,
   "metadata": {},
   "outputs": [
    {
     "data": {
      "text/plain": [
       "array([[ 1.20604538,  0.        , -1.50755672],\n",
       "       [ 0.        ,  0.91766294, -2.52357307],\n",
       "       [ 0.        ,  0.        ,  1.        ]])"
      ]
     },
     "execution_count": 29,
     "metadata": {},
     "output_type": "execute_result"
    }
   ],
   "source": [
    "q1 = all\n",
    "q2 = Pi(H @ Piinv(all))\n",
    "# Ensure q1 and q2 are in homogeneous coordinates (3xN)\n",
    "# if q1.shape[0] == 2:\n",
    "#     q1 = Piinv(q1)\n",
    "# if q2.shape[0] == 2:\n",
    "#     q2 = Piinv(q2)\n",
    "# num_points = q1.shape[1]\n",
    "# for i in range(num_points):\n",
    "#     q1_skew = skew(q1[i])\n",
    "#     print(q1_skew.shape)\n",
    "#     B_i = np.kron(q2.T[i], q1_skew)\n",
    "#     print(B_i.shape)\n",
    "q1, q2\n",
    "normalize2d(q1[0, :], q1[1, :] )"
   ]
  },
  {
   "cell_type": "code",
   "execution_count": 30,
   "metadata": {},
   "outputs": [
    {
     "data": {
      "text/plain": [
       "(array([[ 0.44332171,  0.17962962, -0.01893762],\n",
       "        [-0.98518437,  0.5499126 , -0.80271163],\n",
       "        [-0.35824886, -0.14515893, -0.78082527]]),\n",
       " array([[-2,  0,  1],\n",
       "        [ 1, -2,  0],\n",
       "        [ 0,  0,  3]]))"
      ]
     },
     "execution_count": 30,
     "metadata": {},
     "output_type": "execute_result"
    }
   ],
   "source": [
    "def hest(q1: np.array, q2: np.array, normalize: bool):\n",
    "    \"\"\"\n",
    "        Obtains estimated homography using linear algorithm\n",
    "\n",
    "        Args:\n",
    "            q1 (np.array): first set of points in 2D coordinates\n",
    "            q2 (np.array): second set of points in 2D coordinates\n",
    "            normalize (bool): Whether to normalize the points before estimating the homography\n",
    "\n",
    "        Return:\n",
    "            H (np.array): Estimated homography matrix\n",
    "    \"\"\"\n",
    "    A = []\n",
    "    T1 = np.eye(3)\n",
    "    T2 = np.eye(3)\n",
    "    if normalize:\n",
    "        T1 = normalize2d(q1[0, :], q1[1, :])\n",
    "        T2 = normalize2d(q2[0, :], q2[1, :])\n",
    "    # Ensure q1 and q2 are in homogeneous coordinates (3xN)\n",
    "    if q1.shape[0] == 2:\n",
    "        q1 = Piinv(q1)\n",
    "    if q2.shape[0] == 2:\n",
    "        q2 = Piinv(q2)\n",
    "    num_points = q1.shape[1]\n",
    "    for i in range(num_points):\n",
    "        # x1, y1, w = q1[:, i].T\n",
    "        # x2, y2, wp = q2[:, i].T\n",
    "        # B_check = np.asarray([[0, -x2, x2*y1, 0, -y2, y2*y1, 0, -1, y1],\n",
    "        #            [x2, 0, -x2*x1, y2, 0, -y2*x1, 1, 0, -x1],\n",
    "        #            [-x2*y1, x2*x1, 0, -y2*y1, y2*x1, 0, -y1, x1, 0]])\n",
    "        # x1, y1, w1 = q1[:, i]  # First set of points\n",
    "        # x2, y2, w2 = q2[:, i]  # Second set of points\n",
    "\n",
    "        # Construct two rows per correspondence\n",
    "        # A.append([-x1, -y1, -w1,  0,  0,  0, x2*x1, x2*y1, x2*w1])\n",
    "        # A.append([0,  0,  0, -x1, -y1, -w1, y2*x1, y2*y1, y2*w1])\n",
    "        q1_skew = skew(q1[:, i])\n",
    "        B_i = np.kron(\n",
    "            q1[:, i].reshape(1, 3),\n",
    "            q2_skew,\n",
    "        )\n",
    "        # print((B_check == B_i).all())\n",
    "        A.append(B_i)\n",
    "    B = np.vstack(A)\n",
    "    U, S, VT = np.linalg.svd(B)\n",
    "    H = VT[-1, :].reshape(3, 3).T\n",
    "    return np.linalg.inv(T1) @ H @ T2\n",
    "\n",
    "\n",
    "H_result = hest(q1, q2, True)\n",
    "Original_H = np.asarray([[-2, 0, 1], [1, -2, 0], [0, 0, 3]])\n",
    "H_result, Original_H"
   ]
  },
  {
   "cell_type": "code",
   "execution_count": 31,
   "metadata": {},
   "outputs": [
    {
     "data": {
      "text/plain": [
       "<function matplotlib.pyplot.ginput(n=1, timeout=30, show_clicks=True, mouse_add=<MouseButton.LEFT: 1>, mouse_pop=<MouseButton.RIGHT: 3>, mouse_stop=<MouseButton.MIDDLE: 2>)>"
      ]
     },
     "execution_count": 31,
     "metadata": {},
     "output_type": "execute_result"
    }
   ],
   "source": [
    "plt.ginput"
   ]
  },
  {
   "cell_type": "code",
   "execution_count": null,
   "metadata": {},
   "outputs": [],
   "source": [
    "import matplotlib\n",
    "\n",
    "matplotlib.use(\"TkAgg\")"
   ]
  },
  {
   "cell_type": "code",
   "execution_count": 33,
   "metadata": {},
   "outputs": [
    {
     "ename": "KeyboardInterrupt",
     "evalue": "",
     "output_type": "error",
     "traceback": [
      "\u001b[0;31m---------------------------------------------------------------------------\u001b[0m",
      "\u001b[0;31mKeyboardInterrupt\u001b[0m                         Traceback (most recent call last)",
      "Cell \u001b[0;32mIn[33], line 19\u001b[0m\n\u001b[1;32m     15\u001b[0m     \u001b[38;5;28;01mreturn\u001b[39;00m np\u001b[38;5;241m.\u001b[39marray(points)\n\u001b[1;32m     18\u001b[0m \u001b[38;5;66;03m# Get points for image A and image B\u001b[39;00m\n\u001b[0;32m---> 19\u001b[0m points_A \u001b[38;5;241m=\u001b[39m \u001b[43mget_points\u001b[49m\u001b[43m(\u001b[49m\u001b[43mimage_A\u001b[49m\u001b[43m,\u001b[49m\u001b[43m \u001b[49m\u001b[38;5;124;43m\"\u001b[39;49m\u001b[38;5;124;43mClick on the ×-marks in Image A\u001b[39;49m\u001b[38;5;124;43m\"\u001b[39;49m\u001b[43m)\u001b[49m\n\u001b[1;32m     20\u001b[0m points_B \u001b[38;5;241m=\u001b[39m get_points(image_B, \u001b[38;5;124m\"\u001b[39m\u001b[38;5;124mClick on the ×-marks in Image B\u001b[39m\u001b[38;5;124m\"\u001b[39m)\n\u001b[1;32m     22\u001b[0m \u001b[38;5;28mprint\u001b[39m(\u001b[38;5;124m\"\u001b[39m\u001b[38;5;124mPoints in Image A:\u001b[39m\u001b[38;5;124m\"\u001b[39m, points_A)\n",
      "Cell \u001b[0;32mIn[33], line 13\u001b[0m, in \u001b[0;36mget_points\u001b[0;34m(image, title)\u001b[0m\n\u001b[1;32m     11\u001b[0m plt\u001b[38;5;241m.\u001b[39mimshow(image)\n\u001b[1;32m     12\u001b[0m plt\u001b[38;5;241m.\u001b[39mtitle(title)\n\u001b[0;32m---> 13\u001b[0m points \u001b[38;5;241m=\u001b[39m \u001b[43mplt\u001b[49m\u001b[38;5;241;43m.\u001b[39;49m\u001b[43mginput\u001b[49m\u001b[43m(\u001b[49m\u001b[43mn\u001b[49m\u001b[38;5;241;43m=\u001b[39;49m\u001b[38;5;241;43m4\u001b[39;49m\u001b[43m,\u001b[49m\u001b[43m \u001b[49m\u001b[43mtimeout\u001b[49m\u001b[38;5;241;43m=\u001b[39;49m\u001b[38;5;241;43m0\u001b[39;49m\u001b[43m)\u001b[49m  \u001b[38;5;66;03m# Click on 4 points\u001b[39;00m\n\u001b[1;32m     14\u001b[0m plt\u001b[38;5;241m.\u001b[39mclose()\n\u001b[1;32m     15\u001b[0m \u001b[38;5;28;01mreturn\u001b[39;00m np\u001b[38;5;241m.\u001b[39marray(points)\n",
      "File \u001b[0;32m/usr/lib/python3/dist-packages/matplotlib/pyplot.py:2277\u001b[0m, in \u001b[0;36mginput\u001b[0;34m(n, timeout, show_clicks, mouse_add, mouse_pop, mouse_stop)\u001b[0m\n\u001b[1;32m   2272\u001b[0m \u001b[38;5;129m@_copy_docstring_and_deprecators\u001b[39m(Figure\u001b[38;5;241m.\u001b[39mginput)\n\u001b[1;32m   2273\u001b[0m \u001b[38;5;28;01mdef\u001b[39;00m \u001b[38;5;21mginput\u001b[39m(\n\u001b[1;32m   2274\u001b[0m         n\u001b[38;5;241m=\u001b[39m\u001b[38;5;241m1\u001b[39m, timeout\u001b[38;5;241m=\u001b[39m\u001b[38;5;241m30\u001b[39m, show_clicks\u001b[38;5;241m=\u001b[39m\u001b[38;5;28;01mTrue\u001b[39;00m,\n\u001b[1;32m   2275\u001b[0m         mouse_add\u001b[38;5;241m=\u001b[39mMouseButton\u001b[38;5;241m.\u001b[39mLEFT, mouse_pop\u001b[38;5;241m=\u001b[39mMouseButton\u001b[38;5;241m.\u001b[39mRIGHT,\n\u001b[1;32m   2276\u001b[0m         mouse_stop\u001b[38;5;241m=\u001b[39mMouseButton\u001b[38;5;241m.\u001b[39mMIDDLE):\n\u001b[0;32m-> 2277\u001b[0m     \u001b[38;5;28;01mreturn\u001b[39;00m \u001b[43mgcf\u001b[49m\u001b[43m(\u001b[49m\u001b[43m)\u001b[49m\u001b[38;5;241;43m.\u001b[39;49m\u001b[43mginput\u001b[49m\u001b[43m(\u001b[49m\n\u001b[1;32m   2278\u001b[0m \u001b[43m        \u001b[49m\u001b[43mn\u001b[49m\u001b[38;5;241;43m=\u001b[39;49m\u001b[43mn\u001b[49m\u001b[43m,\u001b[49m\u001b[43m \u001b[49m\u001b[43mtimeout\u001b[49m\u001b[38;5;241;43m=\u001b[39;49m\u001b[43mtimeout\u001b[49m\u001b[43m,\u001b[49m\u001b[43m \u001b[49m\u001b[43mshow_clicks\u001b[49m\u001b[38;5;241;43m=\u001b[39;49m\u001b[43mshow_clicks\u001b[49m\u001b[43m,\u001b[49m\n\u001b[1;32m   2279\u001b[0m \u001b[43m        \u001b[49m\u001b[43mmouse_add\u001b[49m\u001b[38;5;241;43m=\u001b[39;49m\u001b[43mmouse_add\u001b[49m\u001b[43m,\u001b[49m\u001b[43m \u001b[49m\u001b[43mmouse_pop\u001b[49m\u001b[38;5;241;43m=\u001b[39;49m\u001b[43mmouse_pop\u001b[49m\u001b[43m,\u001b[49m\n\u001b[1;32m   2280\u001b[0m \u001b[43m        \u001b[49m\u001b[43mmouse_stop\u001b[49m\u001b[38;5;241;43m=\u001b[39;49m\u001b[43mmouse_stop\u001b[49m\u001b[43m)\u001b[49m\n",
      "File \u001b[0;32m/usr/lib/python3/dist-packages/matplotlib/figure.py:3107\u001b[0m, in \u001b[0;36mFigure.ginput\u001b[0;34m(self, n, timeout, show_clicks, mouse_add, mouse_pop, mouse_stop)\u001b[0m\n\u001b[1;32m   3104\u001b[0m     \u001b[38;5;28;01mif\u001b[39;00m \u001b[38;5;28mlen\u001b[39m(clicks) \u001b[38;5;241m==\u001b[39m n \u001b[38;5;129;01mand\u001b[39;00m n \u001b[38;5;241m>\u001b[39m \u001b[38;5;241m0\u001b[39m:\n\u001b[1;32m   3105\u001b[0m         \u001b[38;5;28mself\u001b[39m\u001b[38;5;241m.\u001b[39mcanvas\u001b[38;5;241m.\u001b[39mstop_event_loop()\n\u001b[0;32m-> 3107\u001b[0m \u001b[43m_blocking_input\u001b[49m\u001b[38;5;241;43m.\u001b[39;49m\u001b[43mblocking_input_loop\u001b[49m\u001b[43m(\u001b[49m\n\u001b[1;32m   3108\u001b[0m \u001b[43m    \u001b[49m\u001b[38;5;28;43mself\u001b[39;49m\u001b[43m,\u001b[49m\u001b[43m \u001b[49m\u001b[43m[\u001b[49m\u001b[38;5;124;43m\"\u001b[39;49m\u001b[38;5;124;43mbutton_press_event\u001b[39;49m\u001b[38;5;124;43m\"\u001b[39;49m\u001b[43m,\u001b[49m\u001b[43m \u001b[49m\u001b[38;5;124;43m\"\u001b[39;49m\u001b[38;5;124;43mkey_press_event\u001b[39;49m\u001b[38;5;124;43m\"\u001b[39;49m\u001b[43m]\u001b[49m\u001b[43m,\u001b[49m\u001b[43m \u001b[49m\u001b[43mtimeout\u001b[49m\u001b[43m,\u001b[49m\u001b[43m \u001b[49m\u001b[43mhandler\u001b[49m\u001b[43m)\u001b[49m\n\u001b[1;32m   3110\u001b[0m \u001b[38;5;66;03m# Cleanup.\u001b[39;00m\n\u001b[1;32m   3111\u001b[0m \u001b[38;5;28;01mfor\u001b[39;00m mark \u001b[38;5;129;01min\u001b[39;00m marks:\n",
      "File \u001b[0;32m/usr/lib/python3/dist-packages/matplotlib/_blocking_input.py:26\u001b[0m, in \u001b[0;36mblocking_input_loop\u001b[0;34m(figure, event_names, timeout, handler)\u001b[0m\n\u001b[1;32m     24\u001b[0m cids \u001b[38;5;241m=\u001b[39m [figure\u001b[38;5;241m.\u001b[39mcanvas\u001b[38;5;241m.\u001b[39mmpl_connect(name, handler) \u001b[38;5;28;01mfor\u001b[39;00m name \u001b[38;5;129;01min\u001b[39;00m event_names]\n\u001b[1;32m     25\u001b[0m \u001b[38;5;28;01mtry\u001b[39;00m:\n\u001b[0;32m---> 26\u001b[0m     \u001b[43mfigure\u001b[49m\u001b[38;5;241;43m.\u001b[39;49m\u001b[43mcanvas\u001b[49m\u001b[38;5;241;43m.\u001b[39;49m\u001b[43mstart_event_loop\u001b[49m\u001b[43m(\u001b[49m\u001b[43mtimeout\u001b[49m\u001b[43m)\u001b[49m  \u001b[38;5;66;03m# Start event loop.\u001b[39;00m\n\u001b[1;32m     27\u001b[0m \u001b[38;5;28;01mfinally\u001b[39;00m:  \u001b[38;5;66;03m# Run even on exception like ctrl-c.\u001b[39;00m\n\u001b[1;32m     28\u001b[0m     \u001b[38;5;66;03m# Disconnect the callbacks.\u001b[39;00m\n\u001b[1;32m     29\u001b[0m     \u001b[38;5;28;01mfor\u001b[39;00m cid \u001b[38;5;129;01min\u001b[39;00m cids:\n",
      "File \u001b[0;32m/usr/lib/python3/dist-packages/matplotlib/backends/_backend_tk.py:381\u001b[0m, in \u001b[0;36mFigureCanvasTk.start_event_loop\u001b[0;34m(self, timeout)\u001b[0m\n\u001b[1;32m    378\u001b[0m     \u001b[38;5;28;01melse\u001b[39;00m:\n\u001b[1;32m    379\u001b[0m         \u001b[38;5;28mself\u001b[39m\u001b[38;5;241m.\u001b[39m_event_loop_id \u001b[38;5;241m=\u001b[39m \u001b[38;5;28mself\u001b[39m\u001b[38;5;241m.\u001b[39m_tkcanvas\u001b[38;5;241m.\u001b[39mafter_idle(\n\u001b[1;32m    380\u001b[0m             \u001b[38;5;28mself\u001b[39m\u001b[38;5;241m.\u001b[39mstop_event_loop)\n\u001b[0;32m--> 381\u001b[0m \u001b[38;5;28;43mself\u001b[39;49m\u001b[38;5;241;43m.\u001b[39;49m\u001b[43m_tkcanvas\u001b[49m\u001b[38;5;241;43m.\u001b[39;49m\u001b[43mmainloop\u001b[49m\u001b[43m(\u001b[49m\u001b[43m)\u001b[49m\n",
      "File \u001b[0;32m/usr/lib/python3.10/tkinter/__init__.py:1458\u001b[0m, in \u001b[0;36mMisc.mainloop\u001b[0;34m(self, n)\u001b[0m\n\u001b[1;32m   1456\u001b[0m \u001b[38;5;28;01mdef\u001b[39;00m \u001b[38;5;21mmainloop\u001b[39m(\u001b[38;5;28mself\u001b[39m, n\u001b[38;5;241m=\u001b[39m\u001b[38;5;241m0\u001b[39m):\n\u001b[1;32m   1457\u001b[0m \u001b[38;5;250m    \u001b[39m\u001b[38;5;124;03m\"\"\"Call the mainloop of Tk.\"\"\"\u001b[39;00m\n\u001b[0;32m-> 1458\u001b[0m     \u001b[38;5;28;43mself\u001b[39;49m\u001b[38;5;241;43m.\u001b[39;49m\u001b[43mtk\u001b[49m\u001b[38;5;241;43m.\u001b[39;49m\u001b[43mmainloop\u001b[49m\u001b[43m(\u001b[49m\u001b[43mn\u001b[49m\u001b[43m)\u001b[49m\n",
      "\u001b[0;31mKeyboardInterrupt\u001b[0m: "
     ]
    }
   ],
   "source": [
    "import matplotlib.pyplot as plt\n",
    "import numpy as np\n",
    "\n",
    "# Load images\n",
    "image_A = plt.imread(\"images/image_A.jpeg\")\n",
    "image_B = plt.imread(\"images/image_B.jpeg\")\n",
    "\n",
    "\n",
    "# Function to get clicked points\n",
    "def get_points(image, title):\n",
    "    plt.imshow(image)\n",
    "    plt.title(title)\n",
    "    points = plt.ginput(n=4, timeout=0)  # Click on 4 points\n",
    "    plt.close()\n",
    "    return np.array(points)\n",
    "\n",
    "\n",
    "# Get points for image A and image B\n",
    "points_A = get_points(image_A, \"Click on the ×-marks in Image A\")\n",
    "points_B = get_points(image_B, \"Click on the ×-marks in Image B\")\n",
    "\n",
    "print(\"Points in Image A:\", points_A)\n",
    "print(\"Points in Image B:\", points_B)"
   ]
  },
  {
   "cell_type": "code",
   "execution_count": 34,
   "metadata": {},
   "outputs": [],
   "source": [
    "def warpImage(im, H):\n",
    "    imWarp = cv2.warpPerspective(im, H, (im.shape[1], im.shape[0]))\n",
    "    return imWarp\n",
    "# It takes an image and a homography and returns the image warped with the homography."
   ]
  }
 ],
 "metadata": {
  "kernelspec": {
   "display_name": "usr",
   "language": "python",
   "name": "python3"
  },
  "language_info": {
   "codemirror_mode": {
    "name": "ipython",
    "version": 3
   },
   "file_extension": ".py",
   "mimetype": "text/x-python",
   "name": "python",
   "nbconvert_exporter": "python",
   "pygments_lexer": "ipython3",
   "version": "3.10.12"
  }
 },
 "nbformat": 4,
 "nbformat_minor": 2
}
