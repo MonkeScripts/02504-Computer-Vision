{
 "cells": [
  {
   "cell_type": "code",
   "execution_count": 3,
   "metadata": {},
   "outputs": [],
   "source": [
    "import numpy as np"
   ]
  },
  {
   "cell_type": "code",
   "execution_count": 4,
   "metadata": {},
   "outputs": [],
   "source": [
    "def Pi(x: np.array):\n",
    "    \"\"\"\n",
    "    Converts homogeneous to inhomogeneous coordinates\n",
    "    Args:\n",
    "        x (np.array) homogeneous coordinate\n",
    "\n",
    "    Return:\n",
    "        np.array converted inhomogeneous coordinate\n",
    "    \"\"\"\n",
    "\n",
    "    return x[:-1] / x[-1]\n",
    "\n",
    "\n",
    "def Piinv(x: np.array):\n",
    "    \"\"\"\n",
    "    Converts inhomogeneous to homogeneous coordinates\n",
    "\n",
    "    Args:\n",
    "        x (np.array) inhomogeneous coordinate\n",
    "\n",
    "    Return:\n",
    "        np.array converted homogeneous coordinate\n",
    "    \"\"\"\n",
    "    if x.ndim == 1:\n",
    "        return np.concatenate((x, np.ones(1)))\n",
    "    return np.vstack((x, np.ones((1, x.shape[1]))))"
   ]
  },
  {
   "cell_type": "code",
   "execution_count": 5,
   "metadata": {},
   "outputs": [],
   "source": [
    "def skew(x: np.array):\n",
    "    \"\"\"\n",
    "    This function returns a numpy array with the skew symmetric cross product matrix for vector.\n",
    "    the skew symmetric cross product matrix is defined such that\n",
    "    np.cross(a, b) = np.dot(skew(a), b)\n",
    "    https://stackoverflow.com/questions/36915774/form-numpy-array-from-possible-numpy-array\n",
    "\n",
    "    Args:\n",
    "        x (np.array): 1x3 matrix\n",
    "\n",
    "    Return:\n",
    "        s (np.array): 3x3 skew symmetrix matrix for cross product\n",
    "    \"\"\"\n",
    "    vector = x.ravel()\n",
    "    s = np.asarray(\n",
    "        [\n",
    "            [0, -vector[2], vector[1]],\n",
    "            [vector[2], 0, -vector[0]],\n",
    "            [-vector[1], vector[0], 0],\n",
    "        ]\n",
    "    )\n",
    "    return s"
   ]
  },
  {
   "cell_type": "markdown",
   "metadata": {},
   "source": [
    "## Ex 4.1"
   ]
  },
  {
   "cell_type": "code",
   "execution_count": 6,
   "metadata": {},
   "outputs": [
    {
     "data": {
      "text/plain": [
       "array([[ 7.07106781e+02, -7.07106781e+02,  9.60000000e+02,\n",
       "         9.60000000e+03],\n",
       "       [ 7.07106781e+02,  7.07106781e+02,  5.40000000e+02,\n",
       "         5.40000000e+03],\n",
       "       [ 0.00000000e+00,  0.00000000e+00,  1.00000000e+00,\n",
       "         1.00000000e+01]])"
      ]
     },
     "execution_count": 6,
     "metadata": {},
     "output_type": "execute_result"
    }
   ],
   "source": [
    "R = np.asarray([[np.sqrt(0.5), -np.sqrt(0.5), 0], [np.sqrt(0.5), np.sqrt(0.5), 0], [0, 0, 1]])\n",
    "t = np.asarray([0, 0, 10]).reshape(3, 1)\n",
    "K = np.asarray([[1000, 0, 960], [0, 1000, 540], [0, 0, 1]])\n",
    "P = K @ np.concatenate((R, t), axis=1)\n",
    "P"
   ]
  },
  {
   "cell_type": "code",
   "execution_count": 7,
   "metadata": {},
   "outputs": [
    {
     "name": "stdout",
     "output_type": "stream",
     "text": [
      "All 8 world_points:\n",
      "[[0 0 0]\n",
      " [0 0 1]\n",
      " [0 1 0]\n",
      " [0 1 1]\n",
      " [1 0 0]\n",
      " [1 0 1]\n",
      " [1 1 0]\n",
      " [1 1 1]]\n"
     ]
    },
    {
     "data": {
      "text/plain": [
       "array([[0., 0., 0., 0., 0., 1., 0., 1.],\n",
       "       [0., 0., 1., 1., 1., 0., 0., 1.],\n",
       "       [0., 1., 1., 1., 0., 1., 1., 1.],\n",
       "       [1., 1., 1., 1., 1., 1., 1., 1.]])"
      ]
     },
     "execution_count": 7,
     "metadata": {},
     "output_type": "execute_result"
    }
   ],
   "source": [
    "from itertools import product\n",
    "\n",
    "# Generate all combinations of (i, j, k)\n",
    "world_points = np.asarray(list(product([0, 1], repeat=3)))\n",
    "\n",
    "print(\"All 8 world_points:\")\n",
    "print(world_points)\n",
    "world_points = Piinv(world_points.reshape(3, -1))\n",
    "world_points"
   ]
  },
  {
   "cell_type": "code",
   "execution_count": 8,
   "metadata": {},
   "outputs": [
    {
     "data": {
      "text/plain": [
       "(3, 8)"
      ]
     },
     "execution_count": 8,
     "metadata": {},
     "output_type": "execute_result"
    }
   ],
   "source": [
    "image_points = P @ world_points\n",
    "image_points.shape"
   ]
  },
  {
   "cell_type": "markdown",
   "metadata": {},
   "source": [
    "## Ex 4.2"
   ]
  },
  {
   "cell_type": "code",
   "execution_count": 9,
   "metadata": {},
   "outputs": [],
   "source": [
    "def pest(Q: np.array, q: np.array):\n",
    "    \"\"\"\n",
    "    Find projection matrix using DLT\n",
    "    Args:\n",
    "        Q (np.array): homogeneous real world points\n",
    "        q (np.array): homogeneous image points\n",
    "\n",
    "    Return:\n",
    "        P (np.array): projection matrix from real to image\n",
    "    \"\"\"\n",
    "    # Ensure Q and q are in homogeneous coordinates (3xN)\n",
    "    A = []\n",
    "    if Q.shape[0] == 2:\n",
    "        Q = Piinv(Q)\n",
    "    if q.shape[0] == 2:\n",
    "        q = Piinv(q)\n",
    "    num_points = Q.shape[1]\n",
    "    for i in range(num_points):\n",
    "        q_no_scale = q[:, i] / q[-1][i]\n",
    "        q_skew = skew(q_no_scale.reshape(1, 3))\n",
    "        B_i = np.kron(Q[:, i].T, q_skew)\n",
    "        A.append(B_i)\n",
    "    B = np.vstack(A)\n",
    "    U, S, VT = np.linalg.svd(B)\n",
    "    ## Important\n",
    "    P = VT[-1, :].reshape(4, 3).T\n",
    "    return P"
   ]
  },
  {
   "cell_type": "code",
   "execution_count": 10,
   "metadata": {},
   "outputs": [
    {
     "data": {
      "text/plain": [
       "(array([[ 7.07106781e+02, -7.07106781e+02,  9.60000000e+02,\n",
       "          9.60000000e+03],\n",
       "        [ 7.07106781e+02,  7.07106781e+02,  5.40000000e+02,\n",
       "          5.40000000e+03],\n",
       "        [ 2.40289311e-12,  4.23418666e-12,  1.00000000e+00,\n",
       "          1.00000000e+01]]),\n",
       " array([[ 7.07106781e+02, -7.07106781e+02,  9.60000000e+02,\n",
       "          9.60000000e+03],\n",
       "        [ 7.07106781e+02,  7.07106781e+02,  5.40000000e+02,\n",
       "          5.40000000e+03],\n",
       "        [ 0.00000000e+00,  0.00000000e+00,  1.00000000e+00,\n",
       "          1.00000000e+01]]))"
      ]
     },
     "execution_count": 10,
     "metadata": {},
     "output_type": "execute_result"
    }
   ],
   "source": [
    "calculated = pest(world_points, image_points)\n",
    "scaled = calculated * np.linalg.norm(P) / np.linalg.norm(calculated)\n",
    "scaled, P"
   ]
  },
  {
   "cell_type": "code",
   "execution_count": 11,
   "metadata": {},
   "outputs": [
    {
     "data": {
      "text/plain": [
       "6.931622180024931e-10"
      ]
     },
     "execution_count": 11,
     "metadata": {},
     "output_type": "execute_result"
    }
   ],
   "source": [
    "np.linalg.norm(P - scaled) / world_points.shape[1]"
   ]
  },
  {
   "cell_type": "markdown",
   "metadata": {},
   "source": [
    "## Checkerboard calibration"
   ]
  },
  {
   "cell_type": "code",
   "execution_count": 12,
   "metadata": {},
   "outputs": [
    {
     "data": {
      "text/plain": [
       "((3, 16),\n",
       " array([[-1, -1, -1, -1,  0,  0,  0,  0,  1,  1,  1,  1,  2,  2,  2,  2],\n",
       "        [-1,  0,  1,  2, -1,  0,  1,  2, -1,  0,  1,  2, -1,  0,  1,  2],\n",
       "        [ 0,  0,  0,  0,  0,  0,  0,  0,  0,  0,  0,  0,  0,  0,  0,  0]]),\n",
       " array([[-1, -1,  0],\n",
       "        [-1,  0,  0],\n",
       "        [-1,  1,  0],\n",
       "        [-1,  2,  0],\n",
       "        [ 0, -1,  0],\n",
       "        [ 0,  0,  0],\n",
       "        [ 0,  1,  0],\n",
       "        [ 0,  2,  0],\n",
       "        [ 1, -1,  0],\n",
       "        [ 1,  0,  0],\n",
       "        [ 1,  1,  0],\n",
       "        [ 1,  2,  0],\n",
       "        [ 2, -1,  0],\n",
       "        [ 2,  0,  0],\n",
       "        [ 2,  1,  0],\n",
       "        [ 2,  2,  0]]))"
      ]
     },
     "execution_count": 12,
     "metadata": {},
     "output_type": "execute_result"
    }
   ],
   "source": [
    "def checkerboard_points(n: int, m: int):\n",
    "    \"\"\"\n",
    "    Generate a checkerboard of points from dimensions n and m\n",
    "    Args:\n",
    "        n (int): number of rows\n",
    "        m (int): number of cols\n",
    "\n",
    "    Return:\n",
    "        board (np.array): checkerboard points\n",
    "    \"\"\"\n",
    "    A = []\n",
    "    for i in range(n):\n",
    "        for j in range(m):\n",
    "            A.append([i - (n-1)//2, j - (m-1)//2, 0])\n",
    "    board = np.vstack(A).T\n",
    "    return board\n",
    "checkerboard =  checkerboard_points(4, 4)\n",
    "checkerboard.shape, checkerboard , checkerboard.T\n"
   ]
  },
  {
   "cell_type": "markdown",
   "metadata": {},
   "source": [
    "## Ex 4.4"
   ]
  },
  {
   "cell_type": "code",
   "execution_count": 13,
   "metadata": {},
   "outputs": [],
   "source": [
    "from scipy.spatial.transform import Rotation"
   ]
  },
  {
   "cell_type": "code",
   "execution_count": 14,
   "metadata": {},
   "outputs": [
    {
     "data": {
      "text/plain": [
       "((3, 4),\n",
       " array([[-4, -4,  5,  5],\n",
       "        [-9, 10, -9, 10],\n",
       "        [ 0,  0,  0,  0]]))"
      ]
     },
     "execution_count": 14,
     "metadata": {},
     "output_type": "execute_result"
    }
   ],
   "source": [
    "n, m = 10, 20\n",
    "checkerboard = checkerboard_points(n, m)\n",
    "\n",
    "min_x = np.min(checkerboard[0, :])\n",
    "max_x = np.max(checkerboard[0, :])\n",
    "min_y = np.min(checkerboard[1, :])\n",
    "max_y = np.max(checkerboard[1, :])\n",
    "\n",
    "corners = np.array([\n",
    "    [min_x, min_y, 0],  # Top-left\n",
    "    [min_x, max_y, 0],  # Top-right\n",
    "    [max_x, min_y, 0],  # Bottom-left\n",
    "    [max_x, max_y, 0]   # Bottom-right\n",
    "])\n",
    "Q_corners = corners.T\n",
    "Q_corners.shape, Q_corners"
   ]
  },
  {
   "cell_type": "code",
   "execution_count": 15,
   "metadata": {},
   "outputs": [
    {
     "data": {
      "text/plain": [
       "((3, 4), (3, 4), (3, 4))"
      ]
     },
     "execution_count": 15,
     "metadata": {},
     "output_type": "execute_result"
    }
   ],
   "source": [
    "Q_a = Rotation.from_euler('xyz', [np.pi/10, 0, 0]).as_matrix() @ Q_corners\n",
    "Q_b = Rotation.from_euler(\"xyz\", [0, 0, 0]).as_matrix() @ Q_corners\n",
    "Q_c = Rotation.from_euler(\"xyz\", [-np.pi / 10, 0, 0]).as_matrix() @ Q_corners\n",
    "Q_a.shape, Q_b.shape, Q_c.shape"
   ]
  },
  {
   "cell_type": "code",
   "execution_count": 16,
   "metadata": {},
   "outputs": [],
   "source": [
    "qa = P @ Piinv(Q_a)\n",
    "qb = P @ Piinv(Q_b)\n",
    "qc = P @ Piinv(Q_c)\n",
    "q_corners = P @ Piinv(Q_corners)"
   ]
  },
  {
   "cell_type": "code",
   "execution_count": 17,
   "metadata": {},
   "outputs": [
    {
     "data": {
      "image/png": "[encoded data removed]",
      "text/plain": [
       "<Figure size 640x480 with 1 Axes>"
      ]
     },
     "metadata": {},
     "output_type": "display_data"
    }
   ],
   "source": [
    "import matplotlib.pyplot as plt\n",
    "\n",
    "fig = plt.figure()\n",
    "ax = fig.add_subplot(projection=\"3d\")\n",
    "ax.scatter(Q_a[0], Q_a[1], Q_a[2])\n",
    "ax.scatter(Q_b[0], Q_b[1], Q_b[2])\n",
    "ax.scatter(Q_c[0], Q_c[1], Q_c[2])\n",
    "\n",
    "ax.set_xlabel(\"X Label\")\n",
    "ax.set_ylabel(\"Y Label\")\n",
    "ax.set_zlabel(\"Z Label\")\n",
    "\n",
    "plt.show()"
   ]
  },
  {
   "cell_type": "code",
   "execution_count": 18,
   "metadata": {},
   "outputs": [
    {
     "data": {
      "text/plain": [
       "(3, 200)"
      ]
     },
     "execution_count": 18,
     "metadata": {},
     "output_type": "execute_result"
    }
   ],
   "source": [
    "image_points = P @ Piinv(checkerboard)\n",
    "image_points.shape"
   ]
  },
  {
   "cell_type": "markdown",
   "metadata": {},
   "source": [
    "## Ex 4.5"
   ]
  },
  {
   "cell_type": "code",
   "execution_count": 19,
   "metadata": {},
   "outputs": [],
   "source": [
    "def hest(q1: np.array, q2: np.array):\n",
    "    \"\"\"\n",
    "    Obtains estimated homography using linear algorithm\n",
    "\n",
    "    Args:\n",
    "        q1 (np.array): first set of points in 2D coordinates\n",
    "        q2 (np.array): second set of points in 2D coordinates\n",
    "\n",
    "    Return:\n",
    "        H (np.array): Estimated homography matrix\n",
    "    \"\"\"\n",
    "    A = []\n",
    "    # Ensure q1 and q2 are in homogeneous coordinates (3xN)\n",
    "    if q1.shape[0] == 2:\n",
    "        q1 = Piinv(q1)\n",
    "    if q2.shape[0] == 2:\n",
    "        q2 = Piinv(q2)\n",
    "    num_points = q1.shape[1]\n",
    "    for i in range(num_points):\n",
    "        # x1, y1, w = q1[:, i].T\n",
    "        # x2, y2, wp = q2[:, i].T\n",
    "        # B_check = np.asarray([[0, -x2, x2*y1, 0, -y2, y2*y1, 0, -1, y1],\n",
    "        #            [x2, 0, -x2*x1, y2, 0, -y2*x1, 1, 0, -x1],\n",
    "        #            [-x2*y1, x2*x1, 0, -y2*y1, y2*x1, 0, -y1, x1, 0]])\n",
    "        # x1, y1, w1 = q1[:, i]  # First set of points\n",
    "        # x2, y2, w2 = q2[:, i]  # Second set of points\n",
    "\n",
    "        # Construct two rows per correspondence\n",
    "        # A.append([-x1, -y1, -w1,  0,  0,  0, x2*x1, x2*y1, x2*w1])\n",
    "        # A.append([0,  0,  0, -x1, -y1, -w1, y2*x1, y2*y1, y2*w1])\n",
    "        q2_skew = skew(q2[:, i])\n",
    "        B_i = np.kron(\n",
    "            q1[:, i].reshape(1, 3),\n",
    "            q2_skew,\n",
    "        )\n",
    "        # print((B_check == B_i).all())\n",
    "        A.append(B_i)\n",
    "    B = np.vstack(A)\n",
    "    U, S, VT = np.linalg.svd(B)\n",
    "    H = VT[-1, :].reshape(3, 3).T\n",
    "    return H"
   ]
  },
  {
   "cell_type": "code",
   "execution_count": 20,
   "metadata": {},
   "outputs": [],
   "source": [
    "# Q_a = Piinv(Q_a)\n",
    "# print(Q_a[:-1], Q_a[-1])\n",
    "# print(\"_____________\")\n",
    "# Q_test = np.vstack((Q_a[:-2], Q_a[-1]))\n",
    "# Q_test"
   ]
  },
  {
   "cell_type": "code",
   "execution_count": 21,
   "metadata": {},
   "outputs": [],
   "source": [
    "def estimateHomographies(Q_omega: np.array, qs: np.array):\n",
    "    \"\"\"\n",
    "        Estimate a series of homographies between the setsof corresponding points\n",
    "        Args:\n",
    "            Q_omega (np.array): an array original un-transformed checkerboard points in 3D\n",
    "            qs (np.array): a list of arrays, each element in the list containing 3D points projected to the image plane from different views\n",
    "\n",
    "        Return:\n",
    "            H_all (np.array): list of homography between lists of corresponding points\n",
    "    \"\"\"\n",
    "    num_sets = Q_omega.shape[0]\n",
    "    H_all = []\n",
    "    for i in range(num_sets):\n",
    "        set_Q = Q_omega[i, :]\n",
    "        set_q = qs[i, :]\n",
    "        if set_Q.shape[0] == 3:\n",
    "            set_Q = Piinv(set_Q)\n",
    "        if set_q.shape[0] == 2:\n",
    "            set_q = Piinv(set_q)\n",
    "\n",
    "        # Assume that the z=0 in the world for Q_omega\n",
    "        # Remove z axis\n",
    "        set_Q = np.vstack((set_Q[:-2], set_Q[-1]))\n",
    "        assert set_q.shape == set_Q.shape\n",
    "        H_all.append(hest(set_Q, set_q))\n",
    "    return np.array(H_all)"
   ]
  },
  {
   "cell_type": "code",
   "execution_count": 22,
   "metadata": {},
   "outputs": [],
   "source": [
    "Q_omega = np.stack([Q_a, Q_b, Q_c], axis=0)\n",
    "qs = np.stack([qa, qb, qc], axis=0)\n",
    "qs.shape, Q_omega.shape, qs\n",
    "H_all = estimateHomographies(Q_omega, qs)"
   ]
  },
  {
   "cell_type": "code",
   "execution_count": 23,
   "metadata": {},
   "outputs": [
    {
     "data": {
      "text/plain": [
       "(array([[1233.55757178, -506.41738492, 1725.96120099,  436.27950539],\n",
       "        [-171.24968663, 1168.46459354,  321.15394258, 2111.16148384]]),\n",
       " array([[1313.55339059,  -29.94949366, 1949.94949366,  606.44660941],\n",
       "        [-379.23881554,  964.26406871,  257.15728753, 1600.66017178]]))"
      ]
     },
     "execution_count": 23,
     "metadata": {},
     "output_type": "execute_result"
    }
   ],
   "source": [
    "Q_test = Piinv(Q_b)\n",
    "Q_b_no_z = np.vstack((Q_test[:-2], Q_test[-1]))\n",
    "H = hest(Q_b_no_z, qb)\n",
    "Pi(H_all[-1] @ Q_b_no_z), Pi(qb)"
   ]
  },
  {
   "cell_type": "code",
   "execution_count": 24,
   "metadata": {},
   "outputs": [
    {
     "data": {
      "text/plain": [
       "(3, 3, 3)"
      ]
     },
     "execution_count": 24,
     "metadata": {},
     "output_type": "execute_result"
    }
   ],
   "source": [
    "H_all.shape"
   ]
  },
  {
   "cell_type": "markdown",
   "metadata": {},
   "source": [
    "## Ex 4.6"
   ]
  },
  {
   "cell_type": "code",
   "execution_count": 25,
   "metadata": {},
   "outputs": [],
   "source": [
    "def generate_vi(homography, alpha, beta):\n",
    "    \"\"\"\n",
    "    Generate the 1x6 vector vi^(alpha,beta) from homography elements.\n",
    "\n",
    "    Args:\n",
    "        homography (np.array): 3x3 homography matrix H_i\n",
    "        alpha (int): col index for the first part (0, 1, or 2, corresponding to 1α, 2α, 3α)\n",
    "        beta (int): col index for the second part (0, 1, or 2, corresponding to 1β, 2β, 3β)\n",
    "\n",
    "    Returns:\n",
    "        vi (np.array): 1x6 numpy array representing v_i^(alpha,beta)\n",
    "    \"\"\"\n",
    "    col_alpha = homography[:, alpha]  \n",
    "    col_beta = homography[:, beta]  \n",
    "\n",
    "    # Compute the outer product of the two rows\n",
    "    # This gives a 3x3 matrix, but we need to flatten it into 6 elements in the specific order\n",
    "    outer_product = np.outer(col_alpha, col_beta)\n",
    "\n",
    "    # [H_i^(1α)H_i^(1β), H_i^(1α)H_i^(2β) + H_i^(2α)H_i^(1β), H_i^(2α)H_i^(2β),\n",
    "    #  H_i^(1α)H_i^(3β) + H_i^(3α)H_i^(1β), H_i^(2α)H_i^(3β) + H_i^(3α)H_i^(2β),\n",
    "    #  H_i^(3α)H_i^(3β)]\n",
    "\n",
    "    vi = np.array(\n",
    "        [\n",
    "            outer_product[0, 0],  # H_i^(1α)H_i^(1β)\n",
    "            outer_product[0, 1]\n",
    "            + outer_product[1, 0],  # H_i^(1α)H_i^(2β) + H_i^(2α)H_i^(1β)\n",
    "            outer_product[1, 1],  # H_i^(2α)H_i^(2β)\n",
    "            outer_product[0, 2]\n",
    "            + outer_product[2, 0],  # H_i^(1α)H_i^(3β) + H_i^(3α)H_i^(1β)\n",
    "            outer_product[1, 2]\n",
    "            + outer_product[2, 1],  # H_i^(2α)H_i^(3β) + H_i^(3α)H_i^(2β)\n",
    "            outer_product[2, 2],  # H_i^(3α)H_i^(3β)\n",
    "        ]\n",
    "    )\n",
    "\n",
    "    return vi"
   ]
  },
  {
   "cell_type": "code",
   "execution_count": 26,
   "metadata": {},
   "outputs": [],
   "source": [
    "def estimate_b(Hs: np.array):\n",
    "    \"\"\"\n",
    "    Estimate b from a list of homographies\n",
    "    Args:\n",
    "        Hs (np.array): list of homographies\n",
    "\n",
    "    Return:\n",
    "        b (np.array): vector with variables from symmetric inv(K.T) @ inv(K)\n",
    "    \"\"\"\n",
    "    V = []\n",
    "    num_homographies = Hs.shape[0]\n",
    "    for i in range(num_homographies):\n",
    "        # Add constraints\n",
    "        homography = Hs[i, :]\n",
    "        V.append(generate_vi(homography, 0, 1))\n",
    "        V.append(generate_vi(homography, 0, 0) - generate_vi(homography, 1, 1))\n",
    "    V_stack = np.vstack(V)\n",
    "    U, S, VT = np.linalg.svd(V_stack)\n",
    "    b = VT[-1, :]\n",
    "    return b"
   ]
  },
  {
   "cell_type": "code",
   "execution_count": 27,
   "metadata": {},
   "outputs": [
    {
     "data": {
      "text/plain": [
       "(array([ 8.24266063e-07, -1.77569572e-19,  8.24266063e-07, -7.91295421e-04,\n",
       "        -4.45103674e-04,  9.99999588e-01]),\n",
       " array([ 1.0000e-06,  0.0000e+00,  1.0000e-06, -9.6000e-04, -5.4000e-04,\n",
       "         2.2132e+00]))"
      ]
     },
     "execution_count": 27,
     "metadata": {},
     "output_type": "execute_result"
    }
   ],
   "source": [
    "estimated_b = estimate_b(H_all)\n",
    "B_true = np.linalg.inv(K).T @ np.linalg.inv(K)\n",
    "\n",
    "b_true = np.asarray([B_true[0][0], B_true[0][1], B_true[1][1], B_true[0][2], B_true[1][2], B_true[2][2]]).T\n",
    "h1 = H_all[0][:, 0]\n",
    "assert generate_vi(H_all[0], 0, 0) @ b_true == h1.T @ B_true @ h1\n",
    "estimated_b, b_true"
   ]
  },
  {
   "cell_type": "code",
   "execution_count": 28,
   "metadata": {},
   "outputs": [
    {
     "data": {
      "text/plain": [
       "(0.00041021663896656464, (6,))"
      ]
     },
     "execution_count": 28,
     "metadata": {},
     "output_type": "execute_result"
    }
   ],
   "source": [
    "calculated_b_normalized = estimated_b / np.linalg.norm(estimated_b)\n",
    "b_true_normalized = b_true / np.linalg.norm(b_true)\n",
    "diff = calculated_b_normalized - b_true_normalized\n",
    "relative_error = np.linalg.norm(diff) / np.linalg.norm(b_true_normalized)\n",
    "relative_error"
   ]
  },
  {
   "cell_type": "markdown",
   "metadata": {},
   "source": [
    "## Ex 4.7"
   ]
  },
  {
   "cell_type": "code",
   "execution_count": 57,
   "metadata": {},
   "outputs": [
    {
     "data": {
      "text/plain": [
       "(array([[4, 1],\n",
       "        [1, 4]]),\n",
       " array([[4., 1.],\n",
       "        [1., 4.]]))"
      ]
     },
     "execution_count": 57,
     "metadata": {},
     "output_type": "execute_result"
    }
   ],
   "source": [
    "import numpy as np\n",
    "\n",
    "A = np.array([[4, 1], [1, 4]])\n",
    "eigenvalues, U = np.linalg.eigh(A)  # eigh is for symmetric matrices\n",
    "D = np.diag(eigenvalues)\n",
    "A_reconstructed = U @ D @ U.T\n",
    "A, A_reconstructed"
   ]
  },
  {
   "cell_type": "code",
   "execution_count": 61,
   "metadata": {},
   "outputs": [],
   "source": [
    "import scipy"
   ]
  },
  {
   "cell_type": "markdown",
   "metadata": {},
   "source": [
    "## Test reconstruction"
   ]
  },
  {
   "cell_type": "code",
   "execution_count": 64,
   "metadata": {},
   "outputs": [
    {
     "data": {
      "text/plain": [
       "array([[-1.13725289e+17,  0.00000000e+00,  0.00000000e+00],\n",
       "       [ 0.00000000e+00,  9.99963487e-01,  0.00000000e+00],\n",
       "       [ 0.00000000e+00,  0.00000000e+00,  1.21319116e+06]])"
      ]
     },
     "execution_count": 64,
     "metadata": {},
     "output_type": "execute_result"
    }
   ],
   "source": [
    "estimated_b = estimate_b(H_all)\n",
    "B11, B12, B22, B13, B23, B33 = (\n",
    "    estimated_b[0],\n",
    "    estimated_b[1],\n",
    "    estimated_b[2],\n",
    "    estimated_b[3],\n",
    "    estimated_b[4],\n",
    "    estimated_b[5],\n",
    ")\n",
    "B = np.asarray([[B11, B12, B13], [B12, B22, B23], [B13, B23, B33]])\n",
    "B_inv = np.linalg.inv(B)\n",
    "eigenvalues, U = np.linalg.eigh(B_inv)  # eigh is for symmetric matrices\n",
    "D = np.diag(eigenvalues)\n",
    "B_reconstructed = U @ D @ U.T\n",
    "B_inv, B_reconstructed\n",
    "D"
   ]
  },
  {
   "cell_type": "code",
   "execution_count": 70,
   "metadata": {},
   "outputs": [],
   "source": [
    "import scipy.linalg\n",
    "\n",
    "\n",
    "def estimateInstrinsics(Hs: np.array):\n",
    "    \"\"\"\n",
    "    Estimate intrinsics from a list of homographies\n",
    "    Args:\n",
    "        Hs (np.array): list of homographies\n",
    "\n",
    "    Return:\n",
    "        K (np.array): Intrinsics matrix from homographies\n",
    "    \"\"\"\n",
    "    estimated_b = estimate_b(Hs)\n",
    "    B11, B12, B22, B13, B23, B33 = (\n",
    "        estimated_b[0],\n",
    "        estimated_b[1],\n",
    "        estimated_b[2],\n",
    "        estimated_b[3],\n",
    "        estimated_b[4],\n",
    "        estimated_b[5],\n",
    "    )\n",
    "    B = np.asarray([[B11, B12, B13], [B12, B22, B23], [B13, B23, B33]])\n",
    "\n",
    "    # B^-1 can be represented as KK^T and also represented as UDU^T\n",
    "    # K = UD^0.5\n",
    "    # Compute B inverse\n",
    "    B_inv = np.linalg.inv(B)\n",
    "    # https://www.seas.ucla.edu/~vandenbe/133B/lectures/symm.pdf\n",
    "    # Decompose B_inv to U D U^T since it is real and symmetric\n",
    "    B_inv = np.linalg.inv(B)\n",
    "    eigenvalues, U = np.linalg.eigh(B_inv)  # eigh is for symmetric matrices\n",
    "    D = np.diag(eigenvalues)\n",
    "    B_reconstructed = U @ D @ U.T\n",
    "    K = np.dot(U, scipy.linalg.sqrtm(D))\n",
    "\n",
    "    return K"
   ]
  },
  {
   "cell_type": "code",
   "execution_count": 71,
   "metadata": {},
   "outputs": [
    {
     "data": {
      "text/plain": [
       "(array([[1000,    0,  960],\n",
       "        [   0, 1000,  540],\n",
       "        [   0,    0,    1]]),\n",
       " array([[-0.00000000e+00+2.93922868e+08j,  7.91284133e-04+0.00000000e+00j,\n",
       "         -5.39998033e+02+0.00000000e+00j],\n",
       "        [ 0.00000000e+00+1.65331613e+08j,  4.45089933e-04+0.00000000e+00j,\n",
       "          9.59996503e+02+0.00000000e+00j],\n",
       "        [-0.00000000e+00+3.06169655e+05j, -9.99981331e-01+0.00000000e+00j,\n",
       "         -7.09573937e-06+0.00000000e+00j]]))"
      ]
     },
     "execution_count": 71,
     "metadata": {},
     "output_type": "execute_result"
    }
   ],
   "source": [
    "K, estimateInstrinsics(H_all)"
   ]
  }
 ],
 "metadata": {
  "kernelspec": {
   "display_name": "usr",
   "language": "python",
   "name": "python3"
  },
  "language_info": {
   "codemirror_mode": {
    "name": "ipython",
    "version": 3
   },
   "file_extension": ".py",
   "mimetype": "text/x-python",
   "name": "python",
   "nbconvert_exporter": "python",
   "pygments_lexer": "ipython3",
   "version": "3.10.12"
  }
 },
 "nbformat": 4,
 "nbformat_minor": 2
}
