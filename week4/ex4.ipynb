{
 "cells": [
  {
   "cell_type": "code",
   "execution_count": 820,
   "metadata": {},
   "outputs": [],
   "source": [
    "import numpy as np\n",
    "import math"
   ]
  },
  {
   "cell_type": "code",
   "execution_count": 821,
   "metadata": {},
   "outputs": [],
   "source": [
    "def Pi(x: np.array):\n",
    "    \"\"\"\n",
    "    Converts homogeneous to inhomogeneous coordinates\n",
    "    Args:\n",
    "        x (np.array) homogeneous coordinate\n",
    "\n",
    "    Return:\n",
    "        np.array converted inhomogeneous coordinate\n",
    "    \"\"\"\n",
    "\n",
    "    return x[:-1] / x[-1]\n",
    "\n",
    "\n",
    "def Piinv(x: np.array):\n",
    "    \"\"\"\n",
    "    Converts inhomogeneous to homogeneous coordinates\n",
    "\n",
    "    Args:\n",
    "        x (np.array) inhomogeneous coordinate\n",
    "\n",
    "    Return:\n",
    "        np.array converted homogeneous coordinate\n",
    "    \"\"\"\n",
    "    if x.ndim == 1:\n",
    "        return np.concatenate((x, np.ones(1)))\n",
    "    return np.vstack((x, np.ones((1, x.shape[1]))))"
   ]
  },
  {
   "cell_type": "code",
   "execution_count": 822,
   "metadata": {},
   "outputs": [],
   "source": [
    "def skew(x: np.array):\n",
    "    \"\"\"\n",
    "    This function returns a numpy array with the skew symmetric cross product matrix for vector.\n",
    "    the skew symmetric cross product matrix is defined such that\n",
    "    np.cross(a, b) = np.dot(skew(a), b)\n",
    "    https://stackoverflow.com/questions/36915774/form-numpy-array-from-possible-numpy-array\n",
    "\n",
    "    Args:\n",
    "        x (np.array): 1x3 matrix\n",
    "\n",
    "    Return:\n",
    "        s (np.array): 3x3 skew symmetrix matrix for cross product\n",
    "    \"\"\"\n",
    "    vector = x.ravel()\n",
    "    s = np.asarray(\n",
    "        [\n",
    "            [0, -vector[2], vector[1]],\n",
    "            [vector[2], 0, -vector[0]],\n",
    "            [-vector[1], vector[0], 0],\n",
    "        ]\n",
    "    )\n",
    "    return s"
   ]
  },
  {
   "cell_type": "markdown",
   "metadata": {},
   "source": [
    "## Ex 4.1"
   ]
  },
  {
   "cell_type": "code",
   "execution_count": 823,
   "metadata": {},
   "outputs": [
    {
     "data": {
      "text/plain": [
       "array([[ 7.07106781e+02, -7.07106781e+02,  9.60000000e+02,\n",
       "         9.60000000e+03],\n",
       "       [ 7.07106781e+02,  7.07106781e+02,  5.40000000e+02,\n",
       "         5.40000000e+03],\n",
       "       [ 0.00000000e+00,  0.00000000e+00,  1.00000000e+00,\n",
       "         1.00000000e+01]])"
      ]
     },
     "execution_count": 823,
     "metadata": {},
     "output_type": "execute_result"
    }
   ],
   "source": [
    "R = np.asarray([[np.sqrt(0.5), -np.sqrt(0.5), 0], [np.sqrt(0.5), np.sqrt(0.5), 0], [0, 0, 1]])\n",
    "t = np.asarray([0, 0, 10]).reshape(3, 1)\n",
    "K = np.asarray([[1000, 0, 960], [0, 1000, 540], [0, 0, 1]])\n",
    "P = K @ np.concatenate((R, t), axis=1)\n",
    "P"
   ]
  },
  {
   "cell_type": "code",
   "execution_count": 824,
   "metadata": {},
   "outputs": [
    {
     "name": "stdout",
     "output_type": "stream",
     "text": [
      "All 8 world_points:\n",
      "[[0 0 0]\n",
      " [0 0 1]\n",
      " [0 1 0]\n",
      " [0 1 1]\n",
      " [1 0 0]\n",
      " [1 0 1]\n",
      " [1 1 0]\n",
      " [1 1 1]]\n"
     ]
    },
    {
     "data": {
      "text/plain": [
       "array([[0., 0., 0., 0., 0., 1., 0., 1.],\n",
       "       [0., 0., 1., 1., 1., 0., 0., 1.],\n",
       "       [0., 1., 1., 1., 0., 1., 1., 1.],\n",
       "       [1., 1., 1., 1., 1., 1., 1., 1.]])"
      ]
     },
     "execution_count": 824,
     "metadata": {},
     "output_type": "execute_result"
    }
   ],
   "source": [
    "from itertools import product\n",
    "\n",
    "# Generate all combinations of (i, j, k)\n",
    "world_points = np.asarray(list(product([0, 1], repeat=3)))\n",
    "\n",
    "print(\"All 8 world_points:\")\n",
    "print(world_points)\n",
    "world_points = Piinv(world_points.reshape(3, -1))\n",
    "world_points"
   ]
  },
  {
   "cell_type": "code",
   "execution_count": 825,
   "metadata": {},
   "outputs": [
    {
     "data": {
      "text/plain": [
       "(3, 8)"
      ]
     },
     "execution_count": 825,
     "metadata": {},
     "output_type": "execute_result"
    }
   ],
   "source": [
    "image_points = P @ world_points\n",
    "image_points.shape"
   ]
  },
  {
   "cell_type": "markdown",
   "metadata": {},
   "source": [
    "## Ex 4.2"
   ]
  },
  {
   "cell_type": "code",
   "execution_count": 826,
   "metadata": {},
   "outputs": [],
   "source": [
    "def pest(Q: np.array, q: np.array):\n",
    "    \"\"\"\n",
    "    Find projection matrix using DLT\n",
    "    Args:\n",
    "        Q (np.array): homogeneous real world points\n",
    "        q (np.array): homogeneous image points\n",
    "\n",
    "    Return:\n",
    "        P (np.array): projection matrix from real to image\n",
    "    \"\"\"\n",
    "    # Ensure Q and q are in homogeneous coordinates (3xN)\n",
    "    A = []\n",
    "    if Q.shape[0] == 2:\n",
    "        Q = Piinv(Q)\n",
    "    if q.shape[0] == 2:\n",
    "        q = Piinv(q)\n",
    "    num_points = Q.shape[1]\n",
    "    for i in range(num_points):\n",
    "        q_no_scale = q[:, i] / q[-1][i]\n",
    "        q_skew = skew(q_no_scale.reshape(1, 3))\n",
    "        B_i = np.kron(Q[:, i].T, q_skew)\n",
    "        A.append(B_i)\n",
    "    B = np.vstack(A)\n",
    "    U, S, VT = np.linalg.svd(B)\n",
    "    ## Important\n",
    "    P = VT[-1, :].reshape(4, 3).T\n",
    "    return P"
   ]
  },
  {
   "cell_type": "code",
   "execution_count": 827,
   "metadata": {},
   "outputs": [
    {
     "data": {
      "text/plain": [
       "(array([[ 7.07106781e+02, -7.07106781e+02,  9.60000000e+02,\n",
       "          9.60000000e+03],\n",
       "        [ 7.07106781e+02,  7.07106781e+02,  5.40000000e+02,\n",
       "          5.40000000e+03],\n",
       "        [ 2.40289311e-12,  4.23418666e-12,  1.00000000e+00,\n",
       "          1.00000000e+01]]),\n",
       " array([[ 7.07106781e+02, -7.07106781e+02,  9.60000000e+02,\n",
       "          9.60000000e+03],\n",
       "        [ 7.07106781e+02,  7.07106781e+02,  5.40000000e+02,\n",
       "          5.40000000e+03],\n",
       "        [ 0.00000000e+00,  0.00000000e+00,  1.00000000e+00,\n",
       "          1.00000000e+01]]))"
      ]
     },
     "execution_count": 827,
     "metadata": {},
     "output_type": "execute_result"
    }
   ],
   "source": [
    "calculated = pest(world_points, image_points)\n",
    "scaled = calculated * np.linalg.norm(P) / np.linalg.norm(calculated)\n",
    "scaled, P"
   ]
  },
  {
   "cell_type": "code",
   "execution_count": 828,
   "metadata": {},
   "outputs": [
    {
     "data": {
      "text/plain": [
       "6.931622180024931e-10"
      ]
     },
     "execution_count": 828,
     "metadata": {},
     "output_type": "execute_result"
    }
   ],
   "source": [
    "np.linalg.norm(P - scaled) / world_points.shape[1]"
   ]
  },
  {
   "cell_type": "markdown",
   "metadata": {},
   "source": [
    "## Checkerboard calibration"
   ]
  },
  {
   "cell_type": "code",
   "execution_count": 829,
   "metadata": {},
   "outputs": [
    {
     "data": {
      "text/plain": [
       "((3, 16),\n",
       " array([[-1, -1, -1, -1,  0,  0,  0,  0,  1,  1,  1,  1,  2,  2,  2,  2],\n",
       "        [-1,  0,  1,  2, -1,  0,  1,  2, -1,  0,  1,  2, -1,  0,  1,  2],\n",
       "        [ 0,  0,  0,  0,  0,  0,  0,  0,  0,  0,  0,  0,  0,  0,  0,  0]]),\n",
       " array([[-1, -1,  0],\n",
       "        [-1,  0,  0],\n",
       "        [-1,  1,  0],\n",
       "        [-1,  2,  0],\n",
       "        [ 0, -1,  0],\n",
       "        [ 0,  0,  0],\n",
       "        [ 0,  1,  0],\n",
       "        [ 0,  2,  0],\n",
       "        [ 1, -1,  0],\n",
       "        [ 1,  0,  0],\n",
       "        [ 1,  1,  0],\n",
       "        [ 1,  2,  0],\n",
       "        [ 2, -1,  0],\n",
       "        [ 2,  0,  0],\n",
       "        [ 2,  1,  0],\n",
       "        [ 2,  2,  0]]))"
      ]
     },
     "execution_count": 829,
     "metadata": {},
     "output_type": "execute_result"
    }
   ],
   "source": [
    "def checkerboard_points(n: int, m: int):\n",
    "    \"\"\"\n",
    "    Generate a checkerboard of points from dimensions n and m\n",
    "    Args:\n",
    "        n (int): number of rows\n",
    "        m (int): number of cols\n",
    "\n",
    "    Return:\n",
    "        board (np.array): checkerboard points\n",
    "    \"\"\"\n",
    "    A = []\n",
    "    for i in range(n):\n",
    "        for j in range(m):\n",
    "            A.append([i - (n-1)//2, j - (m-1)//2, 0])\n",
    "    board = np.vstack(A).T\n",
    "    return board\n",
    "checkerboard =  checkerboard_points(4, 4)\n",
    "checkerboard.shape, checkerboard , checkerboard.T\n"
   ]
  },
  {
   "cell_type": "markdown",
   "metadata": {},
   "source": [
    "## Ex 4.4"
   ]
  },
  {
   "cell_type": "code",
   "execution_count": 830,
   "metadata": {},
   "outputs": [],
   "source": [
    "from scipy.spatial.transform import Rotation"
   ]
  },
  {
   "cell_type": "code",
   "execution_count": 831,
   "metadata": {},
   "outputs": [
    {
     "data": {
      "text/plain": [
       "((3, 4),\n",
       " array([[-4, -4,  5,  5],\n",
       "        [-9, 10, -9, 10],\n",
       "        [ 0,  0,  0,  0]]))"
      ]
     },
     "execution_count": 831,
     "metadata": {},
     "output_type": "execute_result"
    }
   ],
   "source": [
    "n, m = 10, 20\n",
    "checkerboard = checkerboard_points(n, m)\n",
    "\n",
    "min_x = np.min(checkerboard[0, :])\n",
    "max_x = np.max(checkerboard[0, :])\n",
    "min_y = np.min(checkerboard[1, :])\n",
    "max_y = np.max(checkerboard[1, :])\n",
    "\n",
    "corners = np.array([\n",
    "    [min_x, min_y, 0],  # Top-left\n",
    "    [min_x, max_y, 0],  # Top-right\n",
    "    [max_x, min_y, 0],  # Bottom-left\n",
    "    [max_x, max_y, 0]   # Bottom-right\n",
    "])\n",
    "Q_corners = corners.T\n",
    "Q_corners.shape, Q_corners"
   ]
  },
  {
   "cell_type": "code",
   "execution_count": 832,
   "metadata": {},
   "outputs": [
    {
     "data": {
      "text/plain": [
       "((3, 200), (3, 200), (3, 200), (3, 200))"
      ]
     },
     "execution_count": 832,
     "metadata": {},
     "output_type": "execute_result"
    }
   ],
   "source": [
    "R_a = Rotation.from_euler(\"xyz\", [np.pi / 10, 0, 0]).as_matrix()\n",
    "R_b = Rotation.from_euler(\"xyz\", [0, 0, 0]).as_matrix()\n",
    "R_c = Rotation.from_euler(\"xyz\", [-np.pi / 10, 0, 0]).as_matrix()\n",
    "Q_a = R_a @ checkerboard\n",
    "Q_b = R_b @ checkerboard\n",
    "Q_c = R_c @ checkerboard\n",
    "Q_omega = Rotation.from_euler(\"xyz\", [0, 0, 0]).as_matrix() @ checkerboard\n",
    "\n",
    "Q_a.shape, Q_b.shape, Q_c.shape, Q_omega.shape"
   ]
  },
  {
   "cell_type": "code",
   "execution_count": 833,
   "metadata": {},
   "outputs": [
    {
     "data": {
      "text/plain": [
       "array([[-4., -4., -4., -4., -4., -4., -4., -4., -4., -4.],\n",
       "       [-9., -8., -7., -6., -5., -4., -3., -2., -1.,  0.],\n",
       "       [ 0.,  0.,  0.,  0.,  0.,  0.,  0.,  0.,  0.,  0.]])"
      ]
     },
     "execution_count": 833,
     "metadata": {},
     "output_type": "execute_result"
    }
   ],
   "source": [
    "## Q_omega is the base checkerboard, meaning that it has no transform and we assume that it is flat\n",
    "# Therefore Z for Q_omega is 0\n",
    "Q_omega[:, :10]"
   ]
  },
  {
   "cell_type": "code",
   "execution_count": 834,
   "metadata": {},
   "outputs": [
    {
     "data": {
      "image/png": "[encoded data removed]",
      "text/plain": [
       "<Figure size 640x480 with 1 Axes>"
      ]
     },
     "metadata": {},
     "output_type": "display_data"
    }
   ],
   "source": [
    "qa = P @ Piinv(Q_a)\n",
    "qb = P @ Piinv(Q_b)\n",
    "qc = P @ Piinv(Q_c)\n",
    "qomega = P @ Piinv(Q_omega)\n",
    "qa_inhomo = Pi(P @ Piinv(Q_a))\n",
    "qb_inhomo = Pi(P @ Piinv(Q_b))\n",
    "qc_inhomo = Pi(P @ Piinv(Q_c))\n",
    "qomega_inhomo =Pi(qomega)\n",
    "\n",
    "fig = plt.figure()\n",
    "ax = fig.add_subplot()\n",
    "ax.scatter(\n",
    "    qa_inhomo[0],\n",
    "    qa_inhomo[1],\n",
    ")\n",
    "ax.scatter(\n",
    "    qb_inhomo[0],\n",
    "    qb_inhomo[1],\n",
    ")\n",
    "ax.scatter(\n",
    "    qc_inhomo[0],\n",
    "    qc_inhomo[1],\n",
    ")\n",
    "ax.scatter(\n",
    "    qomega_inhomo[0],\n",
    "    qomega_inhomo[1],\n",
    ")\n",
    "\n",
    "plt.show()"
   ]
  },
  {
   "cell_type": "code",
   "execution_count": 835,
   "metadata": {},
   "outputs": [
    {
     "data": {
      "image/png": "[encoded data removed]",
      "text/plain": [
       "<Figure size 640x480 with 1 Axes>"
      ]
     },
     "metadata": {},
     "output_type": "display_data"
    }
   ],
   "source": [
    "import matplotlib.pyplot as plt\n",
    "\n",
    "fig = plt.figure()\n",
    "ax = fig.add_subplot(projection=\"3d\")\n",
    "ax.scatter(Q_a[0], Q_a[1], Q_a[2])\n",
    "ax.scatter(Q_b[0], Q_b[1], Q_b[2])\n",
    "ax.scatter(Q_c[0], Q_c[1], Q_c[2])\n",
    "\n",
    "ax.set_xlabel(\"X Label\")\n",
    "ax.set_ylabel(\"Y Label\")\n",
    "ax.set_zlabel(\"Z Label\")\n",
    "\n",
    "plt.show()"
   ]
  },
  {
   "cell_type": "code",
   "execution_count": 836,
   "metadata": {},
   "outputs": [
    {
     "data": {
      "text/plain": [
       "(3, 200)"
      ]
     },
     "execution_count": 836,
     "metadata": {},
     "output_type": "execute_result"
    }
   ],
   "source": [
    "image_points = P @ Piinv(checkerboard)\n",
    "image_points.shape"
   ]
  },
  {
   "cell_type": "markdown",
   "metadata": {},
   "source": [
    "## Ex 4.5"
   ]
  },
  {
   "cell_type": "code",
   "execution_count": 837,
   "metadata": {},
   "outputs": [],
   "source": [
    "def hest(q1: np.array, q2: np.array):\n",
    "    \"\"\"\n",
    "    Obtains estimated homography using linear algorithm\n",
    "\n",
    "    Args:\n",
    "        q1 (np.array): first set of points in 2D homogeneous coordinates\n",
    "        q2 (np.array): second set of points in 2D homoegeneous coordinates\n",
    "\n",
    "    Return:\n",
    "        H (np.array): Estimated homography matrix\n",
    "    \"\"\"\n",
    "    A = []\n",
    "    # Ensure q1 and q2 are in homogeneous coordinates (3xN)\n",
    "    if q1.shape[0] == 2:\n",
    "        q1 = Piinv(q1)\n",
    "    if q2.shape[0] == 2:\n",
    "        q2 = Piinv(q2)\n",
    "    num_points = q1.shape[1]\n",
    "    for i in range(num_points):\n",
    "        q2_skew = skew(q2[:, i])\n",
    "        B_i = np.kron(\n",
    "            q1[:, i].reshape(1, 3),\n",
    "            q2_skew,\n",
    "        )\n",
    "        A.append(B_i)\n",
    "    B = np.vstack(A)\n",
    "    U, S, VT = np.linalg.svd(B)\n",
    "    H = VT[-1, :].reshape(3, 3).T\n",
    "    return H"
   ]
  },
  {
   "cell_type": "code",
   "execution_count": 838,
   "metadata": {},
   "outputs": [
    {
     "data": {
      "text/plain": [
       "(3, 200)"
      ]
     },
     "execution_count": 838,
     "metadata": {},
     "output_type": "execute_result"
    }
   ],
   "source": [
    "Q_omega.shape"
   ]
  },
  {
   "cell_type": "code",
   "execution_count": 839,
   "metadata": {},
   "outputs": [],
   "source": [
    "def estimateHomographies(Q_omega: np.array, qs: np.array):\n",
    "    \"\"\"\n",
    "        Estimate a series of homographies between sets of corresponding points\n",
    "        Args:\n",
    "            Q_omega (np.array): Original un-transformed checkerboard points in 3D homogeneous coordinate\n",
    "            qs (np.array): a list of arrays, each element in the list containing 3D points projected to the image plane from different views\n",
    "\n",
    "        Return:\n",
    "            H_all (np.array): list of homography between lists of corresponding points\n",
    "    \"\"\"\n",
    "    if Q_omega.shape[0] == 3:\n",
    "        Q_omega = Piinv(Q_omega)\n",
    "    # Assume that the z=0 in the world for Q_omega\n",
    "    # Remove z axis\n",
    "    Q_omega = np.vstack((Q_omega[:-2], Q_omega[-1]))\n",
    "    num_sets = qs.shape[0]\n",
    "    H_all = []\n",
    "    for i in range(num_sets):\n",
    "        set_q = qs[i, :]\n",
    "        if set_q.shape[0] == 2:\n",
    "            set_q = Piinv(set_q)\n",
    "        assert set_q.shape == Q_omega.shape\n",
    "        H_all.append(hest(Q_omega, set_q))\n",
    "    return np.array(H_all)"
   ]
  },
  {
   "cell_type": "code",
   "execution_count": 840,
   "metadata": {},
   "outputs": [
    {
     "data": {
      "text/plain": [
       "(3, 3, 3)"
      ]
     },
     "execution_count": 840,
     "metadata": {},
     "output_type": "execute_result"
    }
   ],
   "source": [
    "qs = np.stack([qa, qb, qc], axis=0)\n",
    "qs.shape, Q_omega.shape, qs\n",
    "H_all = estimateHomographies(Q_omega, qs)\n",
    "H_all.shape"
   ]
  },
  {
   "cell_type": "code",
   "execution_count": 841,
   "metadata": {},
   "outputs": [
    {
     "data": {
      "text/plain": [
       "(3, 200)"
      ]
     },
     "execution_count": 841,
     "metadata": {},
     "output_type": "execute_result"
    }
   ],
   "source": [
    "Q_b.shape"
   ]
  },
  {
   "cell_type": "code",
   "execution_count": 842,
   "metadata": {},
   "outputs": [
    {
     "data": {
      "text/plain": [
       "1.2744546836068955e-09"
      ]
     },
     "execution_count": 842,
     "metadata": {},
     "output_type": "execute_result"
    }
   ],
   "source": [
    "Q_test = Piinv(Q_b)\n",
    "Q_b_no_z = np.vstack((Q_test[:-2], Q_test[-1]))\n",
    "H = hest(Q_b_no_z, qb)\n",
    "assert H.all() ==  H_all[-2].all()\n",
    "error_qb = np.linalg.norm(Pi(H_all[-2] @ Q_b_no_z) - Pi(qb))\n",
    "error_qb"
   ]
  },
  {
   "cell_type": "code",
   "execution_count": 843,
   "metadata": {},
   "outputs": [
    {
     "data": {
      "text/plain": [
       "((3, 3, 3),\n",
       " array([[[ 6.37147183e-02, -3.38657193e-02,  8.65019701e-01],\n",
       "         [ 6.37147183e-02,  7.56322486e-02,  4.86573582e-01],\n",
       "         [-2.61045647e-16,  2.78443529e-05,  9.01062188e-04]],\n",
       " \n",
       "        [[ 6.36748702e-02, -6.36748702e-02,  8.64478704e-01],\n",
       "         [ 6.36748702e-02,  6.36748702e-02,  4.86269271e-01],\n",
       "         [-1.16557687e-17, -8.33600465e-18,  9.00498650e-04]],\n",
       " \n",
       "        [[-6.36246069e-02,  8.72033708e-02, -8.63796306e-01],\n",
       "         [-6.36246069e-02, -4.54959117e-02, -4.85885422e-01],\n",
       "         [-1.41483036e-17,  2.78049727e-05, -8.99787819e-04]]]))"
      ]
     },
     "execution_count": 843,
     "metadata": {},
     "output_type": "execute_result"
    }
   ],
   "source": [
    "H_all.shape, H_all"
   ]
  },
  {
   "cell_type": "markdown",
   "metadata": {},
   "source": [
    "## Ex 4.6"
   ]
  },
  {
   "cell_type": "code",
   "execution_count": 844,
   "metadata": {},
   "outputs": [],
   "source": [
    "def generate_vi(homography, alpha, beta):\n",
    "    \"\"\"\n",
    "    Generate the 1x6 vector vi^(alpha,beta) from homography elements.\n",
    "\n",
    "    Args:\n",
    "        homography (np.array): 3x3 homography matrix H_i\n",
    "        alpha (int): row index for the first part (0, 1, or 2, corresponding to 1α, 2α, 3α)\n",
    "        beta (int): row index for the second part (0, 1, or 2, corresponding to 1β, 2β, 3β)\n",
    "\n",
    "    Returns:\n",
    "        vi (np.array): 1x6 numpy array representing v_i^(alpha,beta)\n",
    "    \"\"\"\n",
    "    # H(RC) is the element in row r and colc\n",
    "    H1_alpha = homography[0, alpha]\n",
    "    H2_alpha = homography[1, alpha]\n",
    "    H3_alpha = homography[2, alpha]\n",
    "    H1_beta = homography[0, beta]\n",
    "    H2_beta = homography[1, beta]\n",
    "    H3_beta = homography[2, beta]\n",
    "\n",
    "    # [H_i^(1α)H_i^(1β), H_i^(1α)H_i^(2β) + H_i^(2α)H_i^(1β), H_i^(2α)H_i^(2β),\n",
    "    #  H_i^(1α)H_i^(3β) + H_i^(3α)H_i^(1β), H_i^(2α)H_i^(3β) + H_i^(3α)H_i^(2β),\n",
    "    #  H_i^(3α)H_i^(3β)]\n",
    "\n",
    "    vi = np.array(\n",
    "        [\n",
    "            H1_alpha * H1_beta, \n",
    "            H1_alpha * H2_beta + H2_alpha * H1_beta, \n",
    "            H2_alpha * H2_beta,\n",
    "            H3_alpha * H1_beta + H1_alpha * H3_beta,\n",
    "            H3_alpha * H2_beta + H2_alpha * H3_beta,\n",
    "            H3_alpha * H3_beta\n",
    "        ]\n",
    "    )\n",
    "\n",
    "    return vi"
   ]
  },
  {
   "cell_type": "code",
   "execution_count": 845,
   "metadata": {},
   "outputs": [
    {
     "data": {
      "text/plain": [
       "(8.096181194855698e-09, 8.0961811948557e-09)"
      ]
     },
     "execution_count": 845,
     "metadata": {},
     "output_type": "execute_result"
    }
   ],
   "source": [
    "# h1 is the first column in the homography matrix\n",
    "h1 = H_all[2][:, 0]\n",
    "B_true = np.linalg.inv(K).T @ np.linalg.inv(K)\n",
    "\n",
    "b_true = np.asarray(\n",
    "    [B_true[0][0], B_true[0][1], B_true[1][1], B_true[0][2], B_true[1][2], B_true[2][2]]\n",
    ").T\n",
    "generate_vi(H_all[2], 0, 0) @ b_true, h1.T @ B_true @ h1"
   ]
  },
  {
   "cell_type": "code",
   "execution_count": 846,
   "metadata": {},
   "outputs": [],
   "source": [
    "def estimate_b(Hs: np.array):\n",
    "    \"\"\"\n",
    "    Estimate b from a list of homographies\n",
    "    Args:\n",
    "        Hs (np.array): list of homographies\n",
    "\n",
    "    Return:\n",
    "        b (np.array): vector with variables from symmetric inv(K.T) @ inv(K)\n",
    "    \"\"\"\n",
    "    V = []\n",
    "    num_homographies = Hs.shape[0]\n",
    "    for i in range(num_homographies):\n",
    "        # Add constraints\n",
    "        homography = Hs[i, :, :]\n",
    "        V.append(generate_vi(homography, 0, 1))\n",
    "        V.append(generate_vi(homography, 0, 0) - generate_vi(homography, 1, 1))\n",
    "    V_stack = np.vstack(V)\n",
    "    U, S, VT = np.linalg.svd(V_stack)\n",
    "    b = VT[-1, :]\n",
    "    return b"
   ]
  },
  {
   "cell_type": "code",
   "execution_count": 847,
   "metadata": {},
   "outputs": [
    {
     "data": {
      "text/plain": [
       "array([-4.51834392e-07,  7.49378795e-20, -4.51834392e-07,  4.33761016e-04,\n",
       "        2.43990572e-04, -9.99999876e-01])"
      ]
     },
     "execution_count": 847,
     "metadata": {},
     "output_type": "execute_result"
    }
   ],
   "source": [
    "estimate_b(H_all)"
   ]
  },
  {
   "cell_type": "code",
   "execution_count": 848,
   "metadata": {},
   "outputs": [
    {
     "data": {
      "text/plain": [
       "(array([-4.51834392e-07,  7.49378795e-20, -4.51834392e-07,  4.33761016e-04,\n",
       "         2.43990572e-04, -9.99999876e-01]),\n",
       " array([ 1.0000e-06,  0.0000e+00,  1.0000e-06, -9.6000e-04, -5.4000e-04,\n",
       "         2.2132e+00]))"
      ]
     },
     "execution_count": 848,
     "metadata": {},
     "output_type": "execute_result"
    }
   ],
   "source": [
    "estimated_b = estimate_b(H_all)\n",
    "estimated_b, b_true"
   ]
  },
  {
   "cell_type": "code",
   "execution_count": 849,
   "metadata": {},
   "outputs": [
    {
     "data": {
      "text/plain": [
       "(array([-4.51834392e-07,  7.49378795e-20, -4.51834392e-07,  4.33761016e-04,\n",
       "         2.43990572e-04, -9.99999876e-01]),\n",
       " array([ 4.51834392e-07,  0.00000000e+00,  4.51834392e-07, -4.33761016e-04,\n",
       "        -2.43990572e-04,  9.99999876e-01]),\n",
       " 2.0)"
      ]
     },
     "execution_count": 849,
     "metadata": {},
     "output_type": "execute_result"
    }
   ],
   "source": [
    "calculated_b_normalized = estimated_b / np.linalg.norm(estimated_b)\n",
    "b_true_normalized = b_true / np.linalg.norm(b_true)\n",
    "diff = calculated_b_normalized - b_true_normalized\n",
    "calculated_b_normalized, b_true_normalized, np.linalg.norm(diff)"
   ]
  },
  {
   "cell_type": "markdown",
   "metadata": {},
   "source": [
    "## Ex 4.7"
   ]
  },
  {
   "cell_type": "code",
   "execution_count": 850,
   "metadata": {},
   "outputs": [],
   "source": [
    "# import numpy as np\n",
    "\n",
    "# A = np.array([[4, 1], [1, 4]])\n",
    "# eigenvalues, U = np.linalg.eigh(A)  # eigh is for symmetric matrices\n",
    "# D = np.diag(eigenvalues)\n",
    "# A_reconstructed = U @ D @ U.T\n",
    "# A, A_reconstructed"
   ]
  },
  {
   "cell_type": "code",
   "execution_count": 851,
   "metadata": {},
   "outputs": [],
   "source": [
    "def estimateInstrinsics(Hs: np.array):\n",
    "    \"\"\"\n",
    "    Estimate intrinsics from a list of homographies\n",
    "    Args:\n",
    "        Hs (np.array): list of homographies\n",
    "\n",
    "    Return:\n",
    "        K (np.array): Intrinsics matrix from homographies\n",
    "    \"\"\"\n",
    "    estimated_b = estimate_b(Hs)\n",
    "    B11, B12, B22, B13, B23, B33 = (\n",
    "        estimated_b[0],\n",
    "        estimated_b[1],\n",
    "        estimated_b[2],\n",
    "        estimated_b[3],\n",
    "        estimated_b[4],\n",
    "        estimated_b[5],\n",
    "    )\n",
    "    vo = (B12 * B13 - B11 * B23) / (B11 * B22 - B12**2)\n",
    "    lamb = B33 - (B13**2 + vo * (B12 * B13 - B11 * B23)) / B11\n",
    "    alpha =  np.sqrt(lamb / B11)\n",
    "    beta = math.sqrt((lamb * B11) / (B11 * B22 - B12**2))\n",
    "    gamma = - (B12 * alpha * alpha * beta) / lamb\n",
    "    u_o  = ((gamma * vo) / beta) - ((B13 * alpha * alpha) / lamb)\n",
    "    K = np.array([[alpha, gamma, u_o],\n",
    "                  [0, beta, vo],\n",
    "                  [0, 0, 1]])\n",
    "    return K"
   ]
  },
  {
   "cell_type": "code",
   "execution_count": 852,
   "metadata": {},
   "outputs": [
    {
     "data": {
      "text/plain": [
       "(array([[1.00000000e+03, 1.65852535e-10, 9.60000000e+02],\n",
       "        [0.00000000e+00, 1.00000000e+03, 5.40000000e+02],\n",
       "        [0.00000000e+00, 0.00000000e+00, 1.00000000e+00]]),\n",
       " array([[1000,    0,  960],\n",
       "        [   0, 1000,  540],\n",
       "        [   0,    0,    1]]))"
      ]
     },
     "execution_count": 852,
     "metadata": {},
     "output_type": "execute_result"
    }
   ],
   "source": [
    "estimateInstrinsics(H_all), K"
   ]
  },
  {
   "cell_type": "markdown",
   "metadata": {},
   "source": [
    "## Ex 4.8"
   ]
  },
  {
   "cell_type": "code",
   "execution_count": 853,
   "metadata": {},
   "outputs": [
    {
     "name": "stdout",
     "output_type": "stream",
     "text": [
      "[ 7.07106781e-01  7.07106781e-01 -2.89708802e-12] [-0.67249851  0.67249851  0.30901699] [ 0.21850801 -0.21850801  0.95105652]\n",
      "[[ 7.07106781e-01 -6.72498512e-01  2.18508012e-01]\n",
      " [ 7.07106781e-01  6.72498512e-01 -2.18508012e-01]\n",
      " [-2.89708802e-12  3.09016994e-01  9.51056516e-01]]\n"
     ]
    }
   ],
   "source": [
    "homography = H_all[0, :, :]\n",
    "h1 = homography[:, 0]\n",
    "h2 = homography[:, 1]\n",
    "h3 = homography[:, 2]\n",
    "lamb = 1 / np.linalg.norm(np.linalg.inv(K) @ h1)\n",
    "r1 = (lamb * np.linalg.inv(K) @ h1)\n",
    "r2 = (lamb * np.linalg.inv(K) @ h2)\n",
    "r3 = np.cross(r1, r2)\n",
    "t = (lamb * np.linalg.inv(K) @ h3)\n",
    "R_test = np.hstack((r1.reshape(3, 1), r2.reshape(3, 1), r3.reshape(3, 1)))\n",
    "print(r1, r2, r3)\n",
    "print(R_test)"
   ]
  },
  {
   "cell_type": "code",
   "execution_count": 868,
   "metadata": {},
   "outputs": [],
   "source": [
    "def estimateExtrinsics(K: np.array, Hs: np.array):\n",
    "    \"\"\"\n",
    "    Estimate extrinsics of camera given intrinsics and a list of homographies obtained from different views of the calibration target\n",
    "    Args:\n",
    "        K (np.array): Intrinsic matrix\n",
    "        Hs (np.array): list of homographies\n",
    "\n",
    "    Return:\n",
    "        Rs (np.array): Rotations of the checkerboard from the camera in world plane\n",
    "        ts (np.array): Translations of the checkerboard from the camera in world plane\n",
    "    \"\"\"\n",
    "    num_views = Hs.shape[0]\n",
    "    Rs = []\n",
    "    ts = []\n",
    "    for i in range(num_views):\n",
    "        homography = Hs[i, :, :]\n",
    "        h1 = homography[:, 0]\n",
    "        h2 = homography[:, 1]\n",
    "        h3 = homography[:, 2]\n",
    "        # assert 1 / np.linalg.norm(np.linalg.inv(K) @ h1) == 1 / np.linalg.norm(\n",
    "        #     np.linalg.inv(K) @ h2\n",
    "        # )\n",
    "        lamb = 1 / np.linalg.norm(np.linalg.inv(K) @ h1)\n",
    "        r1 = (lamb * np.linalg.inv(K) @ h1)\n",
    "        r2 = (lamb * np.linalg.inv(K) @ h2)\n",
    "        r3 = np.cross(r1, r2)\n",
    "        t = (lamb * np.linalg.inv(K) @ h3)\n",
    "        R = np.hstack((r1.reshape(3, 1), r2.reshape(3, 1), r3.reshape(3, 1)))\n",
    "        assert R.shape == (3, 3)\n",
    "        if t[-1] < 0:\n",
    "            R *= -1\n",
    "            t *= -1\n",
    "        # print(R.T @ R, np.linalg.det(R))\n",
    "        Rs.append(R)\n",
    "        ts.append(t.reshape(3, 1))\n",
    "    Rs = np.stack(Rs)\n",
    "    ts = np.stack(ts)\n",
    "    return Rs, ts"
   ]
  },
  {
   "cell_type": "code",
   "execution_count": 867,
   "metadata": {},
   "outputs": [
    {
     "data": {
      "text/plain": [
       "array([[[ 1.        ,  0.        ,  0.        ],\n",
       "        [ 0.        ,  0.95105652, -0.30901699],\n",
       "        [ 0.        ,  0.30901699,  0.95105652]],\n",
       "\n",
       "       [[ 1.        ,  0.        ,  0.        ],\n",
       "        [ 0.        ,  1.        ,  0.        ],\n",
       "        [ 0.        ,  0.        ,  1.        ]],\n",
       "\n",
       "       [[ 1.        , -0.        ,  0.        ],\n",
       "        [ 0.        ,  0.95105652,  0.30901699],\n",
       "        [-0.        , -0.30901699,  0.95105652]]])"
      ]
     },
     "execution_count": 867,
     "metadata": {},
     "output_type": "execute_result"
    }
   ],
   "source": [
    "Rs, ts = estimateExtrinsics(K, H_all)\n",
    "Rs_true = np.array([R_a, R_b, R_c])\n",
    "Rs_true"
   ]
  },
  {
   "cell_type": "code",
   "execution_count": 865,
   "metadata": {},
   "outputs": [
    {
     "data": {
      "text/plain": [
       "(array([[ 7.07106781e-01, -6.72498512e-01,  2.18508012e-01],\n",
       "        [ 7.07106781e-01,  6.72498512e-01, -2.18508012e-01],\n",
       "        [ 1.57240444e-13, -3.09016994e-01, -9.51056516e-01]]),\n",
       " array([[ 1.        , -0.        ,  0.        ],\n",
       "        [ 0.        ,  0.95105652,  0.30901699],\n",
       "        [-0.        , -0.30901699,  0.95105652]]))"
      ]
     },
     "execution_count": 865,
     "metadata": {},
     "output_type": "execute_result"
    }
   ],
   "source": [
    "Rs[2], R_c"
   ]
  },
  {
   "cell_type": "code",
   "execution_count": 799,
   "metadata": {},
   "outputs": [],
   "source": [
    "def projectpoints(K: np.array, R: np.array, t: np.array, Q: np.array):\n",
    "    \"\"\"\n",
    "    Obtains projected 2D coordinates from world coordinates\n",
    "\n",
    "    Args:\n",
    "        K (np.array): intrinsics matrix\n",
    "        R (np.array): extrinsic rotation matrix\n",
    "        t (np.array): extrinsic translation matrix\n",
    "        Q (np.array): homogeneous input points in world coordinates\n",
    "\n",
    "    Return:\n",
    "        projected_points (np.array): projected 2D points in homogeneous coordinates\n",
    "    \"\"\"\n",
    "    # Projection matrix = K[R t] Q\n",
    "    extrinsics = np.concatenate((R, t), axis=1)\n",
    "    projected_points = K @ extrinsics @ Q\n",
    "    return projected_points"
   ]
  },
  {
   "cell_type": "code",
   "execution_count": 800,
   "metadata": {},
   "outputs": [],
   "source": [
    "def calibratecamera(qs: np.array, Q: np.array):\n",
    "    \"\"\"\n",
    "    Estimate camera intrinsics and extrinsics of camera\n",
    "        qs (np.array): a list of arrays, each element in the list containing 3D points projected to the image plane from different views\n",
    "        Q (np.array): Original un-transformed checkerboard points in 3D homogeneous coordinate\n",
    "\n",
    "    Return:\n",
    "        K (np.array): Estimated intrinsics\n",
    "        Rs (np.array): Rotations of the checkerboard from the camera in world plane\n",
    "        ts (np.array): Translations of the checkerboard from the camera in world plane\n",
    "    \"\"\"\n",
    "    if Q.shape[0] == 3:\n",
    "        Q = Piinv(Q)\n",
    "    H_all = estimateHomographies(Q, qs)\n",
    "    K = estimateInstrinsics(H_all)\n",
    "    Rs, ts = estimateExtrinsics(K, H_all)\n",
    "    return K, Rs, ts"
   ]
  },
  {
   "cell_type": "code",
   "execution_count": 801,
   "metadata": {},
   "outputs": [
    {
     "data": {
      "text/plain": [
       "((3, 3), (3, 3, 3), (3, 3, 1))"
      ]
     },
     "execution_count": 801,
     "metadata": {},
     "output_type": "execute_result"
    }
   ],
   "source": [
    "Rs, ts = estimateExtrinsics(K, H_all)\n",
    "K_estimated, Rs_estimated, ts_estimated = calibratecamera(qs, Q_omega)\n",
    "assert K.all() == K_estimated.all() and Rs.all() == Rs_estimated.all() and ts.all() == ts_estimated.all()\n",
    "K_estimated.shape, Rs_estimated.shape, ts_estimated.shape"
   ]
  },
  {
   "cell_type": "code",
   "execution_count": 802,
   "metadata": {},
   "outputs": [
    {
     "name": "stdout",
     "output_type": "stream",
     "text": [
      "P_estimated is:\n",
      " [[ 7.07106781e+02 -3.75842197e+02  1.13152227e+03  9.60000000e+03]\n",
      " [ 7.07106781e+02  8.39367689e+02  2.95062507e+02  5.40000000e+03]\n",
      " [-2.89708802e-12  3.09016994e-01  9.51056516e-01  1.00000000e+01]]\n",
      "\n",
      "P actual is:\n",
      " [[ 7.07106781e+02 -7.07106781e+02  9.60000000e+02  9.60000000e+03]\n",
      " [ 7.07106781e+02  7.07106781e+02  5.40000000e+02  5.40000000e+03]\n",
      " [ 0.00000000e+00  0.00000000e+00  1.00000000e+00  1.00000000e+01]]\n",
      "\n",
      "P_estimated is:\n",
      " [[ 7.07106781e+02 -7.07106781e+02  9.60000000e+02  9.60000000e+03]\n",
      " [ 7.07106781e+02  7.07106781e+02  5.40000000e+02  5.40000000e+03]\n",
      " [-1.29436826e-13 -9.25709844e-14  1.00000000e+00  1.00000000e+01]]\n",
      "\n",
      "P actual is:\n",
      " [[ 7.07106781e+02 -7.07106781e+02  9.60000000e+02  9.60000000e+03]\n",
      " [ 7.07106781e+02  7.07106781e+02  5.40000000e+02  5.40000000e+03]\n",
      " [ 0.00000000e+00  0.00000000e+00  1.00000000e+00  1.00000000e+01]]\n",
      "\n",
      "P_estimated is:\n",
      " [[ 7.07106781e+02 -9.69154827e+02 -6.94506243e+02  9.60000000e+03]\n",
      " [ 7.07106781e+02  5.05629335e+02 -7.32078531e+02  5.40000000e+03]\n",
      " [ 1.57240444e-13 -3.09016994e-01 -9.51056516e-01  1.00000000e+01]]\n",
      "\n",
      "P actual is:\n",
      " [[ 7.07106781e+02 -7.07106781e+02  9.60000000e+02  9.60000000e+03]\n",
      " [ 7.07106781e+02  7.07106781e+02  5.40000000e+02  5.40000000e+03]\n",
      " [ 0.00000000e+00  0.00000000e+00  1.00000000e+00  1.00000000e+01]]\n",
      "\n"
     ]
    }
   ],
   "source": [
    "Q_uwu = np.stack([Q_a, Q_b, Q_c], axis=0)\n",
    "num_views = Q_uwu.shape[0]\n",
    "for i in range(num_views):\n",
    "    uwu_point = Q_uwu[i, :, :]\n",
    "    if uwu_point.shape[0] == 3:\n",
    "        uwu_point = Piinv(uwu_point)\n",
    "    R = Rs_estimated[i, :, :]\n",
    "    t = ts_estimated[i, :]\n",
    "    extrinsics = np.concatenate((R, t), axis=1)\n",
    "    P_estimated = K_estimated @ extrinsics\n",
    "    print(f\"P_estimated is:\\n {P_estimated}\\n\")\n",
    "    print(f\"P actual is:\\n {P}\\n\")"
   ]
  },
  {
   "cell_type": "code",
   "execution_count": 872,
   "metadata": {},
   "outputs": [
    {
     "name": "stdout",
     "output_type": "stream",
     "text": [
      "(3, 200) (3, 200)\n",
      "Projection error is 2176.4115058779707\n",
      "(3, 200) (3, 200)\n",
      "Projection error is 1.273277808242263e-09\n",
      "(3, 200) (3, 200)\n",
      "Projection error is 2273.025171065183\n"
     ]
    }
   ],
   "source": [
    "Q_uwu = np.stack([Q_a, Q_b, Q_c], axis=0)\n",
    "num_views = Q_uwu.shape[0]\n",
    "for i in range(num_views):\n",
    "    uwu_point = Q_uwu[i, :, :]\n",
    "    if uwu_point.shape[0] == 3:\n",
    "        uwu_point = Piinv(uwu_point)\n",
    "    R = Rs[i, :, : ]\n",
    "    t = ts[i, :]\n",
    "    uwu_2d = projectpoints(K, R, t, uwu_point)\n",
    "    ground_truth = qs[i, :, :]\n",
    "    print(uwu_2d.shape, ground_truth.shape)\n",
    "    projection_error = np.linalg.norm(Pi(uwu_2d) - Pi(ground_truth))\n",
    "    print(f\"Projection error is {projection_error}\")\n",
    "    \n",
    "    "
   ]
  }
 ],
 "metadata": {
  "kernelspec": {
   "display_name": "usr",
   "language": "python",
   "name": "python3"
  },
  "language_info": {
   "codemirror_mode": {
    "name": "ipython",
    "version": 3
   },
   "file_extension": ".py",
   "mimetype": "text/x-python",
   "name": "python",
   "nbconvert_exporter": "python",
   "pygments_lexer": "ipython3",
   "version": "3.10.12"
  }
 },
 "nbformat": 4,
 "nbformat_minor": 2
}
